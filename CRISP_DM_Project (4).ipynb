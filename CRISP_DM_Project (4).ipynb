{
  "nbformat": 4,
  "nbformat_minor": 0,
  "metadata": {
    "colab": {
      "provenance": [],
      "collapsed_sections": []
    },
    "kernelspec": {
      "name": "python3",
      "display_name": "Python 3"
    },
    "language_info": {
      "name": "python"
    }
  },
  "cells": [
    {
      "cell_type": "markdown",
      "source": [
        "# **Importing libraries**\n",
        "\n",
        "---\n",
        "\n"
      ],
      "metadata": {
        "id": "x1Z-XMa43TFk"
      }
    },
    {
      "cell_type": "code",
      "execution_count": null,
      "metadata": {
        "id": "sr_xDQnDjNYW"
      },
      "outputs": [],
      "source": [
        "import pandas as pd\n",
        "import matplotlib.pyplot as plt\n",
        "import numpy as np\n",
        "import seaborn as sns"
      ]
    },
    {
      "cell_type": "code",
      "source": [
        "from google.colab import drive\n",
        "drive.mount('/content/drive')"
      ],
      "metadata": {
        "colab": {
          "base_uri": "https://localhost:8080/"
        },
        "id": "TP0iXptpIGaj",
        "outputId": "d7056990-47a5-4cd1-eb81-48da715e7f3b"
      },
      "execution_count": null,
      "outputs": [
        {
          "output_type": "stream",
          "name": "stdout",
          "text": [
            "Mounted at /content/drive\n"
          ]
        }
      ]
    },
    {
      "cell_type": "markdown",
      "source": [
        "# **Importing Data**\n",
        "\n",
        "---\n",
        "\n",
        "\n",
        "\n"
      ],
      "metadata": {
        "id": "J6h1lFlNYmus"
      }
    },
    {
      "cell_type": "code",
      "source": [
        "df = pd.read_csv(\"/content/drive/MyDrive/data/centre.csv\")"
      ],
      "metadata": {
        "id": "6zDV8knQkugM",
        "colab": {
          "base_uri": "https://localhost:8080/",
          "height": 329
        },
        "outputId": "ed80e6cf-efd0-4c8d-e9ce-a8eba65384da"
      },
      "execution_count": null,
      "outputs": [
        {
          "output_type": "error",
          "ename": "OSError",
          "evalue": "ignored",
          "traceback": [
            "\u001b[0;31m---------------------------------------------------------------------------\u001b[0m",
            "\u001b[0;31mOSError\u001b[0m                                   Traceback (most recent call last)",
            "\u001b[0;32m<ipython-input-5-588f4c165d42>\u001b[0m in \u001b[0;36m<module>\u001b[0;34m()\u001b[0m\n\u001b[0;32m----> 1\u001b[0;31m \u001b[0mdf\u001b[0m \u001b[0;34m=\u001b[0m \u001b[0mpd\u001b[0m\u001b[0;34m.\u001b[0m\u001b[0mread_csv\u001b[0m\u001b[0;34m(\u001b[0m\u001b[0;34m\"/content/drive/MyDrive/data/centre.csv\"\u001b[0m\u001b[0;34m)\u001b[0m\u001b[0;34m\u001b[0m\u001b[0;34m\u001b[0m\u001b[0m\n\u001b[0m",
            "\u001b[0;32m/usr/local/lib/python3.7/dist-packages/pandas/util/_decorators.py\u001b[0m in \u001b[0;36mwrapper\u001b[0;34m(*args, **kwargs)\u001b[0m\n\u001b[1;32m    309\u001b[0m                     \u001b[0mstacklevel\u001b[0m\u001b[0;34m=\u001b[0m\u001b[0mstacklevel\u001b[0m\u001b[0;34m,\u001b[0m\u001b[0;34m\u001b[0m\u001b[0;34m\u001b[0m\u001b[0m\n\u001b[1;32m    310\u001b[0m                 )\n\u001b[0;32m--> 311\u001b[0;31m             \u001b[0;32mreturn\u001b[0m \u001b[0mfunc\u001b[0m\u001b[0;34m(\u001b[0m\u001b[0;34m*\u001b[0m\u001b[0margs\u001b[0m\u001b[0;34m,\u001b[0m \u001b[0;34m**\u001b[0m\u001b[0mkwargs\u001b[0m\u001b[0;34m)\u001b[0m\u001b[0;34m\u001b[0m\u001b[0;34m\u001b[0m\u001b[0m\n\u001b[0m\u001b[1;32m    312\u001b[0m \u001b[0;34m\u001b[0m\u001b[0m\n\u001b[1;32m    313\u001b[0m         \u001b[0;32mreturn\u001b[0m \u001b[0mwrapper\u001b[0m\u001b[0;34m\u001b[0m\u001b[0;34m\u001b[0m\u001b[0m\n",
            "\u001b[0;32m/usr/local/lib/python3.7/dist-packages/pandas/io/parsers/readers.py\u001b[0m in \u001b[0;36mread_csv\u001b[0;34m(filepath_or_buffer, sep, delimiter, header, names, index_col, usecols, squeeze, prefix, mangle_dupe_cols, dtype, engine, converters, true_values, false_values, skipinitialspace, skiprows, skipfooter, nrows, na_values, keep_default_na, na_filter, verbose, skip_blank_lines, parse_dates, infer_datetime_format, keep_date_col, date_parser, dayfirst, cache_dates, iterator, chunksize, compression, thousands, decimal, lineterminator, quotechar, quoting, doublequote, escapechar, comment, encoding, encoding_errors, dialect, error_bad_lines, warn_bad_lines, on_bad_lines, delim_whitespace, low_memory, memory_map, float_precision, storage_options)\u001b[0m\n\u001b[1;32m    584\u001b[0m     \u001b[0mkwds\u001b[0m\u001b[0;34m.\u001b[0m\u001b[0mupdate\u001b[0m\u001b[0;34m(\u001b[0m\u001b[0mkwds_defaults\u001b[0m\u001b[0;34m)\u001b[0m\u001b[0;34m\u001b[0m\u001b[0;34m\u001b[0m\u001b[0m\n\u001b[1;32m    585\u001b[0m \u001b[0;34m\u001b[0m\u001b[0m\n\u001b[0;32m--> 586\u001b[0;31m     \u001b[0;32mreturn\u001b[0m \u001b[0m_read\u001b[0m\u001b[0;34m(\u001b[0m\u001b[0mfilepath_or_buffer\u001b[0m\u001b[0;34m,\u001b[0m \u001b[0mkwds\u001b[0m\u001b[0;34m)\u001b[0m\u001b[0;34m\u001b[0m\u001b[0;34m\u001b[0m\u001b[0m\n\u001b[0m\u001b[1;32m    587\u001b[0m \u001b[0;34m\u001b[0m\u001b[0m\n\u001b[1;32m    588\u001b[0m \u001b[0;34m\u001b[0m\u001b[0m\n",
            "\u001b[0;32m/usr/local/lib/python3.7/dist-packages/pandas/io/parsers/readers.py\u001b[0m in \u001b[0;36m_read\u001b[0;34m(filepath_or_buffer, kwds)\u001b[0m\n\u001b[1;32m    480\u001b[0m \u001b[0;34m\u001b[0m\u001b[0m\n\u001b[1;32m    481\u001b[0m     \u001b[0;31m# Create the parser.\u001b[0m\u001b[0;34m\u001b[0m\u001b[0;34m\u001b[0m\u001b[0;34m\u001b[0m\u001b[0m\n\u001b[0;32m--> 482\u001b[0;31m     \u001b[0mparser\u001b[0m \u001b[0;34m=\u001b[0m \u001b[0mTextFileReader\u001b[0m\u001b[0;34m(\u001b[0m\u001b[0mfilepath_or_buffer\u001b[0m\u001b[0;34m,\u001b[0m \u001b[0;34m**\u001b[0m\u001b[0mkwds\u001b[0m\u001b[0;34m)\u001b[0m\u001b[0;34m\u001b[0m\u001b[0;34m\u001b[0m\u001b[0m\n\u001b[0m\u001b[1;32m    483\u001b[0m \u001b[0;34m\u001b[0m\u001b[0m\n\u001b[1;32m    484\u001b[0m     \u001b[0;32mif\u001b[0m \u001b[0mchunksize\u001b[0m \u001b[0;32mor\u001b[0m \u001b[0miterator\u001b[0m\u001b[0;34m:\u001b[0m\u001b[0;34m\u001b[0m\u001b[0;34m\u001b[0m\u001b[0m\n",
            "\u001b[0;32m/usr/local/lib/python3.7/dist-packages/pandas/io/parsers/readers.py\u001b[0m in \u001b[0;36m__init__\u001b[0;34m(self, f, engine, **kwds)\u001b[0m\n\u001b[1;32m    809\u001b[0m             \u001b[0mself\u001b[0m\u001b[0;34m.\u001b[0m\u001b[0moptions\u001b[0m\u001b[0;34m[\u001b[0m\u001b[0;34m\"has_index_names\"\u001b[0m\u001b[0;34m]\u001b[0m \u001b[0;34m=\u001b[0m \u001b[0mkwds\u001b[0m\u001b[0;34m[\u001b[0m\u001b[0;34m\"has_index_names\"\u001b[0m\u001b[0;34m]\u001b[0m\u001b[0;34m\u001b[0m\u001b[0;34m\u001b[0m\u001b[0m\n\u001b[1;32m    810\u001b[0m \u001b[0;34m\u001b[0m\u001b[0m\n\u001b[0;32m--> 811\u001b[0;31m         \u001b[0mself\u001b[0m\u001b[0;34m.\u001b[0m\u001b[0m_engine\u001b[0m \u001b[0;34m=\u001b[0m \u001b[0mself\u001b[0m\u001b[0;34m.\u001b[0m\u001b[0m_make_engine\u001b[0m\u001b[0;34m(\u001b[0m\u001b[0mself\u001b[0m\u001b[0;34m.\u001b[0m\u001b[0mengine\u001b[0m\u001b[0;34m)\u001b[0m\u001b[0;34m\u001b[0m\u001b[0;34m\u001b[0m\u001b[0m\n\u001b[0m\u001b[1;32m    812\u001b[0m \u001b[0;34m\u001b[0m\u001b[0m\n\u001b[1;32m    813\u001b[0m     \u001b[0;32mdef\u001b[0m \u001b[0mclose\u001b[0m\u001b[0;34m(\u001b[0m\u001b[0mself\u001b[0m\u001b[0;34m)\u001b[0m\u001b[0;34m:\u001b[0m\u001b[0;34m\u001b[0m\u001b[0;34m\u001b[0m\u001b[0m\n",
            "\u001b[0;32m/usr/local/lib/python3.7/dist-packages/pandas/io/parsers/readers.py\u001b[0m in \u001b[0;36m_make_engine\u001b[0;34m(self, engine)\u001b[0m\n\u001b[1;32m   1038\u001b[0m             )\n\u001b[1;32m   1039\u001b[0m         \u001b[0;31m# error: Too many arguments for \"ParserBase\"\u001b[0m\u001b[0;34m\u001b[0m\u001b[0;34m\u001b[0m\u001b[0;34m\u001b[0m\u001b[0m\n\u001b[0;32m-> 1040\u001b[0;31m         \u001b[0;32mreturn\u001b[0m \u001b[0mmapping\u001b[0m\u001b[0;34m[\u001b[0m\u001b[0mengine\u001b[0m\u001b[0;34m]\u001b[0m\u001b[0;34m(\u001b[0m\u001b[0mself\u001b[0m\u001b[0;34m.\u001b[0m\u001b[0mf\u001b[0m\u001b[0;34m,\u001b[0m \u001b[0;34m**\u001b[0m\u001b[0mself\u001b[0m\u001b[0;34m.\u001b[0m\u001b[0moptions\u001b[0m\u001b[0;34m)\u001b[0m  \u001b[0;31m# type: ignore[call-arg]\u001b[0m\u001b[0;34m\u001b[0m\u001b[0;34m\u001b[0m\u001b[0m\n\u001b[0m\u001b[1;32m   1041\u001b[0m \u001b[0;34m\u001b[0m\u001b[0m\n\u001b[1;32m   1042\u001b[0m     \u001b[0;32mdef\u001b[0m \u001b[0m_failover_to_python\u001b[0m\u001b[0;34m(\u001b[0m\u001b[0mself\u001b[0m\u001b[0;34m)\u001b[0m\u001b[0;34m:\u001b[0m\u001b[0;34m\u001b[0m\u001b[0;34m\u001b[0m\u001b[0m\n",
            "\u001b[0;32m/usr/local/lib/python3.7/dist-packages/pandas/io/parsers/c_parser_wrapper.py\u001b[0m in \u001b[0;36m__init__\u001b[0;34m(self, src, **kwds)\u001b[0m\n\u001b[1;32m     49\u001b[0m \u001b[0;34m\u001b[0m\u001b[0m\n\u001b[1;32m     50\u001b[0m         \u001b[0;31m# open handles\u001b[0m\u001b[0;34m\u001b[0m\u001b[0;34m\u001b[0m\u001b[0;34m\u001b[0m\u001b[0m\n\u001b[0;32m---> 51\u001b[0;31m         \u001b[0mself\u001b[0m\u001b[0;34m.\u001b[0m\u001b[0m_open_handles\u001b[0m\u001b[0;34m(\u001b[0m\u001b[0msrc\u001b[0m\u001b[0;34m,\u001b[0m \u001b[0mkwds\u001b[0m\u001b[0;34m)\u001b[0m\u001b[0;34m\u001b[0m\u001b[0;34m\u001b[0m\u001b[0m\n\u001b[0m\u001b[1;32m     52\u001b[0m         \u001b[0;32massert\u001b[0m \u001b[0mself\u001b[0m\u001b[0;34m.\u001b[0m\u001b[0mhandles\u001b[0m \u001b[0;32mis\u001b[0m \u001b[0;32mnot\u001b[0m \u001b[0;32mNone\u001b[0m\u001b[0;34m\u001b[0m\u001b[0;34m\u001b[0m\u001b[0m\n\u001b[1;32m     53\u001b[0m \u001b[0;34m\u001b[0m\u001b[0m\n",
            "\u001b[0;32m/usr/local/lib/python3.7/dist-packages/pandas/io/parsers/base_parser.py\u001b[0m in \u001b[0;36m_open_handles\u001b[0;34m(self, src, kwds)\u001b[0m\n\u001b[1;32m    227\u001b[0m             \u001b[0mmemory_map\u001b[0m\u001b[0;34m=\u001b[0m\u001b[0mkwds\u001b[0m\u001b[0;34m.\u001b[0m\u001b[0mget\u001b[0m\u001b[0;34m(\u001b[0m\u001b[0;34m\"memory_map\"\u001b[0m\u001b[0;34m,\u001b[0m \u001b[0;32mFalse\u001b[0m\u001b[0;34m)\u001b[0m\u001b[0;34m,\u001b[0m\u001b[0;34m\u001b[0m\u001b[0;34m\u001b[0m\u001b[0m\n\u001b[1;32m    228\u001b[0m             \u001b[0mstorage_options\u001b[0m\u001b[0;34m=\u001b[0m\u001b[0mkwds\u001b[0m\u001b[0;34m.\u001b[0m\u001b[0mget\u001b[0m\u001b[0;34m(\u001b[0m\u001b[0;34m\"storage_options\"\u001b[0m\u001b[0;34m,\u001b[0m \u001b[0;32mNone\u001b[0m\u001b[0;34m)\u001b[0m\u001b[0;34m,\u001b[0m\u001b[0;34m\u001b[0m\u001b[0;34m\u001b[0m\u001b[0m\n\u001b[0;32m--> 229\u001b[0;31m             \u001b[0merrors\u001b[0m\u001b[0;34m=\u001b[0m\u001b[0mkwds\u001b[0m\u001b[0;34m.\u001b[0m\u001b[0mget\u001b[0m\u001b[0;34m(\u001b[0m\u001b[0;34m\"encoding_errors\"\u001b[0m\u001b[0;34m,\u001b[0m \u001b[0;34m\"strict\"\u001b[0m\u001b[0;34m)\u001b[0m\u001b[0;34m,\u001b[0m\u001b[0;34m\u001b[0m\u001b[0;34m\u001b[0m\u001b[0m\n\u001b[0m\u001b[1;32m    230\u001b[0m         )\n\u001b[1;32m    231\u001b[0m \u001b[0;34m\u001b[0m\u001b[0m\n",
            "\u001b[0;32m/usr/local/lib/python3.7/dist-packages/pandas/io/common.py\u001b[0m in \u001b[0;36mget_handle\u001b[0;34m(path_or_buf, mode, encoding, compression, memory_map, is_text, errors, storage_options)\u001b[0m\n\u001b[1;32m    705\u001b[0m                 \u001b[0mencoding\u001b[0m\u001b[0;34m=\u001b[0m\u001b[0mioargs\u001b[0m\u001b[0;34m.\u001b[0m\u001b[0mencoding\u001b[0m\u001b[0;34m,\u001b[0m\u001b[0;34m\u001b[0m\u001b[0;34m\u001b[0m\u001b[0m\n\u001b[1;32m    706\u001b[0m                 \u001b[0merrors\u001b[0m\u001b[0;34m=\u001b[0m\u001b[0merrors\u001b[0m\u001b[0;34m,\u001b[0m\u001b[0;34m\u001b[0m\u001b[0;34m\u001b[0m\u001b[0m\n\u001b[0;32m--> 707\u001b[0;31m                 \u001b[0mnewline\u001b[0m\u001b[0;34m=\u001b[0m\u001b[0;34m\"\"\u001b[0m\u001b[0;34m,\u001b[0m\u001b[0;34m\u001b[0m\u001b[0;34m\u001b[0m\u001b[0m\n\u001b[0m\u001b[1;32m    708\u001b[0m             )\n\u001b[1;32m    709\u001b[0m         \u001b[0;32melse\u001b[0m\u001b[0;34m:\u001b[0m\u001b[0;34m\u001b[0m\u001b[0;34m\u001b[0m\u001b[0m\n",
            "\u001b[0;31mOSError\u001b[0m: [Errno 107] Transport endpoint is not connected: '/content/drive/MyDrive/data/centre.csv'"
          ]
        }
      ]
    },
    {
      "cell_type": "markdown",
      "source": [
        "# **Business understanding**\n",
        "\n",
        "---\n",
        "\n"
      ],
      "metadata": {
        "id": "X60_OWrQKuNs"
      }
    },
    {
      "cell_type": "markdown",
      "source": [
        "\n",
        "> It's business that wants to use Vibration analysis in order to look for problems and anomalies in their machines. They want to implement a predictive analysis by studying the variation of amplitude of an object in motion. The goal is to gain key insights into the health of equipment.\n",
        "\n"
      ],
      "metadata": {
        "id": "hF6hMU8yM8TB"
      }
    },
    {
      "cell_type": "markdown",
      "source": [],
      "metadata": {
        "id": "1yeC8JmJkSEe"
      }
    },
    {
      "cell_type": "markdown",
      "source": [
        "![crisp_dm.png](data:image/png;base64,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)"
      ],
      "metadata": {
        "id": "X0GebAzHLCe7"
      }
    },
    {
      "cell_type": "markdown",
      "source": [
        "# **Data Understanding**\n",
        "\n",
        "---\n",
        "\n"
      ],
      "metadata": {
        "id": "gEPUXMPPY5UG"
      }
    },
    {
      "cell_type": "markdown",
      "source": [
        "\n",
        "> Using the \"vibration_dataset\" we're going use the CRISP-DM method to understand the data. "
      ],
      "metadata": {
        "id": "YODho8KQ3sfG"
      }
    },
    {
      "cell_type": "code",
      "source": [
        "df.head(10)"
      ],
      "metadata": {
        "colab": {
          "base_uri": "https://localhost:8080/",
          "height": 363
        },
        "id": "EWvdr7-kl79s",
        "outputId": "360a4907-6aab-4568-df7e-7d1d62f018e5"
      },
      "execution_count": null,
      "outputs": [
        {
          "output_type": "execute_result",
          "data": {
            "text/plain": [
              "   Unnamed: 0  pos                                                  g  \\\n",
              "0           1  P1V  [-0.16512878645751894, 0.04998307178737588, -0...   \n",
              "1           2  P1H  [-0.042161579465260245, 0.021362479328271962, ...   \n",
              "2           3  P2V  [-0.1349568120102025, 0.23669171459765884, 0.0...   \n",
              "3           4  P2A  [0.12349800107774804, 0.25274141834206476, 0.2...   \n",
              "4           5  P1V  [0.021572814759439424, 0.08107507627351192, 0....   \n",
              "5           6  P1H  [0.021332648423401317, -0.009386762506474392, ...   \n",
              "6           7  P2V  [0.07477511361537875, 0.039989785744177435, 0....   \n",
              "7           8  P2A  [0.10295831882804733, 0.16743625856980135, 0.1...   \n",
              "8           9  P1V  [-0.10815052227518294, 0.2034304270971226, -0....   \n",
              "9          10  P1H  [0.030844485392866883, 0.11378154507136054, 0....   \n",
              "\n",
              "                                                fftg  \\\n",
              "0  [0.0006586228415304686, 0.0008392442605411405,...   \n",
              "1  [0.0006843542482240162, 0.0008895457854118105,...   \n",
              "2  [0.0006736708035253035, 0.0008349143002841891,...   \n",
              "3  [0.0008922086829811786, 0.0012222498163517285,...   \n",
              "4  [0.0003683865447006467, 0.00046141507219113866...   \n",
              "5  [0.0003587953667600207, 0.0004338874040284539,...   \n",
              "6  [0.0003661202223679352, 0.0003890454659570795,...   \n",
              "7  [0.000355501074240803, 0.00046823194169781434,...   \n",
              "8  [0.00039617187637922094, 0.0004439483666090007...   \n",
              "9  [0.0004038273964523287, 0.0005392493614174257,...   \n",
              "\n",
              "                                                fftv       F     C  \n",
              "0  [0.0, 0.0, 0.0, 0.0, 0.0, 0.0, 0.2966064382657...  Normal  None  \n",
              "1  [0.0, 0.0, 0.0, 0.0, 0.0, 0.0, 0.4527706580487...  Normal  None  \n",
              "2  [0.0, 0.0, 0.0, 0.0, 0.0, 0.0, 0.3385470510031...  Normal  None  \n",
              "3  [0.0, 0.0, 0.0, 0.0, 0.0, 0.0, 0.5506433760599...  Normal  None  \n",
              "4  [0.0, 0.0, 0.0, 0.0, 0.0, 0.0, 0.2025792082014...  Normal  None  \n",
              "5  [0.0, 0.0, 0.0, 0.0, 0.0, 0.0, 0.1240063188205...  Normal  None  \n",
              "6  [0.0, 0.0, 0.0, 0.0, 0.0, 0.0, 0.1218960012000...  Normal  None  \n",
              "7  [0.0, 0.0, 0.0, 0.0, 0.0, 0.0, 0.2145922611359...  Normal  None  \n",
              "8  [0.0, 0.0, 0.0, 0.0, 0.0, 0.0, 0.1738320066407...  Normal  None  \n",
              "9  [0.0, 0.0, 0.0, 0.0, 0.0, 0.0, 0.2250162351956...  Normal  None  "
            ],
            "text/html": [
              "\n",
              "  <div id=\"df-9677f4ce-637b-41f8-910f-d69960746839\">\n",
              "    <div class=\"colab-df-container\">\n",
              "      <div>\n",
              "<style scoped>\n",
              "    .dataframe tbody tr th:only-of-type {\n",
              "        vertical-align: middle;\n",
              "    }\n",
              "\n",
              "    .dataframe tbody tr th {\n",
              "        vertical-align: top;\n",
              "    }\n",
              "\n",
              "    .dataframe thead th {\n",
              "        text-align: right;\n",
              "    }\n",
              "</style>\n",
              "<table border=\"1\" class=\"dataframe\">\n",
              "  <thead>\n",
              "    <tr style=\"text-align: right;\">\n",
              "      <th></th>\n",
              "      <th>Unnamed: 0</th>\n",
              "      <th>pos</th>\n",
              "      <th>g</th>\n",
              "      <th>fftg</th>\n",
              "      <th>fftv</th>\n",
              "      <th>F</th>\n",
              "      <th>C</th>\n",
              "    </tr>\n",
              "  </thead>\n",
              "  <tbody>\n",
              "    <tr>\n",
              "      <th>0</th>\n",
              "      <td>1</td>\n",
              "      <td>P1V</td>\n",
              "      <td>[-0.16512878645751894, 0.04998307178737588, -0...</td>\n",
              "      <td>[0.0006586228415304686, 0.0008392442605411405,...</td>\n",
              "      <td>[0.0, 0.0, 0.0, 0.0, 0.0, 0.0, 0.2966064382657...</td>\n",
              "      <td>Normal</td>\n",
              "      <td>None</td>\n",
              "    </tr>\n",
              "    <tr>\n",
              "      <th>1</th>\n",
              "      <td>2</td>\n",
              "      <td>P1H</td>\n",
              "      <td>[-0.042161579465260245, 0.021362479328271962, ...</td>\n",
              "      <td>[0.0006843542482240162, 0.0008895457854118105,...</td>\n",
              "      <td>[0.0, 0.0, 0.0, 0.0, 0.0, 0.0, 0.4527706580487...</td>\n",
              "      <td>Normal</td>\n",
              "      <td>None</td>\n",
              "    </tr>\n",
              "    <tr>\n",
              "      <th>2</th>\n",
              "      <td>3</td>\n",
              "      <td>P2V</td>\n",
              "      <td>[-0.1349568120102025, 0.23669171459765884, 0.0...</td>\n",
              "      <td>[0.0006736708035253035, 0.0008349143002841891,...</td>\n",
              "      <td>[0.0, 0.0, 0.0, 0.0, 0.0, 0.0, 0.3385470510031...</td>\n",
              "      <td>Normal</td>\n",
              "      <td>None</td>\n",
              "    </tr>\n",
              "    <tr>\n",
              "      <th>3</th>\n",
              "      <td>4</td>\n",
              "      <td>P2A</td>\n",
              "      <td>[0.12349800107774804, 0.25274141834206476, 0.2...</td>\n",
              "      <td>[0.0008922086829811786, 0.0012222498163517285,...</td>\n",
              "      <td>[0.0, 0.0, 0.0, 0.0, 0.0, 0.0, 0.5506433760599...</td>\n",
              "      <td>Normal</td>\n",
              "      <td>None</td>\n",
              "    </tr>\n",
              "    <tr>\n",
              "      <th>4</th>\n",
              "      <td>5</td>\n",
              "      <td>P1V</td>\n",
              "      <td>[0.021572814759439424, 0.08107507627351192, 0....</td>\n",
              "      <td>[0.0003683865447006467, 0.00046141507219113866...</td>\n",
              "      <td>[0.0, 0.0, 0.0, 0.0, 0.0, 0.0, 0.2025792082014...</td>\n",
              "      <td>Normal</td>\n",
              "      <td>None</td>\n",
              "    </tr>\n",
              "    <tr>\n",
              "      <th>5</th>\n",
              "      <td>6</td>\n",
              "      <td>P1H</td>\n",
              "      <td>[0.021332648423401317, -0.009386762506474392, ...</td>\n",
              "      <td>[0.0003587953667600207, 0.0004338874040284539,...</td>\n",
              "      <td>[0.0, 0.0, 0.0, 0.0, 0.0, 0.0, 0.1240063188205...</td>\n",
              "      <td>Normal</td>\n",
              "      <td>None</td>\n",
              "    </tr>\n",
              "    <tr>\n",
              "      <th>6</th>\n",
              "      <td>7</td>\n",
              "      <td>P2V</td>\n",
              "      <td>[0.07477511361537875, 0.039989785744177435, 0....</td>\n",
              "      <td>[0.0003661202223679352, 0.0003890454659570795,...</td>\n",
              "      <td>[0.0, 0.0, 0.0, 0.0, 0.0, 0.0, 0.1218960012000...</td>\n",
              "      <td>Normal</td>\n",
              "      <td>None</td>\n",
              "    </tr>\n",
              "    <tr>\n",
              "      <th>7</th>\n",
              "      <td>8</td>\n",
              "      <td>P2A</td>\n",
              "      <td>[0.10295831882804733, 0.16743625856980135, 0.1...</td>\n",
              "      <td>[0.000355501074240803, 0.00046823194169781434,...</td>\n",
              "      <td>[0.0, 0.0, 0.0, 0.0, 0.0, 0.0, 0.2145922611359...</td>\n",
              "      <td>Normal</td>\n",
              "      <td>None</td>\n",
              "    </tr>\n",
              "    <tr>\n",
              "      <th>8</th>\n",
              "      <td>9</td>\n",
              "      <td>P1V</td>\n",
              "      <td>[-0.10815052227518294, 0.2034304270971226, -0....</td>\n",
              "      <td>[0.00039617187637922094, 0.0004439483666090007...</td>\n",
              "      <td>[0.0, 0.0, 0.0, 0.0, 0.0, 0.0, 0.1738320066407...</td>\n",
              "      <td>Normal</td>\n",
              "      <td>None</td>\n",
              "    </tr>\n",
              "    <tr>\n",
              "      <th>9</th>\n",
              "      <td>10</td>\n",
              "      <td>P1H</td>\n",
              "      <td>[0.030844485392866883, 0.11378154507136054, 0....</td>\n",
              "      <td>[0.0004038273964523287, 0.0005392493614174257,...</td>\n",
              "      <td>[0.0, 0.0, 0.0, 0.0, 0.0, 0.0, 0.2250162351956...</td>\n",
              "      <td>Normal</td>\n",
              "      <td>None</td>\n",
              "    </tr>\n",
              "  </tbody>\n",
              "</table>\n",
              "</div>\n",
              "      <button class=\"colab-df-convert\" onclick=\"convertToInteractive('df-9677f4ce-637b-41f8-910f-d69960746839')\"\n",
              "              title=\"Convert this dataframe to an interactive table.\"\n",
              "              style=\"display:none;\">\n",
              "        \n",
              "  <svg xmlns=\"http://www.w3.org/2000/svg\" height=\"24px\"viewBox=\"0 0 24 24\"\n",
              "       width=\"24px\">\n",
              "    <path d=\"M0 0h24v24H0V0z\" fill=\"none\"/>\n",
              "    <path d=\"M18.56 5.44l.94 2.06.94-2.06 2.06-.94-2.06-.94-.94-2.06-.94 2.06-2.06.94zm-11 1L8.5 8.5l.94-2.06 2.06-.94-2.06-.94L8.5 2.5l-.94 2.06-2.06.94zm10 10l.94 2.06.94-2.06 2.06-.94-2.06-.94-.94-2.06-.94 2.06-2.06.94z\"/><path d=\"M17.41 7.96l-1.37-1.37c-.4-.4-.92-.59-1.43-.59-.52 0-1.04.2-1.43.59L10.3 9.45l-7.72 7.72c-.78.78-.78 2.05 0 2.83L4 21.41c.39.39.9.59 1.41.59.51 0 1.02-.2 1.41-.59l7.78-7.78 2.81-2.81c.8-.78.8-2.07 0-2.86zM5.41 20L4 18.59l7.72-7.72 1.47 1.35L5.41 20z\"/>\n",
              "  </svg>\n",
              "      </button>\n",
              "      \n",
              "  <style>\n",
              "    .colab-df-container {\n",
              "      display:flex;\n",
              "      flex-wrap:wrap;\n",
              "      gap: 12px;\n",
              "    }\n",
              "\n",
              "    .colab-df-convert {\n",
              "      background-color: #E8F0FE;\n",
              "      border: none;\n",
              "      border-radius: 50%;\n",
              "      cursor: pointer;\n",
              "      display: none;\n",
              "      fill: #1967D2;\n",
              "      height: 32px;\n",
              "      padding: 0 0 0 0;\n",
              "      width: 32px;\n",
              "    }\n",
              "\n",
              "    .colab-df-convert:hover {\n",
              "      background-color: #E2EBFA;\n",
              "      box-shadow: 0px 1px 2px rgba(60, 64, 67, 0.3), 0px 1px 3px 1px rgba(60, 64, 67, 0.15);\n",
              "      fill: #174EA6;\n",
              "    }\n",
              "\n",
              "    [theme=dark] .colab-df-convert {\n",
              "      background-color: #3B4455;\n",
              "      fill: #D2E3FC;\n",
              "    }\n",
              "\n",
              "    [theme=dark] .colab-df-convert:hover {\n",
              "      background-color: #434B5C;\n",
              "      box-shadow: 0px 1px 3px 1px rgba(0, 0, 0, 0.15);\n",
              "      filter: drop-shadow(0px 1px 2px rgba(0, 0, 0, 0.3));\n",
              "      fill: #FFFFFF;\n",
              "    }\n",
              "  </style>\n",
              "\n",
              "      <script>\n",
              "        const buttonEl =\n",
              "          document.querySelector('#df-9677f4ce-637b-41f8-910f-d69960746839 button.colab-df-convert');\n",
              "        buttonEl.style.display =\n",
              "          google.colab.kernel.accessAllowed ? 'block' : 'none';\n",
              "\n",
              "        async function convertToInteractive(key) {\n",
              "          const element = document.querySelector('#df-9677f4ce-637b-41f8-910f-d69960746839');\n",
              "          const dataTable =\n",
              "            await google.colab.kernel.invokeFunction('convertToInteractive',\n",
              "                                                     [key], {});\n",
              "          if (!dataTable) return;\n",
              "\n",
              "          const docLinkHtml = 'Like what you see? Visit the ' +\n",
              "            '<a target=\"_blank\" href=https://colab.research.google.com/notebooks/data_table.ipynb>data table notebook</a>'\n",
              "            + ' to learn more about interactive tables.';\n",
              "          element.innerHTML = '';\n",
              "          dataTable['output_type'] = 'display_data';\n",
              "          await google.colab.output.renderOutput(dataTable, element);\n",
              "          const docLink = document.createElement('div');\n",
              "          docLink.innerHTML = docLinkHtml;\n",
              "          element.appendChild(docLink);\n",
              "        }\n",
              "      </script>\n",
              "    </div>\n",
              "  </div>\n",
              "  "
            ]
          },
          "metadata": {},
          "execution_count": 5
        }
      ]
    },
    {
      "cell_type": "markdown",
      "source": [
        "The dataset contain 4 interesting features : \n",
        "\n",
        "\n",
        "*   **pos** column refers to the sensors position (it's useful to know the source of the measure)\n",
        "*   **fftv** frequency signal 1 \n",
        "*   **fftg** frequency signal 2\n",
        "*   **g** frequency signal\n",
        "*   **F** problem with the machine\n",
        "*   **C** position of the problem\n"
      ],
      "metadata": {
        "id": "Gx9mliuQ5BzP"
      }
    },
    {
      "cell_type": "code",
      "source": [
        "df.info()"
      ],
      "metadata": {
        "colab": {
          "base_uri": "https://localhost:8080/"
        },
        "id": "jx-vaFwkmFwV",
        "outputId": "2bcace70-2111-4e45-e375-b47e7ccc1fd9"
      },
      "execution_count": null,
      "outputs": [
        {
          "output_type": "stream",
          "name": "stdout",
          "text": [
            "<class 'pandas.core.frame.DataFrame'>\n",
            "RangeIndex: 1020 entries, 0 to 1019\n",
            "Data columns (total 7 columns):\n",
            " #   Column      Non-Null Count  Dtype \n",
            "---  ------      --------------  ----- \n",
            " 0   Unnamed: 0  1020 non-null   int64 \n",
            " 1   pos         1020 non-null   object\n",
            " 2   g           1020 non-null   object\n",
            " 3   fftg        1020 non-null   object\n",
            " 4   fftv        1020 non-null   object\n",
            " 5   F           1020 non-null   object\n",
            " 6   C           1020 non-null   object\n",
            "dtypes: int64(1), object(6)\n",
            "memory usage: 55.9+ KB\n"
          ]
        }
      ]
    },
    {
      "cell_type": "code",
      "source": [
        "df.describe()"
      ],
      "metadata": {
        "colab": {
          "base_uri": "https://localhost:8080/",
          "height": 300
        },
        "id": "hGseIAMInsSY",
        "outputId": "8d0a35a1-d1ce-4836-eff9-fcfd4f50507e"
      },
      "execution_count": null,
      "outputs": [
        {
          "output_type": "execute_result",
          "data": {
            "text/plain": [
              "        Unnamed: 0\n",
              "count  1020.000000\n",
              "mean    510.500000\n",
              "std     294.592939\n",
              "min       1.000000\n",
              "25%     255.750000\n",
              "50%     510.500000\n",
              "75%     765.250000\n",
              "max    1020.000000"
            ],
            "text/html": [
              "\n",
              "  <div id=\"df-a1fcec6d-5997-4269-b9e7-98f11fbd682d\">\n",
              "    <div class=\"colab-df-container\">\n",
              "      <div>\n",
              "<style scoped>\n",
              "    .dataframe tbody tr th:only-of-type {\n",
              "        vertical-align: middle;\n",
              "    }\n",
              "\n",
              "    .dataframe tbody tr th {\n",
              "        vertical-align: top;\n",
              "    }\n",
              "\n",
              "    .dataframe thead th {\n",
              "        text-align: right;\n",
              "    }\n",
              "</style>\n",
              "<table border=\"1\" class=\"dataframe\">\n",
              "  <thead>\n",
              "    <tr style=\"text-align: right;\">\n",
              "      <th></th>\n",
              "      <th>Unnamed: 0</th>\n",
              "    </tr>\n",
              "  </thead>\n",
              "  <tbody>\n",
              "    <tr>\n",
              "      <th>count</th>\n",
              "      <td>1020.000000</td>\n",
              "    </tr>\n",
              "    <tr>\n",
              "      <th>mean</th>\n",
              "      <td>510.500000</td>\n",
              "    </tr>\n",
              "    <tr>\n",
              "      <th>std</th>\n",
              "      <td>294.592939</td>\n",
              "    </tr>\n",
              "    <tr>\n",
              "      <th>min</th>\n",
              "      <td>1.000000</td>\n",
              "    </tr>\n",
              "    <tr>\n",
              "      <th>25%</th>\n",
              "      <td>255.750000</td>\n",
              "    </tr>\n",
              "    <tr>\n",
              "      <th>50%</th>\n",
              "      <td>510.500000</td>\n",
              "    </tr>\n",
              "    <tr>\n",
              "      <th>75%</th>\n",
              "      <td>765.250000</td>\n",
              "    </tr>\n",
              "    <tr>\n",
              "      <th>max</th>\n",
              "      <td>1020.000000</td>\n",
              "    </tr>\n",
              "  </tbody>\n",
              "</table>\n",
              "</div>\n",
              "      <button class=\"colab-df-convert\" onclick=\"convertToInteractive('df-a1fcec6d-5997-4269-b9e7-98f11fbd682d')\"\n",
              "              title=\"Convert this dataframe to an interactive table.\"\n",
              "              style=\"display:none;\">\n",
              "        \n",
              "  <svg xmlns=\"http://www.w3.org/2000/svg\" height=\"24px\"viewBox=\"0 0 24 24\"\n",
              "       width=\"24px\">\n",
              "    <path d=\"M0 0h24v24H0V0z\" fill=\"none\"/>\n",
              "    <path d=\"M18.56 5.44l.94 2.06.94-2.06 2.06-.94-2.06-.94-.94-2.06-.94 2.06-2.06.94zm-11 1L8.5 8.5l.94-2.06 2.06-.94-2.06-.94L8.5 2.5l-.94 2.06-2.06.94zm10 10l.94 2.06.94-2.06 2.06-.94-2.06-.94-.94-2.06-.94 2.06-2.06.94z\"/><path d=\"M17.41 7.96l-1.37-1.37c-.4-.4-.92-.59-1.43-.59-.52 0-1.04.2-1.43.59L10.3 9.45l-7.72 7.72c-.78.78-.78 2.05 0 2.83L4 21.41c.39.39.9.59 1.41.59.51 0 1.02-.2 1.41-.59l7.78-7.78 2.81-2.81c.8-.78.8-2.07 0-2.86zM5.41 20L4 18.59l7.72-7.72 1.47 1.35L5.41 20z\"/>\n",
              "  </svg>\n",
              "      </button>\n",
              "      \n",
              "  <style>\n",
              "    .colab-df-container {\n",
              "      display:flex;\n",
              "      flex-wrap:wrap;\n",
              "      gap: 12px;\n",
              "    }\n",
              "\n",
              "    .colab-df-convert {\n",
              "      background-color: #E8F0FE;\n",
              "      border: none;\n",
              "      border-radius: 50%;\n",
              "      cursor: pointer;\n",
              "      display: none;\n",
              "      fill: #1967D2;\n",
              "      height: 32px;\n",
              "      padding: 0 0 0 0;\n",
              "      width: 32px;\n",
              "    }\n",
              "\n",
              "    .colab-df-convert:hover {\n",
              "      background-color: #E2EBFA;\n",
              "      box-shadow: 0px 1px 2px rgba(60, 64, 67, 0.3), 0px 1px 3px 1px rgba(60, 64, 67, 0.15);\n",
              "      fill: #174EA6;\n",
              "    }\n",
              "\n",
              "    [theme=dark] .colab-df-convert {\n",
              "      background-color: #3B4455;\n",
              "      fill: #D2E3FC;\n",
              "    }\n",
              "\n",
              "    [theme=dark] .colab-df-convert:hover {\n",
              "      background-color: #434B5C;\n",
              "      box-shadow: 0px 1px 3px 1px rgba(0, 0, 0, 0.15);\n",
              "      filter: drop-shadow(0px 1px 2px rgba(0, 0, 0, 0.3));\n",
              "      fill: #FFFFFF;\n",
              "    }\n",
              "  </style>\n",
              "\n",
              "      <script>\n",
              "        const buttonEl =\n",
              "          document.querySelector('#df-a1fcec6d-5997-4269-b9e7-98f11fbd682d button.colab-df-convert');\n",
              "        buttonEl.style.display =\n",
              "          google.colab.kernel.accessAllowed ? 'block' : 'none';\n",
              "\n",
              "        async function convertToInteractive(key) {\n",
              "          const element = document.querySelector('#df-a1fcec6d-5997-4269-b9e7-98f11fbd682d');\n",
              "          const dataTable =\n",
              "            await google.colab.kernel.invokeFunction('convertToInteractive',\n",
              "                                                     [key], {});\n",
              "          if (!dataTable) return;\n",
              "\n",
              "          const docLinkHtml = 'Like what you see? Visit the ' +\n",
              "            '<a target=\"_blank\" href=https://colab.research.google.com/notebooks/data_table.ipynb>data table notebook</a>'\n",
              "            + ' to learn more about interactive tables.';\n",
              "          element.innerHTML = '';\n",
              "          dataTable['output_type'] = 'display_data';\n",
              "          await google.colab.output.renderOutput(dataTable, element);\n",
              "          const docLink = document.createElement('div');\n",
              "          docLink.innerHTML = docLinkHtml;\n",
              "          element.appendChild(docLink);\n",
              "        }\n",
              "      </script>\n",
              "    </div>\n",
              "  </div>\n",
              "  "
            ]
          },
          "metadata": {},
          "execution_count": 7
        }
      ]
    },
    {
      "cell_type": "markdown",
      "source": [
        "\n",
        "> Each row is **JSON data** ( it's char that contain a list of values ), we need to transform the JSON data and extract the list of values.To do that lets first select each column sperately and convert it using the JSON library and more precisely the *json loads function*.\n"
      ],
      "metadata": {
        "id": "EOovD4Xs6lc4"
      }
    },
    {
      "cell_type": "code",
      "source": [
        "df_fftg = df[\"fftg\"]\n",
        "df_g = df[\"g\"]\n",
        "df_fftv = df[\"fftv\"]"
      ],
      "metadata": {
        "id": "C947CGpZnzUL"
      },
      "execution_count": null,
      "outputs": []
    },
    {
      "cell_type": "code",
      "source": [
        "import json"
      ],
      "metadata": {
        "id": "8BOOIiQ7PArf"
      },
      "execution_count": null,
      "outputs": []
    },
    {
      "cell_type": "code",
      "source": [
        "df_fftg[0] = json.loads(df_fftg[0])\n",
        "df_g[0] = json.loads(df_g[0])\n",
        "df_fftv[0] = json.loads(df_fftv[0])"
      ],
      "metadata": {
        "colab": {
          "base_uri": "https://localhost:8080/"
        },
        "id": "VsCVm_IWQlpr",
        "outputId": "24433e1c-3253-4da3-9e52-9a6944090e87"
      },
      "execution_count": null,
      "outputs": [
        {
          "output_type": "stream",
          "name": "stderr",
          "text": [
            "/usr/local/lib/python3.7/dist-packages/ipykernel_launcher.py:1: SettingWithCopyWarning: \n",
            "A value is trying to be set on a copy of a slice from a DataFrame\n",
            "\n",
            "See the caveats in the documentation: https://pandas.pydata.org/pandas-docs/stable/user_guide/indexing.html#returning-a-view-versus-a-copy\n",
            "  \"\"\"Entry point for launching an IPython kernel.\n",
            "/usr/local/lib/python3.7/dist-packages/ipykernel_launcher.py:2: SettingWithCopyWarning: \n",
            "A value is trying to be set on a copy of a slice from a DataFrame\n",
            "\n",
            "See the caveats in the documentation: https://pandas.pydata.org/pandas-docs/stable/user_guide/indexing.html#returning-a-view-versus-a-copy\n",
            "  \n",
            "/usr/local/lib/python3.7/dist-packages/ipykernel_launcher.py:3: SettingWithCopyWarning: \n",
            "A value is trying to be set on a copy of a slice from a DataFrame\n",
            "\n",
            "See the caveats in the documentation: https://pandas.pydata.org/pandas-docs/stable/user_guide/indexing.html#returning-a-view-versus-a-copy\n",
            "  This is separate from the ipykernel package so we can avoid doing imports until\n"
          ]
        }
      ]
    },
    {
      "cell_type": "markdown",
      "source": [
        "\n",
        "> Let's visualise each of our colomns (lets' take the first row as an illustration)"
      ],
      "metadata": {
        "id": "f0fROY7t9nYw"
      }
    },
    {
      "cell_type": "code",
      "source": [
        "plt.plot(df_fftg[0])\n",
        "plt.show()"
      ],
      "metadata": {
        "colab": {
          "base_uri": "https://localhost:8080/",
          "height": 265
        },
        "id": "-j7QH7BZSzkD",
        "outputId": "cade36fd-a0c0-4ab9-9993-42693602b5fa"
      },
      "execution_count": null,
      "outputs": [
        {
          "output_type": "display_data",
          "data": {
            "text/plain": [
              "<Figure size 432x288 with 1 Axes>"
            ],
            "image/png": "[encoded data removed]"
          },
          "metadata": {
            "needs_background": "light"
          }
        }
      ]
    },
    {
      "cell_type": "code",
      "source": [
        "plt.plot(df_g[0])"
      ],
      "metadata": {
        "colab": {
          "base_uri": "https://localhost:8080/",
          "height": 282
        },
        "id": "q6-okmQwJHCB",
        "outputId": "3c0f72be-a0fa-4b51-caa8-0fc9a683c898"
      },
      "execution_count": null,
      "outputs": [
        {
          "output_type": "execute_result",
          "data": {
            "text/plain": [
              "[<matplotlib.lines.Line2D at 0x7fcd01a8cdd0>]"
            ]
          },
          "metadata": {},
          "execution_count": 30
        },
        {
          "output_type": "display_data",
          "data": {
            "text/plain": [
              "<Figure size 432x288 with 1 Axes>"
            ],
            "image/png": "[encoded data removed]"
          },
          "metadata": {
            "needs_background": "light"
          }
        }
      ]
    },
    {
      "cell_type": "code",
      "source": [
        "plt.plot(df_fftv[0])"
      ],
      "metadata": {
        "colab": {
          "base_uri": "https://localhost:8080/",
          "height": 282
        },
        "id": "6tItaXXDVMJj",
        "outputId": "75ded9f7-0024-4c18-9312-cfb90f6cfd87"
      },
      "execution_count": null,
      "outputs": [
        {
          "output_type": "execute_result",
          "data": {
            "text/plain": [
              "[<matplotlib.lines.Line2D at 0x7fcd01ad6b90>]"
            ]
          },
          "metadata": {},
          "execution_count": 31
        },
        {
          "output_type": "display_data",
          "data": {
            "text/plain": [
              "<Figure size 432x288 with 1 Axes>"
            ],
            "image/png": "[encoded data removed]"
          },
          "metadata": {
            "needs_background": "light"
          }
        }
      ]
    },
    {
      "cell_type": "code",
      "source": [
        "plt.plot(df_fftv[0])\n",
        "plt.axis([0,100,0,0.5])"
      ],
      "metadata": {
        "colab": {
          "base_uri": "https://localhost:8080/",
          "height": 286
        },
        "id": "9i-16CpT8NLN",
        "outputId": "9952edfe-aa3e-43dd-83cb-4dc4f4d51074"
      },
      "execution_count": null,
      "outputs": [
        {
          "output_type": "execute_result",
          "data": {
            "text/plain": [
              "(0.0, 100.0, 0.0, 0.5)"
            ]
          },
          "metadata": {},
          "execution_count": 13
        },
        {
          "output_type": "display_data",
          "data": {
            "text/plain": [
              "<Figure size 432x288 with 1 Axes>"
            ],
            "image/png": "[encoded data removed]"
          },
          "metadata": {
            "needs_background": "light"
          }
        }
      ]
    },
    {
      "cell_type": "markdown",
      "source": [
        "From these three visialisations it seems that there's **no relation** between the atributes"
      ],
      "metadata": {
        "id": "RMJeTgp4-Zby"
      }
    },
    {
      "cell_type": "markdown",
      "source": [
        "# **Data Preparation**\n",
        "\n",
        "---\n",
        "\n"
      ],
      "metadata": {
        "id": "FPebYP-JZLiG"
      }
    },
    {
      "cell_type": "markdown",
      "source": [
        "The three forms of signal g, fftg and fftv are heavy. The data needs to be cleaned This is why we 're going to define: \n",
        "\n",
        "*   NGV : RMS (root mean square) of fftv\n",
        "*   NGA : RMS of fftg\n",
        "*   A1F0 : amplitude on velocity spectrum at the frequency 1*F0\n",
        "*   A2F0 : amplitude on velocity spectrum at the frequency 2*F0"
      ],
      "metadata": {
        "id": "DD2nIK-G-nrN"
      }
    },
    {
      "cell_type": "code",
      "source": [
        "df_fftg"
      ],
      "metadata": {
        "colab": {
          "base_uri": "https://localhost:8080/"
        },
        "id": "vhPga4eBecpG",
        "outputId": "e4af6a28-c4a0-4c28-fc85-f13dfdbf1f08"
      },
      "execution_count": null,
      "outputs": [
        {
          "output_type": "execute_result",
          "data": {
            "text/plain": [
              "0       [0.0006586228415304686, 0.0008392442605411405,...\n",
              "1       [0.0006843542482240162, 0.0008895457854118105,...\n",
              "2       [0.0006736708035253035, 0.0008349143002841891,...\n",
              "3       [0.0008922086829811786, 0.0012222498163517285,...\n",
              "4       [0.0003683865447006467, 0.00046141507219113866...\n",
              "                              ...                        \n",
              "1015    [0.0013470897256730337, 0.0021139789812571366,...\n",
              "1016    [0.001384099028685586, 0.0021601822551360617, ...\n",
              "1017    [0.0013403005936539496, 0.002314003743353513, ...\n",
              "1018    [0.001419439714691728, 0.002208483168563792, 0...\n",
              "1019    [0.0013137535337891964, 0.0022039447807009104,...\n",
              "Name: fftg, Length: 1020, dtype: object"
            ]
          },
          "metadata": {},
          "execution_count": 7
        }
      ]
    },
    {
      "cell_type": "markdown",
      "source": [
        "\n",
        "\n",
        "> **Compute the NGV** (KPI of fftv)\n",
        "\n"
      ],
      "metadata": {
        "id": "_5AYdGWmD_1f"
      }
    },
    {
      "cell_type": "code",
      "source": [
        "NGV = []\n",
        "for j in range (0, len(df_fftv)):\n",
        "  df_fftv[j] = json.loads(df_fftv[j])\n",
        "  N = len(df_fftv[j])\n",
        "  s = 0\n",
        "  for i in range(0,N):\n",
        "    df_fftv[j][i] = float(df_fftv[j][i])\n",
        "    s = (df_fftv[j][i])**2 + s\n",
        "    NGVj = (s)**(0.5)\n",
        "    NGV.append(NGVj)"
      ],
      "metadata": {
        "colab": {
          "base_uri": "https://localhost:8080/"
        },
        "id": "tdtQ8kmzeLFq",
        "outputId": "3a093adf-c15a-4078-8b4f-3085c37409c9"
      },
      "execution_count": null,
      "outputs": [
        {
          "output_type": "stream",
          "name": "stderr",
          "text": [
            "/usr/local/lib/python3.7/dist-packages/ipykernel_launcher.py:3: SettingWithCopyWarning: \n",
            "A value is trying to be set on a copy of a slice from a DataFrame\n",
            "\n",
            "See the caveats in the documentation: https://pandas.pydata.org/pandas-docs/stable/user_guide/indexing.html#returning-a-view-versus-a-copy\n",
            "  This is separate from the ipykernel package so we can avoid doing imports until\n"
          ]
        }
      ]
    },
    {
      "cell_type": "code",
      "source": [
        "len(df_fftv[0])"
      ],
      "metadata": {
        "colab": {
          "base_uri": "https://localhost:8080/"
        },
        "id": "iUFxpDkQa9dd",
        "outputId": "9ac76140-53f9-4029-e0f6-479358a78a9a"
      },
      "execution_count": null,
      "outputs": [
        {
          "output_type": "execute_result",
          "data": {
            "text/plain": [
              "3200"
            ]
          },
          "metadata": {},
          "execution_count": 8
        }
      ]
    },
    {
      "cell_type": "code",
      "source": [
        "plt.plot(NGV)"
      ],
      "metadata": {
        "colab": {
          "base_uri": "https://localhost:8080/",
          "height": 295
        },
        "id": "A0DsxFBVp0sl",
        "outputId": "4762aa95-3e61-4eed-ccd6-9a4e1fd6e275"
      },
      "execution_count": null,
      "outputs": [
        {
          "output_type": "execute_result",
          "data": {
            "text/plain": [
              "[<matplotlib.lines.Line2D at 0x7fe1b33c4350>]"
            ]
          },
          "metadata": {},
          "execution_count": 9
        },
        {
          "output_type": "display_data",
          "data": {
            "text/plain": [
              "<Figure size 432x288 with 1 Axes>"
            ],
            "image/png": "[encoded data removed]"
          },
          "metadata": {
            "needs_background": "light"
          }
        }
      ]
    },
    {
      "cell_type": "code",
      "source": [
        "plt.plot(NGV)\n",
        "plt.axis([0,1*(10)**6,0,14])"
      ],
      "metadata": {
        "colab": {
          "base_uri": "https://localhost:8080/",
          "height": 299
        },
        "id": "DPPW3j_FYah_",
        "outputId": "f9b4f362-8be4-402d-8ab1-692e77d909c8"
      },
      "execution_count": null,
      "outputs": [
        {
          "output_type": "execute_result",
          "data": {
            "text/plain": [
              "(0.0, 1000000.0, 0.0, 14.0)"
            ]
          },
          "metadata": {},
          "execution_count": 10
        },
        {
          "output_type": "display_data",
          "data": {
            "text/plain": [
              "<Figure size 432x288 with 1 Axes>"
            ],
            "image/png": "[encoded data removed]"
          },
          "metadata": {
            "needs_background": "light"
          }
        }
      ]
    },
    {
      "cell_type": "code",
      "source": [
        "df_NGV = pd.DataFrame(NGV)\n",
        "df_NGV"
      ],
      "metadata": {
        "colab": {
          "base_uri": "https://localhost:8080/",
          "height": 423
        },
        "id": "BjahAcXr1-My",
        "outputId": "bfe6ea7a-3950-4a9a-ef39-89936a3a77b7"
      },
      "execution_count": null,
      "outputs": [
        {
          "output_type": "execute_result",
          "data": {
            "text/plain": [
              "                0\n",
              "0        0.000000\n",
              "1        0.000000\n",
              "2        0.000000\n",
              "3        0.000000\n",
              "4        0.000000\n",
              "...           ...\n",
              "3263995  4.013837\n",
              "3263996  4.013837\n",
              "3263997  4.013837\n",
              "3263998  4.013837\n",
              "3263999  4.013837\n",
              "\n",
              "[3264000 rows x 1 columns]"
            ],
            "text/html": [
              "\n",
              "  <div id=\"df-b8c29afe-ce16-4109-a450-94c04e84addc\">\n",
              "    <div class=\"colab-df-container\">\n",
              "      <div>\n",
              "<style scoped>\n",
              "    .dataframe tbody tr th:only-of-type {\n",
              "        vertical-align: middle;\n",
              "    }\n",
              "\n",
              "    .dataframe tbody tr th {\n",
              "        vertical-align: top;\n",
              "    }\n",
              "\n",
              "    .dataframe thead th {\n",
              "        text-align: right;\n",
              "    }\n",
              "</style>\n",
              "<table border=\"1\" class=\"dataframe\">\n",
              "  <thead>\n",
              "    <tr style=\"text-align: right;\">\n",
              "      <th></th>\n",
              "      <th>0</th>\n",
              "    </tr>\n",
              "  </thead>\n",
              "  <tbody>\n",
              "    <tr>\n",
              "      <th>0</th>\n",
              "      <td>0.000000</td>\n",
              "    </tr>\n",
              "    <tr>\n",
              "      <th>1</th>\n",
              "      <td>0.000000</td>\n",
              "    </tr>\n",
              "    <tr>\n",
              "      <th>2</th>\n",
              "      <td>0.000000</td>\n",
              "    </tr>\n",
              "    <tr>\n",
              "      <th>3</th>\n",
              "      <td>0.000000</td>\n",
              "    </tr>\n",
              "    <tr>\n",
              "      <th>4</th>\n",
              "      <td>0.000000</td>\n",
              "    </tr>\n",
              "    <tr>\n",
              "      <th>...</th>\n",
              "      <td>...</td>\n",
              "    </tr>\n",
              "    <tr>\n",
              "      <th>3263995</th>\n",
              "      <td>4.013837</td>\n",
              "    </tr>\n",
              "    <tr>\n",
              "      <th>3263996</th>\n",
              "      <td>4.013837</td>\n",
              "    </tr>\n",
              "    <tr>\n",
              "      <th>3263997</th>\n",
              "      <td>4.013837</td>\n",
              "    </tr>\n",
              "    <tr>\n",
              "      <th>3263998</th>\n",
              "      <td>4.013837</td>\n",
              "    </tr>\n",
              "    <tr>\n",
              "      <th>3263999</th>\n",
              "      <td>4.013837</td>\n",
              "    </tr>\n",
              "  </tbody>\n",
              "</table>\n",
              "<p>3264000 rows × 1 columns</p>\n",
              "</div>\n",
              "      <button class=\"colab-df-convert\" onclick=\"convertToInteractive('df-b8c29afe-ce16-4109-a450-94c04e84addc')\"\n",
              "              title=\"Convert this dataframe to an interactive table.\"\n",
              "              style=\"display:none;\">\n",
              "        \n",
              "  <svg xmlns=\"http://www.w3.org/2000/svg\" height=\"24px\"viewBox=\"0 0 24 24\"\n",
              "       width=\"24px\">\n",
              "    <path d=\"M0 0h24v24H0V0z\" fill=\"none\"/>\n",
              "    <path d=\"M18.56 5.44l.94 2.06.94-2.06 2.06-.94-2.06-.94-.94-2.06-.94 2.06-2.06.94zm-11 1L8.5 8.5l.94-2.06 2.06-.94-2.06-.94L8.5 2.5l-.94 2.06-2.06.94zm10 10l.94 2.06.94-2.06 2.06-.94-2.06-.94-.94-2.06-.94 2.06-2.06.94z\"/><path d=\"M17.41 7.96l-1.37-1.37c-.4-.4-.92-.59-1.43-.59-.52 0-1.04.2-1.43.59L10.3 9.45l-7.72 7.72c-.78.78-.78 2.05 0 2.83L4 21.41c.39.39.9.59 1.41.59.51 0 1.02-.2 1.41-.59l7.78-7.78 2.81-2.81c.8-.78.8-2.07 0-2.86zM5.41 20L4 18.59l7.72-7.72 1.47 1.35L5.41 20z\"/>\n",
              "  </svg>\n",
              "      </button>\n",
              "      \n",
              "  <style>\n",
              "    .colab-df-container {\n",
              "      display:flex;\n",
              "      flex-wrap:wrap;\n",
              "      gap: 12px;\n",
              "    }\n",
              "\n",
              "    .colab-df-convert {\n",
              "      background-color: #E8F0FE;\n",
              "      border: none;\n",
              "      border-radius: 50%;\n",
              "      cursor: pointer;\n",
              "      display: none;\n",
              "      fill: #1967D2;\n",
              "      height: 32px;\n",
              "      padding: 0 0 0 0;\n",
              "      width: 32px;\n",
              "    }\n",
              "\n",
              "    .colab-df-convert:hover {\n",
              "      background-color: #E2EBFA;\n",
              "      box-shadow: 0px 1px 2px rgba(60, 64, 67, 0.3), 0px 1px 3px 1px rgba(60, 64, 67, 0.15);\n",
              "      fill: #174EA6;\n",
              "    }\n",
              "\n",
              "    [theme=dark] .colab-df-convert {\n",
              "      background-color: #3B4455;\n",
              "      fill: #D2E3FC;\n",
              "    }\n",
              "\n",
              "    [theme=dark] .colab-df-convert:hover {\n",
              "      background-color: #434B5C;\n",
              "      box-shadow: 0px 1px 3px 1px rgba(0, 0, 0, 0.15);\n",
              "      filter: drop-shadow(0px 1px 2px rgba(0, 0, 0, 0.3));\n",
              "      fill: #FFFFFF;\n",
              "    }\n",
              "  </style>\n",
              "\n",
              "      <script>\n",
              "        const buttonEl =\n",
              "          document.querySelector('#df-b8c29afe-ce16-4109-a450-94c04e84addc button.colab-df-convert');\n",
              "        buttonEl.style.display =\n",
              "          google.colab.kernel.accessAllowed ? 'block' : 'none';\n",
              "\n",
              "        async function convertToInteractive(key) {\n",
              "          const element = document.querySelector('#df-b8c29afe-ce16-4109-a450-94c04e84addc');\n",
              "          const dataTable =\n",
              "            await google.colab.kernel.invokeFunction('convertToInteractive',\n",
              "                                                     [key], {});\n",
              "          if (!dataTable) return;\n",
              "\n",
              "          const docLinkHtml = 'Like what you see? Visit the ' +\n",
              "            '<a target=\"_blank\" href=https://colab.research.google.com/notebooks/data_table.ipynb>data table notebook</a>'\n",
              "            + ' to learn more about interactive tables.';\n",
              "          element.innerHTML = '';\n",
              "          dataTable['output_type'] = 'display_data';\n",
              "          await google.colab.output.renderOutput(dataTable, element);\n",
              "          const docLink = document.createElement('div');\n",
              "          docLink.innerHTML = docLinkHtml;\n",
              "          element.appendChild(docLink);\n",
              "        }\n",
              "      </script>\n",
              "    </div>\n",
              "  </div>\n",
              "  "
            ]
          },
          "metadata": {},
          "execution_count": 31
        }
      ]
    },
    {
      "cell_type": "markdown",
      "source": [
        "\n",
        "> **Compute the NGA** (KPI of fftg)"
      ],
      "metadata": {
        "id": "xjK7hMksEOyD"
      }
    },
    {
      "cell_type": "code",
      "source": [
        "NGA = []\n",
        "for j in range (0, len(df_fftg)):\n",
        "  df_fftg[j] = json.loads(df_fftg[j])\n",
        "  N = len(df_fftg[j])\n",
        "  s = 0\n",
        "  for i in range(0,N):\n",
        "    df_fftg[j][i] = float(df_fftg[j][i])\n",
        "    s = (df_fftg[j][i])**2 + s\n",
        "    NGAj = (s)**(0.5)\n",
        "    NGA.append(NGAj)"
      ],
      "metadata": {
        "colab": {
          "base_uri": "https://localhost:8080/"
        },
        "id": "U9Af1Tcfp29u",
        "outputId": "d6a4ec75-d84d-4add-ce7b-b42468863831"
      },
      "execution_count": null,
      "outputs": [
        {
          "output_type": "stream",
          "name": "stderr",
          "text": [
            "/usr/local/lib/python3.7/dist-packages/ipykernel_launcher.py:3: SettingWithCopyWarning: \n",
            "A value is trying to be set on a copy of a slice from a DataFrame\n",
            "\n",
            "See the caveats in the documentation: https://pandas.pydata.org/pandas-docs/stable/user_guide/indexing.html#returning-a-view-versus-a-copy\n",
            "  This is separate from the ipykernel package so we can avoid doing imports until\n"
          ]
        }
      ]
    },
    {
      "cell_type": "code",
      "source": [
        "plt.plot(NGA)"
      ],
      "metadata": {
        "colab": {
          "base_uri": "https://localhost:8080/",
          "height": 295
        },
        "id": "uGimLdgm8mca",
        "outputId": "e255579e-1617-458e-c0cc-2bfdd63c9cb8"
      },
      "execution_count": null,
      "outputs": [
        {
          "output_type": "execute_result",
          "data": {
            "text/plain": [
              "[<matplotlib.lines.Line2D at 0x7fe199065550>]"
            ]
          },
          "metadata": {},
          "execution_count": 13
        },
        {
          "output_type": "display_data",
          "data": {
            "text/plain": [
              "<Figure size 432x288 with 1 Axes>"
            ],
            "image/png": "[encoded data removed]"
          },
          "metadata": {
            "needs_background": "light"
          }
        }
      ]
    },
    {
      "cell_type": "code",
      "source": [
        "df_NGA = pd.DataFrame(NGA)\n",
        "df_NGA"
      ],
      "metadata": {
        "id": "jyQ9F0S6qasW",
        "colab": {
          "base_uri": "https://localhost:8080/",
          "height": 423
        },
        "outputId": "38f02b42-b506-4d79-a584-6ef6fe475d09"
      },
      "execution_count": null,
      "outputs": [
        {
          "output_type": "execute_result",
          "data": {
            "text/plain": [
              "                0\n",
              "0        0.000659\n",
              "1        0.001067\n",
              "2        0.001307\n",
              "3        0.001421\n",
              "4        0.001521\n",
              "...           ...\n",
              "3263995  0.050291\n",
              "3263996  0.050294\n",
              "3263997  0.050298\n",
              "3263998  0.050301\n",
              "3263999  0.050304\n",
              "\n",
              "[3264000 rows x 1 columns]"
            ],
            "text/html": [
              "\n",
              "  <div id=\"df-4f70e6f6-a67f-45a2-be36-1ee278fbb9a7\">\n",
              "    <div class=\"colab-df-container\">\n",
              "      <div>\n",
              "<style scoped>\n",
              "    .dataframe tbody tr th:only-of-type {\n",
              "        vertical-align: middle;\n",
              "    }\n",
              "\n",
              "    .dataframe tbody tr th {\n",
              "        vertical-align: top;\n",
              "    }\n",
              "\n",
              "    .dataframe thead th {\n",
              "        text-align: right;\n",
              "    }\n",
              "</style>\n",
              "<table border=\"1\" class=\"dataframe\">\n",
              "  <thead>\n",
              "    <tr style=\"text-align: right;\">\n",
              "      <th></th>\n",
              "      <th>0</th>\n",
              "    </tr>\n",
              "  </thead>\n",
              "  <tbody>\n",
              "    <tr>\n",
              "      <th>0</th>\n",
              "      <td>0.000659</td>\n",
              "    </tr>\n",
              "    <tr>\n",
              "      <th>1</th>\n",
              "      <td>0.001067</td>\n",
              "    </tr>\n",
              "    <tr>\n",
              "      <th>2</th>\n",
              "      <td>0.001307</td>\n",
              "    </tr>\n",
              "    <tr>\n",
              "      <th>3</th>\n",
              "      <td>0.001421</td>\n",
              "    </tr>\n",
              "    <tr>\n",
              "      <th>4</th>\n",
              "      <td>0.001521</td>\n",
              "    </tr>\n",
              "    <tr>\n",
              "      <th>...</th>\n",
              "      <td>...</td>\n",
              "    </tr>\n",
              "    <tr>\n",
              "      <th>3263995</th>\n",
              "      <td>0.050291</td>\n",
              "    </tr>\n",
              "    <tr>\n",
              "      <th>3263996</th>\n",
              "      <td>0.050294</td>\n",
              "    </tr>\n",
              "    <tr>\n",
              "      <th>3263997</th>\n",
              "      <td>0.050298</td>\n",
              "    </tr>\n",
              "    <tr>\n",
              "      <th>3263998</th>\n",
              "      <td>0.050301</td>\n",
              "    </tr>\n",
              "    <tr>\n",
              "      <th>3263999</th>\n",
              "      <td>0.050304</td>\n",
              "    </tr>\n",
              "  </tbody>\n",
              "</table>\n",
              "<p>3264000 rows × 1 columns</p>\n",
              "</div>\n",
              "      <button class=\"colab-df-convert\" onclick=\"convertToInteractive('df-4f70e6f6-a67f-45a2-be36-1ee278fbb9a7')\"\n",
              "              title=\"Convert this dataframe to an interactive table.\"\n",
              "              style=\"display:none;\">\n",
              "        \n",
              "  <svg xmlns=\"http://www.w3.org/2000/svg\" height=\"24px\"viewBox=\"0 0 24 24\"\n",
              "       width=\"24px\">\n",
              "    <path d=\"M0 0h24v24H0V0z\" fill=\"none\"/>\n",
              "    <path d=\"M18.56 5.44l.94 2.06.94-2.06 2.06-.94-2.06-.94-.94-2.06-.94 2.06-2.06.94zm-11 1L8.5 8.5l.94-2.06 2.06-.94-2.06-.94L8.5 2.5l-.94 2.06-2.06.94zm10 10l.94 2.06.94-2.06 2.06-.94-2.06-.94-.94-2.06-.94 2.06-2.06.94z\"/><path d=\"M17.41 7.96l-1.37-1.37c-.4-.4-.92-.59-1.43-.59-.52 0-1.04.2-1.43.59L10.3 9.45l-7.72 7.72c-.78.78-.78 2.05 0 2.83L4 21.41c.39.39.9.59 1.41.59.51 0 1.02-.2 1.41-.59l7.78-7.78 2.81-2.81c.8-.78.8-2.07 0-2.86zM5.41 20L4 18.59l7.72-7.72 1.47 1.35L5.41 20z\"/>\n",
              "  </svg>\n",
              "      </button>\n",
              "      \n",
              "  <style>\n",
              "    .colab-df-container {\n",
              "      display:flex;\n",
              "      flex-wrap:wrap;\n",
              "      gap: 12px;\n",
              "    }\n",
              "\n",
              "    .colab-df-convert {\n",
              "      background-color: #E8F0FE;\n",
              "      border: none;\n",
              "      border-radius: 50%;\n",
              "      cursor: pointer;\n",
              "      display: none;\n",
              "      fill: #1967D2;\n",
              "      height: 32px;\n",
              "      padding: 0 0 0 0;\n",
              "      width: 32px;\n",
              "    }\n",
              "\n",
              "    .colab-df-convert:hover {\n",
              "      background-color: #E2EBFA;\n",
              "      box-shadow: 0px 1px 2px rgba(60, 64, 67, 0.3), 0px 1px 3px 1px rgba(60, 64, 67, 0.15);\n",
              "      fill: #174EA6;\n",
              "    }\n",
              "\n",
              "    [theme=dark] .colab-df-convert {\n",
              "      background-color: #3B4455;\n",
              "      fill: #D2E3FC;\n",
              "    }\n",
              "\n",
              "    [theme=dark] .colab-df-convert:hover {\n",
              "      background-color: #434B5C;\n",
              "      box-shadow: 0px 1px 3px 1px rgba(0, 0, 0, 0.15);\n",
              "      filter: drop-shadow(0px 1px 2px rgba(0, 0, 0, 0.3));\n",
              "      fill: #FFFFFF;\n",
              "    }\n",
              "  </style>\n",
              "\n",
              "      <script>\n",
              "        const buttonEl =\n",
              "          document.querySelector('#df-4f70e6f6-a67f-45a2-be36-1ee278fbb9a7 button.colab-df-convert');\n",
              "        buttonEl.style.display =\n",
              "          google.colab.kernel.accessAllowed ? 'block' : 'none';\n",
              "\n",
              "        async function convertToInteractive(key) {\n",
              "          const element = document.querySelector('#df-4f70e6f6-a67f-45a2-be36-1ee278fbb9a7');\n",
              "          const dataTable =\n",
              "            await google.colab.kernel.invokeFunction('convertToInteractive',\n",
              "                                                     [key], {});\n",
              "          if (!dataTable) return;\n",
              "\n",
              "          const docLinkHtml = 'Like what you see? Visit the ' +\n",
              "            '<a target=\"_blank\" href=https://colab.research.google.com/notebooks/data_table.ipynb>data table notebook</a>'\n",
              "            + ' to learn more about interactive tables.';\n",
              "          element.innerHTML = '';\n",
              "          dataTable['output_type'] = 'display_data';\n",
              "          await google.colab.output.renderOutput(dataTable, element);\n",
              "          const docLink = document.createElement('div');\n",
              "          docLink.innerHTML = docLinkHtml;\n",
              "          element.appendChild(docLink);\n",
              "        }\n",
              "      </script>\n",
              "    </div>\n",
              "  </div>\n",
              "  "
            ]
          },
          "metadata": {},
          "execution_count": 29
        }
      ]
    },
    {
      "cell_type": "markdown",
      "source": [
        "\n",
        "\n",
        ">**Compute G** (KPI of G)\n",
        "\n"
      ],
      "metadata": {
        "id": "40IJFmPFGeix"
      }
    },
    {
      "cell_type": "code",
      "source": [
        "G = []\n",
        "for j in range (0, len(df_g)):\n",
        "  df_g[j] = json.loads(df_g[j])\n",
        "  N = 3200\n",
        "  s = 0\n",
        "  for i in range(0,N):\n",
        "    df_g[j][i] = float(df_g[j][i])\n",
        "    s = (df_g[j][i])**2 + s\n",
        "    NGAj = (s)**(0.5)\n",
        "    G.append(NGAj)"
      ],
      "metadata": {
        "colab": {
          "base_uri": "https://localhost:8080/"
        },
        "id": "-YyLxhTA9LE9",
        "outputId": "43124587-3dd7-4695-ff41-805b71545e95"
      },
      "execution_count": null,
      "outputs": [
        {
          "output_type": "stream",
          "name": "stderr",
          "text": [
            "/usr/local/lib/python3.7/dist-packages/ipykernel_launcher.py:3: SettingWithCopyWarning: \n",
            "A value is trying to be set on a copy of a slice from a DataFrame\n",
            "\n",
            "See the caveats in the documentation: https://pandas.pydata.org/pandas-docs/stable/user_guide/indexing.html#returning-a-view-versus-a-copy\n",
            "  This is separate from the ipykernel package so we can avoid doing imports until\n"
          ]
        }
      ]
    },
    {
      "cell_type": "code",
      "source": [
        "plt.plot(G)"
      ],
      "metadata": {
        "id": "6JN7H_H79e2E",
        "colab": {
          "base_uri": "https://localhost:8080/",
          "height": 295
        },
        "outputId": "2e940110-aae9-4ec9-a109-58ff9d2ad617"
      },
      "execution_count": null,
      "outputs": [
        {
          "output_type": "execute_result",
          "data": {
            "text/plain": [
              "[<matplotlib.lines.Line2D at 0x7fe0566c5150>]"
            ]
          },
          "metadata": {},
          "execution_count": 16
        },
        {
          "output_type": "display_data",
          "data": {
            "text/plain": [
              "<Figure size 432x288 with 1 Axes>"
            ],
            "image/png": "[encoded data removed]"
          },
          "metadata": {
            "needs_background": "light"
          }
        }
      ]
    },
    {
      "cell_type": "code",
      "source": [
        "df_G = pd.DataFrame(G)\n",
        "df_G"
      ],
      "metadata": {
        "id": "AOa0P9XP9iX2",
        "colab": {
          "base_uri": "https://localhost:8080/",
          "height": 423
        },
        "outputId": "ac6e5227-2959-45b6-9950-522c6ff9d052"
      },
      "execution_count": null,
      "outputs": [
        {
          "output_type": "execute_result",
          "data": {
            "text/plain": [
              "                0\n",
              "0        0.165129\n",
              "1        0.172528\n",
              "2        0.180150\n",
              "3        0.256356\n",
              "4        0.391828\n",
              "...           ...\n",
              "3263995  7.690372\n",
              "3263996  7.690550\n",
              "3263997  7.691053\n",
              "3263998  7.691064\n",
              "3263999  7.692094\n",
              "\n",
              "[3264000 rows x 1 columns]"
            ],
            "text/html": [
              "\n",
              "  <div id=\"df-9b8ec613-dbb3-402f-8431-8838749c0424\">\n",
              "    <div class=\"colab-df-container\">\n",
              "      <div>\n",
              "<style scoped>\n",
              "    .dataframe tbody tr th:only-of-type {\n",
              "        vertical-align: middle;\n",
              "    }\n",
              "\n",
              "    .dataframe tbody tr th {\n",
              "        vertical-align: top;\n",
              "    }\n",
              "\n",
              "    .dataframe thead th {\n",
              "        text-align: right;\n",
              "    }\n",
              "</style>\n",
              "<table border=\"1\" class=\"dataframe\">\n",
              "  <thead>\n",
              "    <tr style=\"text-align: right;\">\n",
              "      <th></th>\n",
              "      <th>0</th>\n",
              "    </tr>\n",
              "  </thead>\n",
              "  <tbody>\n",
              "    <tr>\n",
              "      <th>0</th>\n",
              "      <td>0.165129</td>\n",
              "    </tr>\n",
              "    <tr>\n",
              "      <th>1</th>\n",
              "      <td>0.172528</td>\n",
              "    </tr>\n",
              "    <tr>\n",
              "      <th>2</th>\n",
              "      <td>0.180150</td>\n",
              "    </tr>\n",
              "    <tr>\n",
              "      <th>3</th>\n",
              "      <td>0.256356</td>\n",
              "    </tr>\n",
              "    <tr>\n",
              "      <th>4</th>\n",
              "      <td>0.391828</td>\n",
              "    </tr>\n",
              "    <tr>\n",
              "      <th>...</th>\n",
              "      <td>...</td>\n",
              "    </tr>\n",
              "    <tr>\n",
              "      <th>3263995</th>\n",
              "      <td>7.690372</td>\n",
              "    </tr>\n",
              "    <tr>\n",
              "      <th>3263996</th>\n",
              "      <td>7.690550</td>\n",
              "    </tr>\n",
              "    <tr>\n",
              "      <th>3263997</th>\n",
              "      <td>7.691053</td>\n",
              "    </tr>\n",
              "    <tr>\n",
              "      <th>3263998</th>\n",
              "      <td>7.691064</td>\n",
              "    </tr>\n",
              "    <tr>\n",
              "      <th>3263999</th>\n",
              "      <td>7.692094</td>\n",
              "    </tr>\n",
              "  </tbody>\n",
              "</table>\n",
              "<p>3264000 rows × 1 columns</p>\n",
              "</div>\n",
              "      <button class=\"colab-df-convert\" onclick=\"convertToInteractive('df-9b8ec613-dbb3-402f-8431-8838749c0424')\"\n",
              "              title=\"Convert this dataframe to an interactive table.\"\n",
              "              style=\"display:none;\">\n",
              "        \n",
              "  <svg xmlns=\"http://www.w3.org/2000/svg\" height=\"24px\"viewBox=\"0 0 24 24\"\n",
              "       width=\"24px\">\n",
              "    <path d=\"M0 0h24v24H0V0z\" fill=\"none\"/>\n",
              "    <path d=\"M18.56 5.44l.94 2.06.94-2.06 2.06-.94-2.06-.94-.94-2.06-.94 2.06-2.06.94zm-11 1L8.5 8.5l.94-2.06 2.06-.94-2.06-.94L8.5 2.5l-.94 2.06-2.06.94zm10 10l.94 2.06.94-2.06 2.06-.94-2.06-.94-.94-2.06-.94 2.06-2.06.94z\"/><path d=\"M17.41 7.96l-1.37-1.37c-.4-.4-.92-.59-1.43-.59-.52 0-1.04.2-1.43.59L10.3 9.45l-7.72 7.72c-.78.78-.78 2.05 0 2.83L4 21.41c.39.39.9.59 1.41.59.51 0 1.02-.2 1.41-.59l7.78-7.78 2.81-2.81c.8-.78.8-2.07 0-2.86zM5.41 20L4 18.59l7.72-7.72 1.47 1.35L5.41 20z\"/>\n",
              "  </svg>\n",
              "      </button>\n",
              "      \n",
              "  <style>\n",
              "    .colab-df-container {\n",
              "      display:flex;\n",
              "      flex-wrap:wrap;\n",
              "      gap: 12px;\n",
              "    }\n",
              "\n",
              "    .colab-df-convert {\n",
              "      background-color: #E8F0FE;\n",
              "      border: none;\n",
              "      border-radius: 50%;\n",
              "      cursor: pointer;\n",
              "      display: none;\n",
              "      fill: #1967D2;\n",
              "      height: 32px;\n",
              "      padding: 0 0 0 0;\n",
              "      width: 32px;\n",
              "    }\n",
              "\n",
              "    .colab-df-convert:hover {\n",
              "      background-color: #E2EBFA;\n",
              "      box-shadow: 0px 1px 2px rgba(60, 64, 67, 0.3), 0px 1px 3px 1px rgba(60, 64, 67, 0.15);\n",
              "      fill: #174EA6;\n",
              "    }\n",
              "\n",
              "    [theme=dark] .colab-df-convert {\n",
              "      background-color: #3B4455;\n",
              "      fill: #D2E3FC;\n",
              "    }\n",
              "\n",
              "    [theme=dark] .colab-df-convert:hover {\n",
              "      background-color: #434B5C;\n",
              "      box-shadow: 0px 1px 3px 1px rgba(0, 0, 0, 0.15);\n",
              "      filter: drop-shadow(0px 1px 2px rgba(0, 0, 0, 0.3));\n",
              "      fill: #FFFFFF;\n",
              "    }\n",
              "  </style>\n",
              "\n",
              "      <script>\n",
              "        const buttonEl =\n",
              "          document.querySelector('#df-9b8ec613-dbb3-402f-8431-8838749c0424 button.colab-df-convert');\n",
              "        buttonEl.style.display =\n",
              "          google.colab.kernel.accessAllowed ? 'block' : 'none';\n",
              "\n",
              "        async function convertToInteractive(key) {\n",
              "          const element = document.querySelector('#df-9b8ec613-dbb3-402f-8431-8838749c0424');\n",
              "          const dataTable =\n",
              "            await google.colab.kernel.invokeFunction('convertToInteractive',\n",
              "                                                     [key], {});\n",
              "          if (!dataTable) return;\n",
              "\n",
              "          const docLinkHtml = 'Like what you see? Visit the ' +\n",
              "            '<a target=\"_blank\" href=https://colab.research.google.com/notebooks/data_table.ipynb>data table notebook</a>'\n",
              "            + ' to learn more about interactive tables.';\n",
              "          element.innerHTML = '';\n",
              "          dataTable['output_type'] = 'display_data';\n",
              "          await google.colab.output.renderOutput(dataTable, element);\n",
              "          const docLink = document.createElement('div');\n",
              "          docLink.innerHTML = docLinkHtml;\n",
              "          element.appendChild(docLink);\n",
              "        }\n",
              "      </script>\n",
              "    </div>\n",
              "  </div>\n",
              "  "
            ]
          },
          "metadata": {},
          "execution_count": 30
        }
      ]
    },
    {
      "cell_type": "code",
      "source": [
        "df_pos = df['pos']\n",
        "df_F = df['F']\n",
        "df_C = df['C']\n",
        "df1 = pd.concat([df_pos,df_NGA, df_NGV, df_G, df_F, df_C], join = 'outer', axis = 1) "
      ],
      "metadata": {
        "id": "ESGIbglhB7vR"
      },
      "execution_count": null,
      "outputs": []
    },
    {
      "cell_type": "code",
      "source": [
        "df1.columns = ['pos','NGA','NGV','G','F','C']\n",
        "df1.head(10)"
      ],
      "metadata": {
        "colab": {
          "base_uri": "https://localhost:8080/",
          "height": 363
        },
        "id": "Xo2mjgqy9YHY",
        "outputId": "2290c603-4a0d-4250-b847-3a6535d41488"
      },
      "execution_count": null,
      "outputs": [
        {
          "output_type": "execute_result",
          "data": {
            "text/plain": [
              "   pos       NGA       NGV         G       F     C\n",
              "0  P1V  0.000659  0.000000  0.165129  Normal  None\n",
              "1  P1H  0.001067  0.000000  0.172528  Normal  None\n",
              "2  P2V  0.001307  0.000000  0.180150  Normal  None\n",
              "3  P2A  0.001421  0.000000  0.256356  Normal  None\n",
              "4  P1V  0.001521  0.000000  0.391828  Normal  None\n",
              "5  P1H  0.001682  0.000000  0.392006  Normal  None\n",
              "6  P2V  0.001822  0.296606  0.400378  Normal  None\n",
              "7  P2A  0.001923  0.479937  0.452721  Normal  None\n",
              "8  P1V  0.002026  0.592609  0.465285  Normal  None\n",
              "9  P1H  0.002149  0.656683  0.493702  Normal  None"
            ],
            "text/html": [
              "\n",
              "  <div id=\"df-b597d87c-b135-473e-bdee-d4f94071d2de\">\n",
              "    <div class=\"colab-df-container\">\n",
              "      <div>\n",
              "<style scoped>\n",
              "    .dataframe tbody tr th:only-of-type {\n",
              "        vertical-align: middle;\n",
              "    }\n",
              "\n",
              "    .dataframe tbody tr th {\n",
              "        vertical-align: top;\n",
              "    }\n",
              "\n",
              "    .dataframe thead th {\n",
              "        text-align: right;\n",
              "    }\n",
              "</style>\n",
              "<table border=\"1\" class=\"dataframe\">\n",
              "  <thead>\n",
              "    <tr style=\"text-align: right;\">\n",
              "      <th></th>\n",
              "      <th>pos</th>\n",
              "      <th>NGA</th>\n",
              "      <th>NGV</th>\n",
              "      <th>G</th>\n",
              "      <th>F</th>\n",
              "      <th>C</th>\n",
              "    </tr>\n",
              "  </thead>\n",
              "  <tbody>\n",
              "    <tr>\n",
              "      <th>0</th>\n",
              "      <td>P1V</td>\n",
              "      <td>0.000659</td>\n",
              "      <td>0.000000</td>\n",
              "      <td>0.165129</td>\n",
              "      <td>Normal</td>\n",
              "      <td>None</td>\n",
              "    </tr>\n",
              "    <tr>\n",
              "      <th>1</th>\n",
              "      <td>P1H</td>\n",
              "      <td>0.001067</td>\n",
              "      <td>0.000000</td>\n",
              "      <td>0.172528</td>\n",
              "      <td>Normal</td>\n",
              "      <td>None</td>\n",
              "    </tr>\n",
              "    <tr>\n",
              "      <th>2</th>\n",
              "      <td>P2V</td>\n",
              "      <td>0.001307</td>\n",
              "      <td>0.000000</td>\n",
              "      <td>0.180150</td>\n",
              "      <td>Normal</td>\n",
              "      <td>None</td>\n",
              "    </tr>\n",
              "    <tr>\n",
              "      <th>3</th>\n",
              "      <td>P2A</td>\n",
              "      <td>0.001421</td>\n",
              "      <td>0.000000</td>\n",
              "      <td>0.256356</td>\n",
              "      <td>Normal</td>\n",
              "      <td>None</td>\n",
              "    </tr>\n",
              "    <tr>\n",
              "      <th>4</th>\n",
              "      <td>P1V</td>\n",
              "      <td>0.001521</td>\n",
              "      <td>0.000000</td>\n",
              "      <td>0.391828</td>\n",
              "      <td>Normal</td>\n",
              "      <td>None</td>\n",
              "    </tr>\n",
              "    <tr>\n",
              "      <th>5</th>\n",
              "      <td>P1H</td>\n",
              "      <td>0.001682</td>\n",
              "      <td>0.000000</td>\n",
              "      <td>0.392006</td>\n",
              "      <td>Normal</td>\n",
              "      <td>None</td>\n",
              "    </tr>\n",
              "    <tr>\n",
              "      <th>6</th>\n",
              "      <td>P2V</td>\n",
              "      <td>0.001822</td>\n",
              "      <td>0.296606</td>\n",
              "      <td>0.400378</td>\n",
              "      <td>Normal</td>\n",
              "      <td>None</td>\n",
              "    </tr>\n",
              "    <tr>\n",
              "      <th>7</th>\n",
              "      <td>P2A</td>\n",
              "      <td>0.001923</td>\n",
              "      <td>0.479937</td>\n",
              "      <td>0.452721</td>\n",
              "      <td>Normal</td>\n",
              "      <td>None</td>\n",
              "    </tr>\n",
              "    <tr>\n",
              "      <th>8</th>\n",
              "      <td>P1V</td>\n",
              "      <td>0.002026</td>\n",
              "      <td>0.592609</td>\n",
              "      <td>0.465285</td>\n",
              "      <td>Normal</td>\n",
              "      <td>None</td>\n",
              "    </tr>\n",
              "    <tr>\n",
              "      <th>9</th>\n",
              "      <td>P1H</td>\n",
              "      <td>0.002149</td>\n",
              "      <td>0.656683</td>\n",
              "      <td>0.493702</td>\n",
              "      <td>Normal</td>\n",
              "      <td>None</td>\n",
              "    </tr>\n",
              "  </tbody>\n",
              "</table>\n",
              "</div>\n",
              "      <button class=\"colab-df-convert\" onclick=\"convertToInteractive('df-b597d87c-b135-473e-bdee-d4f94071d2de')\"\n",
              "              title=\"Convert this dataframe to an interactive table.\"\n",
              "              style=\"display:none;\">\n",
              "        \n",
              "  <svg xmlns=\"http://www.w3.org/2000/svg\" height=\"24px\"viewBox=\"0 0 24 24\"\n",
              "       width=\"24px\">\n",
              "    <path d=\"M0 0h24v24H0V0z\" fill=\"none\"/>\n",
              "    <path d=\"M18.56 5.44l.94 2.06.94-2.06 2.06-.94-2.06-.94-.94-2.06-.94 2.06-2.06.94zm-11 1L8.5 8.5l.94-2.06 2.06-.94-2.06-.94L8.5 2.5l-.94 2.06-2.06.94zm10 10l.94 2.06.94-2.06 2.06-.94-2.06-.94-.94-2.06-.94 2.06-2.06.94z\"/><path d=\"M17.41 7.96l-1.37-1.37c-.4-.4-.92-.59-1.43-.59-.52 0-1.04.2-1.43.59L10.3 9.45l-7.72 7.72c-.78.78-.78 2.05 0 2.83L4 21.41c.39.39.9.59 1.41.59.51 0 1.02-.2 1.41-.59l7.78-7.78 2.81-2.81c.8-.78.8-2.07 0-2.86zM5.41 20L4 18.59l7.72-7.72 1.47 1.35L5.41 20z\"/>\n",
              "  </svg>\n",
              "      </button>\n",
              "      \n",
              "  <style>\n",
              "    .colab-df-container {\n",
              "      display:flex;\n",
              "      flex-wrap:wrap;\n",
              "      gap: 12px;\n",
              "    }\n",
              "\n",
              "    .colab-df-convert {\n",
              "      background-color: #E8F0FE;\n",
              "      border: none;\n",
              "      border-radius: 50%;\n",
              "      cursor: pointer;\n",
              "      display: none;\n",
              "      fill: #1967D2;\n",
              "      height: 32px;\n",
              "      padding: 0 0 0 0;\n",
              "      width: 32px;\n",
              "    }\n",
              "\n",
              "    .colab-df-convert:hover {\n",
              "      background-color: #E2EBFA;\n",
              "      box-shadow: 0px 1px 2px rgba(60, 64, 67, 0.3), 0px 1px 3px 1px rgba(60, 64, 67, 0.15);\n",
              "      fill: #174EA6;\n",
              "    }\n",
              "\n",
              "    [theme=dark] .colab-df-convert {\n",
              "      background-color: #3B4455;\n",
              "      fill: #D2E3FC;\n",
              "    }\n",
              "\n",
              "    [theme=dark] .colab-df-convert:hover {\n",
              "      background-color: #434B5C;\n",
              "      box-shadow: 0px 1px 3px 1px rgba(0, 0, 0, 0.15);\n",
              "      filter: drop-shadow(0px 1px 2px rgba(0, 0, 0, 0.3));\n",
              "      fill: #FFFFFF;\n",
              "    }\n",
              "  </style>\n",
              "\n",
              "      <script>\n",
              "        const buttonEl =\n",
              "          document.querySelector('#df-b597d87c-b135-473e-bdee-d4f94071d2de button.colab-df-convert');\n",
              "        buttonEl.style.display =\n",
              "          google.colab.kernel.accessAllowed ? 'block' : 'none';\n",
              "\n",
              "        async function convertToInteractive(key) {\n",
              "          const element = document.querySelector('#df-b597d87c-b135-473e-bdee-d4f94071d2de');\n",
              "          const dataTable =\n",
              "            await google.colab.kernel.invokeFunction('convertToInteractive',\n",
              "                                                     [key], {});\n",
              "          if (!dataTable) return;\n",
              "\n",
              "          const docLinkHtml = 'Like what you see? Visit the ' +\n",
              "            '<a target=\"_blank\" href=https://colab.research.google.com/notebooks/data_table.ipynb>data table notebook</a>'\n",
              "            + ' to learn more about interactive tables.';\n",
              "          element.innerHTML = '';\n",
              "          dataTable['output_type'] = 'display_data';\n",
              "          await google.colab.output.renderOutput(dataTable, element);\n",
              "          const docLink = document.createElement('div');\n",
              "          docLink.innerHTML = docLinkHtml;\n",
              "          element.appendChild(docLink);\n",
              "        }\n",
              "      </script>\n",
              "    </div>\n",
              "  </div>\n",
              "  "
            ]
          },
          "metadata": {},
          "execution_count": 33
        }
      ]
    },
    {
      "cell_type": "code",
      "source": [
        "df.to_csv(r'C:\\Users\\tariq\\Desktop\\bi\\12.csv')"
      ],
      "metadata": {
        "id": "471NyyZe-1dq"
      },
      "execution_count": null,
      "outputs": []
    },
    {
      "cell_type": "code",
      "source": [
        "df1.to_csv('/content/drive/MyDrive/12.csv')"
      ],
      "metadata": {
        "id": "rIbvzv7g98P5"
      },
      "execution_count": null,
      "outputs": []
    },
    {
      "cell_type": "markdown",
      "source": [
        "\n",
        "\n",
        ">**Check missing values**"
      ],
      "metadata": {
        "id": "0IKTnFkQHqhb"
      }
    },
    {
      "cell_type": "code",
      "source": [
        "df1.isna().sum()"
      ],
      "metadata": {
        "id": "YM6SaZz-Ho0p",
        "colab": {
          "base_uri": "https://localhost:8080/"
        },
        "outputId": "9eea40d8-3782-4abd-d5ff-97e7ea38d1dd"
      },
      "execution_count": null,
      "outputs": [
        {
          "output_type": "execute_result",
          "data": {
            "text/plain": [
              "pos    3262980\n",
              "NGA          0\n",
              "NGV          0\n",
              "G            0\n",
              "F      3262980\n",
              "C      3262980\n",
              "dtype: int64"
            ]
          },
          "metadata": {},
          "execution_count": 35
        }
      ]
    },
    {
      "cell_type": "code",
      "source": [
        "df1.isna().sum()/len(df1)*100"
      ],
      "metadata": {
        "id": "OWLujIVdH9YY",
        "colab": {
          "base_uri": "https://localhost:8080/"
        },
        "outputId": "91fdc782-bcec-4446-87ac-38e66fbd8c6b"
      },
      "execution_count": null,
      "outputs": [
        {
          "output_type": "execute_result",
          "data": {
            "text/plain": [
              "pos    99.96875\n",
              "NGA     0.00000\n",
              "NGV     0.00000\n",
              "G       0.00000\n",
              "F      99.96875\n",
              "C      99.96875\n",
              "dtype: float64"
            ]
          },
          "metadata": {},
          "execution_count": 36
        }
      ]
    },
    {
      "cell_type": "markdown",
      "source": [
        "\n",
        "> As we see 99% of tha values in the column \"pos\", \"F\" and \"C\" are missing. we must format it."
      ],
      "metadata": {
        "id": "ck4tOn-PhVFq"
      }
    },
    {
      "cell_type": "markdown",
      "source": [
        "\n",
        "> **1- Format the 'pos' column** :"
      ],
      "metadata": {
        "id": "2iCBlAAnYcIj"
      }
    },
    {
      "cell_type": "code",
      "source": [
        "df_pos.head(10)"
      ],
      "metadata": {
        "id": "J2zPiY4WYbc3",
        "colab": {
          "base_uri": "https://localhost:8080/"
        },
        "outputId": "6b70a420-c490-4e0f-85fe-19ef8dbc28f7"
      },
      "execution_count": null,
      "outputs": [
        {
          "output_type": "execute_result",
          "data": {
            "text/plain": [
              "0    P1V\n",
              "1    P1H\n",
              "2    P2V\n",
              "3    P2A\n",
              "4    P1V\n",
              "5    P1H\n",
              "6    P2V\n",
              "7    P2A\n",
              "8    P1V\n",
              "9    P1H\n",
              "Name: pos, dtype: object"
            ]
          },
          "metadata": {},
          "execution_count": 37
        }
      ]
    },
    {
      "cell_type": "markdown",
      "source": [
        "\n",
        "> First, let's convert our dataframe column to a list"
      ],
      "metadata": {
        "id": "K8ZPdm8pGfed"
      }
    },
    {
      "cell_type": "code",
      "source": [
        "l_pos = df['pos'].tolist()\n",
        "len(l_pos) "
      ],
      "metadata": {
        "id": "96Uv6m2MiwyK",
        "colab": {
          "base_uri": "https://localhost:8080/"
        },
        "outputId": "50a93644-43ff-4e3a-cf52-54e98954b70a"
      },
      "execution_count": null,
      "outputs": [
        {
          "output_type": "execute_result",
          "data": {
            "text/plain": [
              "1020"
            ]
          },
          "metadata": {},
          "execution_count": 38
        }
      ]
    },
    {
      "cell_type": "markdown",
      "source": [
        "\n",
        "> we need to fill the missing values in the column 'pos' with 4 consecutive char value ('P1V', 'P1H','P2V','P2A')\n",
        "\n",
        "> At end, we need to have a list of ('P1V','P1H','P2V','P2A') with a lenght equal to our dataframe (the lenght of our dataframe = 3264000) "
      ],
      "metadata": {
        "id": "-4r-Yf39Gvm9"
      }
    },
    {
      "cell_type": "code",
      "source": [
        "L=[]\n",
        "for i in range (0,816000):\n",
        "  L.extend(('P1V','P1H','P2V','P2A'))\n",
        "len(L)"
      ],
      "metadata": {
        "id": "LDpmqU65llnE",
        "colab": {
          "base_uri": "https://localhost:8080/"
        },
        "outputId": "e41af4f0-c8de-4e7a-a9ab-a4aab0544c65"
      },
      "execution_count": null,
      "outputs": [
        {
          "output_type": "execute_result",
          "data": {
            "text/plain": [
              "3264000"
            ]
          },
          "metadata": {},
          "execution_count": 39
        }
      ]
    },
    {
      "cell_type": "markdown",
      "source": [
        "\n",
        "> Finally, we convert our list to a dataframe."
      ],
      "metadata": {
        "id": "Ec8mdwMiIgng"
      }
    },
    {
      "cell_type": "code",
      "source": [
        "df_pos = pd.DataFrame (L, columns = ['pos'])"
      ],
      "metadata": {
        "id": "vZGhsKwrnBrz"
      },
      "execution_count": null,
      "outputs": []
    },
    {
      "cell_type": "code",
      "source": [
        "df_pos"
      ],
      "metadata": {
        "id": "PEJ4Xe9snPjO",
        "colab": {
          "base_uri": "https://localhost:8080/",
          "height": 423
        },
        "outputId": "a74d4298-e183-4d27-ddc5-563f6560791f"
      },
      "execution_count": null,
      "outputs": [
        {
          "output_type": "execute_result",
          "data": {
            "text/plain": [
              "         pos\n",
              "0        P1V\n",
              "1        P1H\n",
              "2        P2V\n",
              "3        P2A\n",
              "4        P1V\n",
              "...      ...\n",
              "3263995  P2A\n",
              "3263996  P1V\n",
              "3263997  P1H\n",
              "3263998  P2V\n",
              "3263999  P2A\n",
              "\n",
              "[3264000 rows x 1 columns]"
            ],
            "text/html": [
              "\n",
              "  <div id=\"df-4daf8cf3-a677-447b-92f3-5ab04d9a30d4\">\n",
              "    <div class=\"colab-df-container\">\n",
              "      <div>\n",
              "<style scoped>\n",
              "    .dataframe tbody tr th:only-of-type {\n",
              "        vertical-align: middle;\n",
              "    }\n",
              "\n",
              "    .dataframe tbody tr th {\n",
              "        vertical-align: top;\n",
              "    }\n",
              "\n",
              "    .dataframe thead th {\n",
              "        text-align: right;\n",
              "    }\n",
              "</style>\n",
              "<table border=\"1\" class=\"dataframe\">\n",
              "  <thead>\n",
              "    <tr style=\"text-align: right;\">\n",
              "      <th></th>\n",
              "      <th>pos</th>\n",
              "    </tr>\n",
              "  </thead>\n",
              "  <tbody>\n",
              "    <tr>\n",
              "      <th>0</th>\n",
              "      <td>P1V</td>\n",
              "    </tr>\n",
              "    <tr>\n",
              "      <th>1</th>\n",
              "      <td>P1H</td>\n",
              "    </tr>\n",
              "    <tr>\n",
              "      <th>2</th>\n",
              "      <td>P2V</td>\n",
              "    </tr>\n",
              "    <tr>\n",
              "      <th>3</th>\n",
              "      <td>P2A</td>\n",
              "    </tr>\n",
              "    <tr>\n",
              "      <th>4</th>\n",
              "      <td>P1V</td>\n",
              "    </tr>\n",
              "    <tr>\n",
              "      <th>...</th>\n",
              "      <td>...</td>\n",
              "    </tr>\n",
              "    <tr>\n",
              "      <th>3263995</th>\n",
              "      <td>P2A</td>\n",
              "    </tr>\n",
              "    <tr>\n",
              "      <th>3263996</th>\n",
              "      <td>P1V</td>\n",
              "    </tr>\n",
              "    <tr>\n",
              "      <th>3263997</th>\n",
              "      <td>P1H</td>\n",
              "    </tr>\n",
              "    <tr>\n",
              "      <th>3263998</th>\n",
              "      <td>P2V</td>\n",
              "    </tr>\n",
              "    <tr>\n",
              "      <th>3263999</th>\n",
              "      <td>P2A</td>\n",
              "    </tr>\n",
              "  </tbody>\n",
              "</table>\n",
              "<p>3264000 rows × 1 columns</p>\n",
              "</div>\n",
              "      <button class=\"colab-df-convert\" onclick=\"convertToInteractive('df-4daf8cf3-a677-447b-92f3-5ab04d9a30d4')\"\n",
              "              title=\"Convert this dataframe to an interactive table.\"\n",
              "              style=\"display:none;\">\n",
              "        \n",
              "  <svg xmlns=\"http://www.w3.org/2000/svg\" height=\"24px\"viewBox=\"0 0 24 24\"\n",
              "       width=\"24px\">\n",
              "    <path d=\"M0 0h24v24H0V0z\" fill=\"none\"/>\n",
              "    <path d=\"M18.56 5.44l.94 2.06.94-2.06 2.06-.94-2.06-.94-.94-2.06-.94 2.06-2.06.94zm-11 1L8.5 8.5l.94-2.06 2.06-.94-2.06-.94L8.5 2.5l-.94 2.06-2.06.94zm10 10l.94 2.06.94-2.06 2.06-.94-2.06-.94-.94-2.06-.94 2.06-2.06.94z\"/><path d=\"M17.41 7.96l-1.37-1.37c-.4-.4-.92-.59-1.43-.59-.52 0-1.04.2-1.43.59L10.3 9.45l-7.72 7.72c-.78.78-.78 2.05 0 2.83L4 21.41c.39.39.9.59 1.41.59.51 0 1.02-.2 1.41-.59l7.78-7.78 2.81-2.81c.8-.78.8-2.07 0-2.86zM5.41 20L4 18.59l7.72-7.72 1.47 1.35L5.41 20z\"/>\n",
              "  </svg>\n",
              "      </button>\n",
              "      \n",
              "  <style>\n",
              "    .colab-df-container {\n",
              "      display:flex;\n",
              "      flex-wrap:wrap;\n",
              "      gap: 12px;\n",
              "    }\n",
              "\n",
              "    .colab-df-convert {\n",
              "      background-color: #E8F0FE;\n",
              "      border: none;\n",
              "      border-radius: 50%;\n",
              "      cursor: pointer;\n",
              "      display: none;\n",
              "      fill: #1967D2;\n",
              "      height: 32px;\n",
              "      padding: 0 0 0 0;\n",
              "      width: 32px;\n",
              "    }\n",
              "\n",
              "    .colab-df-convert:hover {\n",
              "      background-color: #E2EBFA;\n",
              "      box-shadow: 0px 1px 2px rgba(60, 64, 67, 0.3), 0px 1px 3px 1px rgba(60, 64, 67, 0.15);\n",
              "      fill: #174EA6;\n",
              "    }\n",
              "\n",
              "    [theme=dark] .colab-df-convert {\n",
              "      background-color: #3B4455;\n",
              "      fill: #D2E3FC;\n",
              "    }\n",
              "\n",
              "    [theme=dark] .colab-df-convert:hover {\n",
              "      background-color: #434B5C;\n",
              "      box-shadow: 0px 1px 3px 1px rgba(0, 0, 0, 0.15);\n",
              "      filter: drop-shadow(0px 1px 2px rgba(0, 0, 0, 0.3));\n",
              "      fill: #FFFFFF;\n",
              "    }\n",
              "  </style>\n",
              "\n",
              "      <script>\n",
              "        const buttonEl =\n",
              "          document.querySelector('#df-4daf8cf3-a677-447b-92f3-5ab04d9a30d4 button.colab-df-convert');\n",
              "        buttonEl.style.display =\n",
              "          google.colab.kernel.accessAllowed ? 'block' : 'none';\n",
              "\n",
              "        async function convertToInteractive(key) {\n",
              "          const element = document.querySelector('#df-4daf8cf3-a677-447b-92f3-5ab04d9a30d4');\n",
              "          const dataTable =\n",
              "            await google.colab.kernel.invokeFunction('convertToInteractive',\n",
              "                                                     [key], {});\n",
              "          if (!dataTable) return;\n",
              "\n",
              "          const docLinkHtml = 'Like what you see? Visit the ' +\n",
              "            '<a target=\"_blank\" href=https://colab.research.google.com/notebooks/data_table.ipynb>data table notebook</a>'\n",
              "            + ' to learn more about interactive tables.';\n",
              "          element.innerHTML = '';\n",
              "          dataTable['output_type'] = 'display_data';\n",
              "          await google.colab.output.renderOutput(dataTable, element);\n",
              "          const docLink = document.createElement('div');\n",
              "          docLink.innerHTML = docLinkHtml;\n",
              "          element.appendChild(docLink);\n",
              "        }\n",
              "      </script>\n",
              "    </div>\n",
              "  </div>\n",
              "  "
            ]
          },
          "metadata": {},
          "execution_count": 41
        }
      ]
    },
    {
      "cell_type": "markdown",
      "source": [
        "\n",
        "\n",
        "> **2-Format the F and C column**\n",
        "\n"
      ],
      "metadata": {
        "id": "-oGGXpdGHenz"
      }
    },
    {
      "cell_type": "markdown",
      "source": [
        "\n",
        "> let's try to find out if there is a way to fill in the missing data"
      ],
      "metadata": {
        "id": "Sf6nCaAsLZsV"
      }
    },
    {
      "cell_type": "code",
      "source": [
        "df_F.values"
      ],
      "metadata": {
        "colab": {
          "base_uri": "https://localhost:8080/"
        },
        "id": "D3pr8b4vHOt4",
        "outputId": "819aa154-ccdb-4e1a-aa5c-72e59c09b3b9"
      },
      "execution_count": null,
      "outputs": [
        {
          "output_type": "execute_result",
          "data": {
            "text/plain": [
              "array(['Normal', 'Normal', 'Normal', ..., 'Structural Fault',\n",
              "       'Structural Fault', 'Structural Fault'], dtype=object)"
            ]
          },
          "metadata": {},
          "execution_count": 43
        }
      ]
    },
    {
      "cell_type": "code",
      "source": [
        "df_F"
      ],
      "metadata": {
        "colab": {
          "base_uri": "https://localhost:8080/"
        },
        "id": "jx37E7yOKim6",
        "outputId": "d6e4833a-2e64-49ff-9ee7-e91355183624"
      },
      "execution_count": null,
      "outputs": [
        {
          "output_type": "execute_result",
          "data": {
            "text/plain": [
              "0                 Normal\n",
              "1                 Normal\n",
              "2                 Normal\n",
              "3                 Normal\n",
              "4                 Normal\n",
              "              ...       \n",
              "1015    Structural Fault\n",
              "1016    Structural Fault\n",
              "1017    Structural Fault\n",
              "1018    Structural Fault\n",
              "1019    Structural Fault\n",
              "Name: F, Length: 1020, dtype: object"
            ]
          },
          "metadata": {},
          "execution_count": 53
        }
      ]
    },
    {
      "cell_type": "code",
      "source": [
        "def unique(list1):\n",
        "     \n",
        "    # insert the list to the set\n",
        "    list_set = set(list1)\n",
        "    # convert the set to the list\n",
        "    unique_list = (list(list_set))\n",
        "    for x in unique_list:\n",
        "        print (x)"
      ],
      "metadata": {
        "id": "GUHRk62JJr73"
      },
      "execution_count": null,
      "outputs": []
    },
    {
      "cell_type": "code",
      "source": [
        "l_F = df['F'].tolist()\n",
        "len(l_F)"
      ],
      "metadata": {
        "colab": {
          "base_uri": "https://localhost:8080/"
        },
        "id": "YapuODZ_IUEV",
        "outputId": "3ba28196-eea1-4956-ea47-7abbc6497814"
      },
      "execution_count": null,
      "outputs": [
        {
          "output_type": "execute_result",
          "data": {
            "text/plain": [
              "1020"
            ]
          },
          "metadata": {},
          "execution_count": 48
        }
      ]
    },
    {
      "cell_type": "code",
      "source": [
        "#showing all the unique values of the list\n",
        "unique(l_F)"
      ],
      "metadata": {
        "colab": {
          "base_uri": "https://localhost:8080/"
        },
        "id": "ekzzNqR_JzN1",
        "outputId": "6f702f16-2766-4507-a978-367db339d0c1"
      },
      "execution_count": null,
      "outputs": [
        {
          "output_type": "stream",
          "name": "stdout",
          "text": [
            "Imbalance\n",
            "Structural Fault\n",
            "Misalignment\n",
            "Gear fault\n",
            "Bearing Lubrification Fault\n",
            "Mechanical looseness\n",
            "Normal\n"
          ]
        }
      ]
    },
    {
      "cell_type": "code",
      "source": [
        "count = l_F.count('Normal')\n",
        "count"
      ],
      "metadata": {
        "colab": {
          "base_uri": "https://localhost:8080/"
        },
        "id": "R3182o5OJNkg",
        "outputId": "279961fd-98c1-4acf-9939-c1f72956888a"
      },
      "execution_count": null,
      "outputs": [
        {
          "output_type": "execute_result",
          "data": {
            "text/plain": [
              "655"
            ]
          },
          "metadata": {},
          "execution_count": 47
        }
      ]
    },
    {
      "cell_type": "code",
      "source": [
        "count = l_F.count('Imbalance')\n",
        "count"
      ],
      "metadata": {
        "colab": {
          "base_uri": "https://localhost:8080/"
        },
        "id": "tLK2muzFKwED",
        "outputId": "3c354ada-2e3a-4a60-cc57-87981ae50c1d"
      },
      "execution_count": null,
      "outputs": [
        {
          "output_type": "execute_result",
          "data": {
            "text/plain": [
              "60"
            ]
          },
          "metadata": {},
          "execution_count": 54
        }
      ]
    },
    {
      "cell_type": "code",
      "source": [
        "count = l_F.count('Misalignment')\n",
        "count"
      ],
      "metadata": {
        "colab": {
          "base_uri": "https://localhost:8080/"
        },
        "id": "O6ttaecmK5Eg",
        "outputId": "742c502b-f4bc-4e3d-9b06-3ba12c72d60f"
      },
      "execution_count": null,
      "outputs": [
        {
          "output_type": "execute_result",
          "data": {
            "text/plain": [
              "81"
            ]
          },
          "metadata": {},
          "execution_count": 55
        }
      ]
    },
    {
      "cell_type": "code",
      "source": [
        "count = l_F.count('Gear fault')\n",
        "count"
      ],
      "metadata": {
        "colab": {
          "base_uri": "https://localhost:8080/"
        },
        "id": "SPKV4PJ3LIWc",
        "outputId": "e2bc278c-c2f8-41f1-dd29-ed952f4658d1"
      },
      "execution_count": null,
      "outputs": [
        {
          "output_type": "execute_result",
          "data": {
            "text/plain": [
              "16"
            ]
          },
          "metadata": {},
          "execution_count": 57
        }
      ]
    },
    {
      "cell_type": "code",
      "source": [
        "count = l_F.count('Bearing Lubrification Fault')\n",
        "count"
      ],
      "metadata": {
        "colab": {
          "base_uri": "https://localhost:8080/"
        },
        "id": "752LcnEYLPtG",
        "outputId": "e6873cc8-58b8-4c85-a6c6-75a0048348a0"
      },
      "execution_count": null,
      "outputs": [
        {
          "output_type": "execute_result",
          "data": {
            "text/plain": [
              "51"
            ]
          },
          "metadata": {},
          "execution_count": 58
        }
      ]
    },
    {
      "cell_type": "code",
      "source": [
        "count = l_F.count('Structural Fault')\n",
        "count"
      ],
      "metadata": {
        "colab": {
          "base_uri": "https://localhost:8080/"
        },
        "id": "Y8yZh5EwJTnR",
        "outputId": "14be9f6b-9bff-4de1-c526-dc4980ba4098"
      },
      "execution_count": null,
      "outputs": [
        {
          "output_type": "execute_result",
          "data": {
            "text/plain": [
              "72"
            ]
          },
          "metadata": {},
          "execution_count": 49
        }
      ]
    },
    {
      "cell_type": "markdown",
      "source": [
        "\n",
        "\n",
        "> It seems that there is no relation in lenght between the values in the missing data. We have to drop it out.\n",
        "\n"
      ],
      "metadata": {
        "id": "5xgUuRryMoSY"
      }
    },
    {
      "cell_type": "markdown",
      "source": [
        "\n",
        "\n",
        "> Format the C column\n",
        "\n"
      ],
      "metadata": {
        "id": "an2LFksxRDUa"
      }
    },
    {
      "cell_type": "code",
      "source": [
        "df_C.values"
      ],
      "metadata": {
        "colab": {
          "base_uri": "https://localhost:8080/"
        },
        "id": "_mqB2yc6RJFe",
        "outputId": "91be4216-9b81-47a3-8921-ea922a29ec55"
      },
      "execution_count": null,
      "outputs": [
        {
          "output_type": "execute_result",
          "data": {
            "text/plain": [
              "array(['None', 'None', 'None', ..., 'Frame', 'Frame', 'Frame'],\n",
              "      dtype=object)"
            ]
          },
          "metadata": {},
          "execution_count": 62
        }
      ]
    },
    {
      "cell_type": "code",
      "source": [
        "l_C = df['C'].tolist()\n",
        "len(l_C)"
      ],
      "metadata": {
        "colab": {
          "base_uri": "https://localhost:8080/"
        },
        "id": "bi7DVl_lRTSK",
        "outputId": "e6236abb-9455-423f-af82-51031ddb19b3"
      },
      "execution_count": null,
      "outputs": [
        {
          "output_type": "execute_result",
          "data": {
            "text/plain": [
              "1020"
            ]
          },
          "metadata": {},
          "execution_count": 63
        }
      ]
    },
    {
      "cell_type": "code",
      "source": [
        "#showing all the unique values of the list\n",
        "unique(l_C)"
      ],
      "metadata": {
        "colab": {
          "base_uri": "https://localhost:8080/"
        },
        "id": "kKyrslARRkXy",
        "outputId": "dbab0237-af2b-41bc-ed67-5513947aa84b"
      },
      "execution_count": null,
      "outputs": [
        {
          "output_type": "stream",
          "name": "stdout",
          "text": [
            "Frame\n",
            "Loosness\n",
            "Rotor\n",
            "None\n",
            "Lubrification\n",
            "Link\n",
            "Gear\n"
          ]
        }
      ]
    },
    {
      "cell_type": "code",
      "source": [
        "count = l_C.count('Frame')\n",
        "count"
      ],
      "metadata": {
        "colab": {
          "base_uri": "https://localhost:8080/"
        },
        "id": "Xmf71dm7Rt8L",
        "outputId": "2ce7a69a-501d-4b18-8a13-551a9d723eaf"
      },
      "execution_count": null,
      "outputs": [
        {
          "output_type": "execute_result",
          "data": {
            "text/plain": [
              "72"
            ]
          },
          "metadata": {},
          "execution_count": 67
        }
      ]
    },
    {
      "cell_type": "code",
      "source": [
        "count = l_C.count('Loosness')\n",
        "count"
      ],
      "metadata": {
        "colab": {
          "base_uri": "https://localhost:8080/"
        },
        "id": "JthjMgsjSSGJ",
        "outputId": "d79b640a-c707-45b7-8719-bb926e38f445"
      },
      "execution_count": null,
      "outputs": [
        {
          "output_type": "execute_result",
          "data": {
            "text/plain": [
              "85"
            ]
          },
          "metadata": {},
          "execution_count": 68
        }
      ]
    },
    {
      "cell_type": "code",
      "source": [
        "count = l_C.count('Rotor')\n",
        "count"
      ],
      "metadata": {
        "colab": {
          "base_uri": "https://localhost:8080/"
        },
        "id": "BRVd-RhkSX8J",
        "outputId": "8a5d51ee-6fd2-4d45-a6c1-c53e7bf9ae66"
      },
      "execution_count": null,
      "outputs": [
        {
          "output_type": "execute_result",
          "data": {
            "text/plain": [
              "60"
            ]
          },
          "metadata": {},
          "execution_count": 69
        }
      ]
    },
    {
      "cell_type": "markdown",
      "source": [
        "\n",
        "\n",
        "> Again no clear relationship between the lenght of the data. we have two choice either we drop out the three columns 'pos','C','F' or we drop out the rows. \n",
        "\n",
        "\n",
        "> If we drop all the missing rows, we will pay the price of missing data which can effect the accuracy of our model. \n",
        "\n",
        "\n",
        "\n"
      ],
      "metadata": {
        "id": "-nkbNpF0SgA4"
      }
    },
    {
      "cell_type": "markdown",
      "source": [
        "**Our cleaned DATA**"
      ],
      "metadata": {
        "id": "VwhgYCSiIXVf"
      }
    },
    {
      "cell_type": "code",
      "source": [
        "df1 = pd.concat([df_pos,df_NGA, df_NGV, df_G], join = 'outer', axis = 1) \n",
        "df1.columns = ['pos','NGA','NGV','G']\n",
        "df1"
      ],
      "metadata": {
        "id": "ih4ces2_noM-",
        "colab": {
          "base_uri": "https://localhost:8080/",
          "height": 423
        },
        "outputId": "5cb34228-a534-4e4d-c75d-421bdec60db8"
      },
      "execution_count": null,
      "outputs": [
        {
          "output_type": "execute_result",
          "data": {
            "text/plain": [
              "         pos       NGA       NGV         G\n",
              "0        P1V  0.000659  0.000000  0.165129\n",
              "1        P1H  0.001067  0.000000  0.172528\n",
              "2        P2V  0.001307  0.000000  0.180150\n",
              "3        P2A  0.001421  0.000000  0.256356\n",
              "4        P1V  0.001521  0.000000  0.391828\n",
              "...      ...       ...       ...       ...\n",
              "3263995  P2A  0.050291  4.013837  7.690372\n",
              "3263996  P1V  0.050294  4.013837  7.690550\n",
              "3263997  P1H  0.050298  4.013837  7.691053\n",
              "3263998  P2V  0.050301  4.013837  7.691064\n",
              "3263999  P2A  0.050304  4.013837  7.692094\n",
              "\n",
              "[3264000 rows x 4 columns]"
            ],
            "text/html": [
              "\n",
              "  <div id=\"df-c60e3eb9-b693-457b-836f-10ec91f84bfa\">\n",
              "    <div class=\"colab-df-container\">\n",
              "      <div>\n",
              "<style scoped>\n",
              "    .dataframe tbody tr th:only-of-type {\n",
              "        vertical-align: middle;\n",
              "    }\n",
              "\n",
              "    .dataframe tbody tr th {\n",
              "        vertical-align: top;\n",
              "    }\n",
              "\n",
              "    .dataframe thead th {\n",
              "        text-align: right;\n",
              "    }\n",
              "</style>\n",
              "<table border=\"1\" class=\"dataframe\">\n",
              "  <thead>\n",
              "    <tr style=\"text-align: right;\">\n",
              "      <th></th>\n",
              "      <th>pos</th>\n",
              "      <th>NGA</th>\n",
              "      <th>NGV</th>\n",
              "      <th>G</th>\n",
              "    </tr>\n",
              "  </thead>\n",
              "  <tbody>\n",
              "    <tr>\n",
              "      <th>0</th>\n",
              "      <td>P1V</td>\n",
              "      <td>0.000659</td>\n",
              "      <td>0.000000</td>\n",
              "      <td>0.165129</td>\n",
              "    </tr>\n",
              "    <tr>\n",
              "      <th>1</th>\n",
              "      <td>P1H</td>\n",
              "      <td>0.001067</td>\n",
              "      <td>0.000000</td>\n",
              "      <td>0.172528</td>\n",
              "    </tr>\n",
              "    <tr>\n",
              "      <th>2</th>\n",
              "      <td>P2V</td>\n",
              "      <td>0.001307</td>\n",
              "      <td>0.000000</td>\n",
              "      <td>0.180150</td>\n",
              "    </tr>\n",
              "    <tr>\n",
              "      <th>3</th>\n",
              "      <td>P2A</td>\n",
              "      <td>0.001421</td>\n",
              "      <td>0.000000</td>\n",
              "      <td>0.256356</td>\n",
              "    </tr>\n",
              "    <tr>\n",
              "      <th>4</th>\n",
              "      <td>P1V</td>\n",
              "      <td>0.001521</td>\n",
              "      <td>0.000000</td>\n",
              "      <td>0.391828</td>\n",
              "    </tr>\n",
              "    <tr>\n",
              "      <th>...</th>\n",
              "      <td>...</td>\n",
              "      <td>...</td>\n",
              "      <td>...</td>\n",
              "      <td>...</td>\n",
              "    </tr>\n",
              "    <tr>\n",
              "      <th>3263995</th>\n",
              "      <td>P2A</td>\n",
              "      <td>0.050291</td>\n",
              "      <td>4.013837</td>\n",
              "      <td>7.690372</td>\n",
              "    </tr>\n",
              "    <tr>\n",
              "      <th>3263996</th>\n",
              "      <td>P1V</td>\n",
              "      <td>0.050294</td>\n",
              "      <td>4.013837</td>\n",
              "      <td>7.690550</td>\n",
              "    </tr>\n",
              "    <tr>\n",
              "      <th>3263997</th>\n",
              "      <td>P1H</td>\n",
              "      <td>0.050298</td>\n",
              "      <td>4.013837</td>\n",
              "      <td>7.691053</td>\n",
              "    </tr>\n",
              "    <tr>\n",
              "      <th>3263998</th>\n",
              "      <td>P2V</td>\n",
              "      <td>0.050301</td>\n",
              "      <td>4.013837</td>\n",
              "      <td>7.691064</td>\n",
              "    </tr>\n",
              "    <tr>\n",
              "      <th>3263999</th>\n",
              "      <td>P2A</td>\n",
              "      <td>0.050304</td>\n",
              "      <td>4.013837</td>\n",
              "      <td>7.692094</td>\n",
              "    </tr>\n",
              "  </tbody>\n",
              "</table>\n",
              "<p>3264000 rows × 4 columns</p>\n",
              "</div>\n",
              "      <button class=\"colab-df-convert\" onclick=\"convertToInteractive('df-c60e3eb9-b693-457b-836f-10ec91f84bfa')\"\n",
              "              title=\"Convert this dataframe to an interactive table.\"\n",
              "              style=\"display:none;\">\n",
              "        \n",
              "  <svg xmlns=\"http://www.w3.org/2000/svg\" height=\"24px\"viewBox=\"0 0 24 24\"\n",
              "       width=\"24px\">\n",
              "    <path d=\"M0 0h24v24H0V0z\" fill=\"none\"/>\n",
              "    <path d=\"M18.56 5.44l.94 2.06.94-2.06 2.06-.94-2.06-.94-.94-2.06-.94 2.06-2.06.94zm-11 1L8.5 8.5l.94-2.06 2.06-.94-2.06-.94L8.5 2.5l-.94 2.06-2.06.94zm10 10l.94 2.06.94-2.06 2.06-.94-2.06-.94-.94-2.06-.94 2.06-2.06.94z\"/><path d=\"M17.41 7.96l-1.37-1.37c-.4-.4-.92-.59-1.43-.59-.52 0-1.04.2-1.43.59L10.3 9.45l-7.72 7.72c-.78.78-.78 2.05 0 2.83L4 21.41c.39.39.9.59 1.41.59.51 0 1.02-.2 1.41-.59l7.78-7.78 2.81-2.81c.8-.78.8-2.07 0-2.86zM5.41 20L4 18.59l7.72-7.72 1.47 1.35L5.41 20z\"/>\n",
              "  </svg>\n",
              "      </button>\n",
              "      \n",
              "  <style>\n",
              "    .colab-df-container {\n",
              "      display:flex;\n",
              "      flex-wrap:wrap;\n",
              "      gap: 12px;\n",
              "    }\n",
              "\n",
              "    .colab-df-convert {\n",
              "      background-color: #E8F0FE;\n",
              "      border: none;\n",
              "      border-radius: 50%;\n",
              "      cursor: pointer;\n",
              "      display: none;\n",
              "      fill: #1967D2;\n",
              "      height: 32px;\n",
              "      padding: 0 0 0 0;\n",
              "      width: 32px;\n",
              "    }\n",
              "\n",
              "    .colab-df-convert:hover {\n",
              "      background-color: #E2EBFA;\n",
              "      box-shadow: 0px 1px 2px rgba(60, 64, 67, 0.3), 0px 1px 3px 1px rgba(60, 64, 67, 0.15);\n",
              "      fill: #174EA6;\n",
              "    }\n",
              "\n",
              "    [theme=dark] .colab-df-convert {\n",
              "      background-color: #3B4455;\n",
              "      fill: #D2E3FC;\n",
              "    }\n",
              "\n",
              "    [theme=dark] .colab-df-convert:hover {\n",
              "      background-color: #434B5C;\n",
              "      box-shadow: 0px 1px 3px 1px rgba(0, 0, 0, 0.15);\n",
              "      filter: drop-shadow(0px 1px 2px rgba(0, 0, 0, 0.3));\n",
              "      fill: #FFFFFF;\n",
              "    }\n",
              "  </style>\n",
              "\n",
              "      <script>\n",
              "        const buttonEl =\n",
              "          document.querySelector('#df-c60e3eb9-b693-457b-836f-10ec91f84bfa button.colab-df-convert');\n",
              "        buttonEl.style.display =\n",
              "          google.colab.kernel.accessAllowed ? 'block' : 'none';\n",
              "\n",
              "        async function convertToInteractive(key) {\n",
              "          const element = document.querySelector('#df-c60e3eb9-b693-457b-836f-10ec91f84bfa');\n",
              "          const dataTable =\n",
              "            await google.colab.kernel.invokeFunction('convertToInteractive',\n",
              "                                                     [key], {});\n",
              "          if (!dataTable) return;\n",
              "\n",
              "          const docLinkHtml = 'Like what you see? Visit the ' +\n",
              "            '<a target=\"_blank\" href=https://colab.research.google.com/notebooks/data_table.ipynb>data table notebook</a>'\n",
              "            + ' to learn more about interactive tables.';\n",
              "          element.innerHTML = '';\n",
              "          dataTable['output_type'] = 'display_data';\n",
              "          await google.colab.output.renderOutput(dataTable, element);\n",
              "          const docLink = document.createElement('div');\n",
              "          docLink.innerHTML = docLinkHtml;\n",
              "          element.appendChild(docLink);\n",
              "        }\n",
              "      </script>\n",
              "    </div>\n",
              "  </div>\n",
              "  "
            ]
          },
          "metadata": {},
          "execution_count": 60
        }
      ]
    },
    {
      "cell_type": "markdown",
      "source": [
        "\n",
        "\n",
        "> **Saving the cleaned data**\n",
        "\n"
      ],
      "metadata": {
        "id": "E-iiLtESQIzZ"
      }
    },
    {
      "cell_type": "code",
      "source": [
        "df1.to_csv('/content/drive/MyDrive/cleaned data.csv')"
      ],
      "metadata": {
        "id": "lfJnUi2BPsK8"
      },
      "execution_count": null,
      "outputs": []
    },
    {
      "cell_type": "markdown",
      "source": [
        "# **Modeling** \n",
        "\n",
        "---\n",
        "*  Model choice : Linear regression\n",
        "*  target = 'G'\n",
        "*  features = 'NGA'\n",
        "---"
      ],
      "metadata": {
        "id": "AVIqjN5sXY1-"
      }
    },
    {
      "cell_type": "code",
      "source": [
        "df1 = pd.concat([df_pos,df_NGA, df_NGV, df_G], join = 'outer', axis = 1) \n",
        "df1.columns = ['pos','NGA','NGV','G']\n",
        "df1.head(10)"
      ],
      "metadata": {
        "colab": {
          "base_uri": "https://localhost:8080/",
          "height": 363
        },
        "id": "C4ThseWFIHz9",
        "outputId": "f345ea0c-93c1-46d0-967f-ca6c5bb915ed"
      },
      "execution_count": null,
      "outputs": [
        {
          "output_type": "execute_result",
          "data": {
            "text/plain": [
              "   pos       NGA       NGV         G\n",
              "0  P1V  0.000659  0.000000  0.165129\n",
              "1  P1H  0.001067  0.000000  0.172528\n",
              "2  P2V  0.001307  0.000000  0.180150\n",
              "3  P2A  0.001421  0.000000  0.256356\n",
              "4  P1V  0.001521  0.000000  0.391828\n",
              "5  P1H  0.001682  0.000000  0.392006\n",
              "6  P2V  0.001822  0.296606  0.400378\n",
              "7  P2A  0.001923  0.479937  0.452721\n",
              "8  P1V  0.002026  0.592609  0.465285\n",
              "9  P1H  0.002149  0.656683  0.493702"
            ],
            "text/html": [
              "\n",
              "  <div id=\"df-862887e3-3d01-4771-a378-0bb692ac7e47\">\n",
              "    <div class=\"colab-df-container\">\n",
              "      <div>\n",
              "<style scoped>\n",
              "    .dataframe tbody tr th:only-of-type {\n",
              "        vertical-align: middle;\n",
              "    }\n",
              "\n",
              "    .dataframe tbody tr th {\n",
              "        vertical-align: top;\n",
              "    }\n",
              "\n",
              "    .dataframe thead th {\n",
              "        text-align: right;\n",
              "    }\n",
              "</style>\n",
              "<table border=\"1\" class=\"dataframe\">\n",
              "  <thead>\n",
              "    <tr style=\"text-align: right;\">\n",
              "      <th></th>\n",
              "      <th>pos</th>\n",
              "      <th>NGA</th>\n",
              "      <th>NGV</th>\n",
              "      <th>G</th>\n",
              "    </tr>\n",
              "  </thead>\n",
              "  <tbody>\n",
              "    <tr>\n",
              "      <th>0</th>\n",
              "      <td>P1V</td>\n",
              "      <td>0.000659</td>\n",
              "      <td>0.000000</td>\n",
              "      <td>0.165129</td>\n",
              "    </tr>\n",
              "    <tr>\n",
              "      <th>1</th>\n",
              "      <td>P1H</td>\n",
              "      <td>0.001067</td>\n",
              "      <td>0.000000</td>\n",
              "      <td>0.172528</td>\n",
              "    </tr>\n",
              "    <tr>\n",
              "      <th>2</th>\n",
              "      <td>P2V</td>\n",
              "      <td>0.001307</td>\n",
              "      <td>0.000000</td>\n",
              "      <td>0.180150</td>\n",
              "    </tr>\n",
              "    <tr>\n",
              "      <th>3</th>\n",
              "      <td>P2A</td>\n",
              "      <td>0.001421</td>\n",
              "      <td>0.000000</td>\n",
              "      <td>0.256356</td>\n",
              "    </tr>\n",
              "    <tr>\n",
              "      <th>4</th>\n",
              "      <td>P1V</td>\n",
              "      <td>0.001521</td>\n",
              "      <td>0.000000</td>\n",
              "      <td>0.391828</td>\n",
              "    </tr>\n",
              "    <tr>\n",
              "      <th>5</th>\n",
              "      <td>P1H</td>\n",
              "      <td>0.001682</td>\n",
              "      <td>0.000000</td>\n",
              "      <td>0.392006</td>\n",
              "    </tr>\n",
              "    <tr>\n",
              "      <th>6</th>\n",
              "      <td>P2V</td>\n",
              "      <td>0.001822</td>\n",
              "      <td>0.296606</td>\n",
              "      <td>0.400378</td>\n",
              "    </tr>\n",
              "    <tr>\n",
              "      <th>7</th>\n",
              "      <td>P2A</td>\n",
              "      <td>0.001923</td>\n",
              "      <td>0.479937</td>\n",
              "      <td>0.452721</td>\n",
              "    </tr>\n",
              "    <tr>\n",
              "      <th>8</th>\n",
              "      <td>P1V</td>\n",
              "      <td>0.002026</td>\n",
              "      <td>0.592609</td>\n",
              "      <td>0.465285</td>\n",
              "    </tr>\n",
              "    <tr>\n",
              "      <th>9</th>\n",
              "      <td>P1H</td>\n",
              "      <td>0.002149</td>\n",
              "      <td>0.656683</td>\n",
              "      <td>0.493702</td>\n",
              "    </tr>\n",
              "  </tbody>\n",
              "</table>\n",
              "</div>\n",
              "      <button class=\"colab-df-convert\" onclick=\"convertToInteractive('df-862887e3-3d01-4771-a378-0bb692ac7e47')\"\n",
              "              title=\"Convert this dataframe to an interactive table.\"\n",
              "              style=\"display:none;\">\n",
              "        \n",
              "  <svg xmlns=\"http://www.w3.org/2000/svg\" height=\"24px\"viewBox=\"0 0 24 24\"\n",
              "       width=\"24px\">\n",
              "    <path d=\"M0 0h24v24H0V0z\" fill=\"none\"/>\n",
              "    <path d=\"M18.56 5.44l.94 2.06.94-2.06 2.06-.94-2.06-.94-.94-2.06-.94 2.06-2.06.94zm-11 1L8.5 8.5l.94-2.06 2.06-.94-2.06-.94L8.5 2.5l-.94 2.06-2.06.94zm10 10l.94 2.06.94-2.06 2.06-.94-2.06-.94-.94-2.06-.94 2.06-2.06.94z\"/><path d=\"M17.41 7.96l-1.37-1.37c-.4-.4-.92-.59-1.43-.59-.52 0-1.04.2-1.43.59L10.3 9.45l-7.72 7.72c-.78.78-.78 2.05 0 2.83L4 21.41c.39.39.9.59 1.41.59.51 0 1.02-.2 1.41-.59l7.78-7.78 2.81-2.81c.8-.78.8-2.07 0-2.86zM5.41 20L4 18.59l7.72-7.72 1.47 1.35L5.41 20z\"/>\n",
              "  </svg>\n",
              "      </button>\n",
              "      \n",
              "  <style>\n",
              "    .colab-df-container {\n",
              "      display:flex;\n",
              "      flex-wrap:wrap;\n",
              "      gap: 12px;\n",
              "    }\n",
              "\n",
              "    .colab-df-convert {\n",
              "      background-color: #E8F0FE;\n",
              "      border: none;\n",
              "      border-radius: 50%;\n",
              "      cursor: pointer;\n",
              "      display: none;\n",
              "      fill: #1967D2;\n",
              "      height: 32px;\n",
              "      padding: 0 0 0 0;\n",
              "      width: 32px;\n",
              "    }\n",
              "\n",
              "    .colab-df-convert:hover {\n",
              "      background-color: #E2EBFA;\n",
              "      box-shadow: 0px 1px 2px rgba(60, 64, 67, 0.3), 0px 1px 3px 1px rgba(60, 64, 67, 0.15);\n",
              "      fill: #174EA6;\n",
              "    }\n",
              "\n",
              "    [theme=dark] .colab-df-convert {\n",
              "      background-color: #3B4455;\n",
              "      fill: #D2E3FC;\n",
              "    }\n",
              "\n",
              "    [theme=dark] .colab-df-convert:hover {\n",
              "      background-color: #434B5C;\n",
              "      box-shadow: 0px 1px 3px 1px rgba(0, 0, 0, 0.15);\n",
              "      filter: drop-shadow(0px 1px 2px rgba(0, 0, 0, 0.3));\n",
              "      fill: #FFFFFF;\n",
              "    }\n",
              "  </style>\n",
              "\n",
              "      <script>\n",
              "        const buttonEl =\n",
              "          document.querySelector('#df-862887e3-3d01-4771-a378-0bb692ac7e47 button.colab-df-convert');\n",
              "        buttonEl.style.display =\n",
              "          google.colab.kernel.accessAllowed ? 'block' : 'none';\n",
              "\n",
              "        async function convertToInteractive(key) {\n",
              "          const element = document.querySelector('#df-862887e3-3d01-4771-a378-0bb692ac7e47');\n",
              "          const dataTable =\n",
              "            await google.colab.kernel.invokeFunction('convertToInteractive',\n",
              "                                                     [key], {});\n",
              "          if (!dataTable) return;\n",
              "\n",
              "          const docLinkHtml = 'Like what you see? Visit the ' +\n",
              "            '<a target=\"_blank\" href=https://colab.research.google.com/notebooks/data_table.ipynb>data table notebook</a>'\n",
              "            + ' to learn more about interactive tables.';\n",
              "          element.innerHTML = '';\n",
              "          dataTable['output_type'] = 'display_data';\n",
              "          await google.colab.output.renderOutput(dataTable, element);\n",
              "          const docLink = document.createElement('div');\n",
              "          docLink.innerHTML = docLinkHtml;\n",
              "          element.appendChild(docLink);\n",
              "        }\n",
              "      </script>\n",
              "    </div>\n",
              "  </div>\n",
              "  "
            ]
          },
          "metadata": {},
          "execution_count": 29
        }
      ]
    },
    {
      "cell_type": "code",
      "source": [
        "import seaborn as sns\n",
        "matrice_corr = df1.corr().round(1)\n",
        "sns.heatmap(data=matrice_corr, annot=True)"
      ],
      "metadata": {
        "colab": {
          "base_uri": "https://localhost:8080/",
          "height": 286
        },
        "id": "XABYVn8hhrBz",
        "outputId": "26d53311-bde2-4e34-b39c-90ba334bf334"
      },
      "execution_count": null,
      "outputs": [
        {
          "output_type": "execute_result",
          "data": {
            "text/plain": [
              "<matplotlib.axes._subplots.AxesSubplot at 0x7fe0564d3310>"
            ]
          },
          "metadata": {},
          "execution_count": 30
        },
        {
          "output_type": "display_data",
          "data": {
            "text/plain": [
              "<Figure size 432x288 with 2 Axes>"
            ],
            "image/png": "[encoded data removed]"
          },
          "metadata": {
            "needs_background": "light"
          }
        }
      ]
    },
    {
      "cell_type": "code",
      "source": [
        "from sklearn.model_selection import train_test_split\n",
        "X=pd.DataFrame(np.c_[df1['NGA']], columns = ['NGA'])\n",
        "Y=df1['G']\n",
        "X_train, X_test, Y_train, Y_test = train_test_split(X, Y, test_size = 0.3, random_state=5)\n",
        "print(X_train.shape)\n",
        "print(X_test.shape)\n",
        "print(Y_train.shape)\n",
        "print(Y_test.shape)"
      ],
      "metadata": {
        "colab": {
          "base_uri": "https://localhost:8080/"
        },
        "id": "UPmCnWLFhtnG",
        "outputId": "65a57496-10c7-4bec-cbad-21d6abc223de"
      },
      "execution_count": null,
      "outputs": [
        {
          "output_type": "stream",
          "name": "stdout",
          "text": [
            "(2284800, 1)\n",
            "(979200, 1)\n",
            "(2284800,)\n",
            "(979200,)\n"
          ]
        }
      ]
    },
    {
      "cell_type": "code",
      "source": [
        "from sklearn.linear_model import LinearRegression\n",
        "lmodellineaire = LinearRegression()\n",
        "lmodellineaire.fit(X_train, Y_train)"
      ],
      "metadata": {
        "colab": {
          "base_uri": "https://localhost:8080/"
        },
        "id": "wiEkKKaUqW41",
        "outputId": "44117345-ca20-450e-dd76-30e6f594ec4a"
      },
      "execution_count": null,
      "outputs": [
        {
          "output_type": "execute_result",
          "data": {
            "text/plain": [
              "LinearRegression()"
            ]
          },
          "metadata": {},
          "execution_count": 6
        }
      ]
    },
    {
      "cell_type": "code",
      "source": [
        "plt.scatter(X_train,Y_train)\n",
        "plt.show()"
      ],
      "metadata": {
        "colab": {
          "base_uri": "https://localhost:8080/",
          "height": 265
        },
        "id": "eeaYYmzqpRkZ",
        "outputId": "01cae5bf-5da5-4dd1-dee1-408ad63464b6"
      },
      "execution_count": null,
      "outputs": [
        {
          "output_type": "display_data",
          "data": {
            "text/plain": [
              "<Figure size 432x288 with 1 Axes>"
            ],
            "image/png": "[encoded data removed]"
          },
          "metadata": {
            "needs_background": "light"
          }
        }
      ]
    },
    {
      "cell_type": "code",
      "source": [
        "import statsmodels.api as sm\n",
        "X_train_sm = sm.add_constant(X_train)"
      ],
      "metadata": {
        "colab": {
          "base_uri": "https://localhost:8080/"
        },
        "id": "WIZadXCypihU",
        "outputId": "6a74a2ff-a44e-43d3-d805-3070b8c2bff4"
      },
      "execution_count": null,
      "outputs": [
        {
          "output_type": "stream",
          "name": "stderr",
          "text": [
            "/usr/local/lib/python3.7/dist-packages/statsmodels/tools/_testing.py:19: FutureWarning: pandas.util.testing is deprecated. Use the functions in the public API at pandas.testing instead.\n",
            "  import pandas.util.testing as tm\n",
            "/usr/local/lib/python3.7/dist-packages/statsmodels/tsa/tsatools.py:117: FutureWarning: In a future version of pandas all arguments of concat except for the argument 'objs' will be keyword-only\n",
            "  x = pd.concat(x[::order], 1)\n"
          ]
        }
      ]
    },
    {
      "cell_type": "code",
      "source": [
        "lr = sm.OLS(Y_train, X_train_sm).fit()\n",
        "# Printing the parameters\n",
        "lr.params"
      ],
      "metadata": {
        "colab": {
          "base_uri": "https://localhost:8080/"
        },
        "id": "d4QGwBKWpqXC",
        "outputId": "c363a369-3220-435f-dd73-fd8f317ef77a"
      },
      "execution_count": null,
      "outputs": [
        {
          "output_type": "execute_result",
          "data": {
            "text/plain": [
              "const     -0.496641\n",
              "NGA      154.786935\n",
              "dtype: float64"
            ]
          },
          "metadata": {},
          "execution_count": 35
        }
      ]
    },
    {
      "cell_type": "code",
      "source": [
        "plt.scatter(X_train, Y_train)\n",
        "plt.plot(X_train, -0.496641 + 154.786935*X_train, 'r')\n",
        "plt.show()"
      ],
      "metadata": {
        "colab": {
          "base_uri": "https://localhost:8080/",
          "height": 265
        },
        "id": "nFyb5EOcptWh",
        "outputId": "59f95ab3-557c-4437-8247-74e6b41bd14b"
      },
      "execution_count": null,
      "outputs": [
        {
          "output_type": "display_data",
          "data": {
            "text/plain": [
              "<Figure size 432x288 with 1 Axes>"
            ],
            "image/png": "[encoded data removed]"
          },
          "metadata": {
            "needs_background": "light"
          }
        }
      ]
    },
    {
      "cell_type": "code",
      "source": [
        "import matplotlib as mpl\n",
        "mpl.rcParams['agg.path.chunksize'] = 10000"
      ],
      "metadata": {
        "id": "caAaxp4uIXbQ"
      },
      "execution_count": null,
      "outputs": []
    },
    {
      "cell_type": "code",
      "source": [
        "plt.plot(Y_train,color='red')\n",
        "plt.axis([0,4*(10**6),0,150])"
      ],
      "metadata": {
        "colab": {
          "base_uri": "https://localhost:8080/",
          "height": 295
        },
        "id": "9ar4zjfsHnXb",
        "outputId": "09c6c65d-522e-42fe-fe8e-82954a5a0efc"
      },
      "execution_count": null,
      "outputs": [
        {
          "output_type": "execute_result",
          "data": {
            "text/plain": [
              "(0.0, 4000000.0, 0.0, 150.0)"
            ]
          },
          "metadata": {},
          "execution_count": 19
        },
        {
          "output_type": "display_data",
          "data": {
            "text/plain": [
              "<Figure size 432x288 with 1 Axes>"
            ],
            "image/png": "[encoded data removed]"
          },
          "metadata": {
            "needs_background": "light"
          }
        }
      ]
    },
    {
      "cell_type": "markdown",
      "source": [
        "# **Evaluation**\n",
        "\n",
        "---\n",
        "Linear regression\n",
        "*  Model choice : Linear regression\n",
        "*  Why this model ? : prediction of the signal G\n",
        "*  target = 'G'\n",
        "*  features = 'NGA'\n",
        "*  Why this features ? : view correlation matrix\n",
        "---"
      ],
      "metadata": {
        "id": "_t1Wmo-4I9Dy"
      }
    },
    {
      "cell_type": "code",
      "source": [
        "lr.summary()"
      ],
      "metadata": {
        "colab": {
          "base_uri": "https://localhost:8080/",
          "height": 444
        },
        "id": "LOM2C0i3p-UW",
        "outputId": "19ee8c82-3061-4516-aa62-264d633fe6b9"
      },
      "execution_count": null,
      "outputs": [
        {
          "output_type": "execute_result",
          "data": {
            "text/plain": [
              "<class 'statsmodels.iolib.summary.Summary'>\n",
              "\"\"\"\n",
              "                            OLS Regression Results                            \n",
              "==============================================================================\n",
              "Dep. Variable:                      G   R-squared:                       0.962\n",
              "Model:                            OLS   Adj. R-squared:                  0.962\n",
              "Method:                 Least Squares   F-statistic:                 5.725e+07\n",
              "Date:                Fri, 15 Apr 2022   Prob (F-statistic):               0.00\n",
              "Time:                        13:40:37   Log-Likelihood:            -4.9621e+06\n",
              "No. Observations:             2284800   AIC:                         9.924e+06\n",
              "Df Residuals:                 2284798   BIC:                         9.924e+06\n",
              "Df Model:                           1                                         \n",
              "Covariance Type:            nonrobust                                         \n",
              "==============================================================================\n",
              "                 coef    std err          t      P>|t|      [0.025      0.975]\n",
              "------------------------------------------------------------------------------\n",
              "const         -0.4966      0.002   -270.145      0.000      -0.500      -0.493\n",
              "NGA          154.7869      0.020   7566.355      0.000     154.747     154.827\n",
              "==============================================================================\n",
              "Omnibus:                  1153541.662   Durbin-Watson:                   2.000\n",
              "Prob(Omnibus):                  0.000   Jarque-Bera (JB):         89156024.479\n",
              "Skew:                           1.573   Prob(JB):                         0.00\n",
              "Kurtosis:                      33.440   Cond. No.                         14.6\n",
              "==============================================================================\n",
              "\n",
              "Warnings:\n",
              "[1] Standard Errors assume that the covariance matrix of the errors is correctly specified.\n",
              "\"\"\""
            ],
            "text/html": [
              "<table class=\"simpletable\">\n",
              "<caption>OLS Regression Results</caption>\n",
              "<tr>\n",
              "  <th>Dep. Variable:</th>            <td>G</td>        <th>  R-squared:         </th>  <td>   0.962</td>  \n",
              "</tr>\n",
              "<tr>\n",
              "  <th>Model:</th>                   <td>OLS</td>       <th>  Adj. R-squared:    </th>  <td>   0.962</td>  \n",
              "</tr>\n",
              "<tr>\n",
              "  <th>Method:</th>             <td>Least Squares</td>  <th>  F-statistic:       </th>  <td>5.725e+07</td> \n",
              "</tr>\n",
              "<tr>\n",
              "  <th>Date:</th>             <td>Fri, 15 Apr 2022</td> <th>  Prob (F-statistic):</th>   <td>  0.00</td>   \n",
              "</tr>\n",
              "<tr>\n",
              "  <th>Time:</th>                 <td>13:40:37</td>     <th>  Log-Likelihood:    </th> <td>-4.9621e+06</td>\n",
              "</tr>\n",
              "<tr>\n",
              "  <th>No. Observations:</th>      <td>2284800</td>     <th>  AIC:               </th>  <td>9.924e+06</td> \n",
              "</tr>\n",
              "<tr>\n",
              "  <th>Df Residuals:</th>          <td>2284798</td>     <th>  BIC:               </th>  <td>9.924e+06</td> \n",
              "</tr>\n",
              "<tr>\n",
              "  <th>Df Model:</th>              <td>     1</td>      <th>                     </th>      <td> </td>     \n",
              "</tr>\n",
              "<tr>\n",
              "  <th>Covariance Type:</th>      <td>nonrobust</td>    <th>                     </th>      <td> </td>     \n",
              "</tr>\n",
              "</table>\n",
              "<table class=\"simpletable\">\n",
              "<tr>\n",
              "    <td></td>       <th>coef</th>     <th>std err</th>      <th>t</th>      <th>P>|t|</th>  <th>[0.025</th>    <th>0.975]</th>  \n",
              "</tr>\n",
              "<tr>\n",
              "  <th>const</th> <td>   -0.4966</td> <td>    0.002</td> <td> -270.145</td> <td> 0.000</td> <td>   -0.500</td> <td>   -0.493</td>\n",
              "</tr>\n",
              "<tr>\n",
              "  <th>NGA</th>   <td>  154.7869</td> <td>    0.020</td> <td> 7566.355</td> <td> 0.000</td> <td>  154.747</td> <td>  154.827</td>\n",
              "</tr>\n",
              "</table>\n",
              "<table class=\"simpletable\">\n",
              "<tr>\n",
              "  <th>Omnibus:</th>       <td>1153541.662</td> <th>  Durbin-Watson:     </th>   <td>   2.000</td>  \n",
              "</tr>\n",
              "<tr>\n",
              "  <th>Prob(Omnibus):</th>   <td> 0.000</td>    <th>  Jarque-Bera (JB):  </th> <td>89156024.479</td>\n",
              "</tr>\n",
              "<tr>\n",
              "  <th>Skew:</th>            <td> 1.573</td>    <th>  Prob(JB):          </th>   <td>    0.00</td>  \n",
              "</tr>\n",
              "<tr>\n",
              "  <th>Kurtosis:</th>        <td>33.440</td>    <th>  Cond. No.          </th>   <td>    14.6</td>  \n",
              "</tr>\n",
              "</table><br/><br/>Warnings:<br/>[1] Standard Errors assume that the covariance matrix of the errors is correctly specified."
            ]
          },
          "metadata": {},
          "execution_count": 37
        }
      ]
    },
    {
      "cell_type": "code",
      "source": [
        "# Evaluation du training set\n",
        "from sklearn.metrics import r2_score\n",
        "from sklearn.metrics import mean_squared_error\n",
        "\n",
        "y_train_predict = lmodellineaire.predict(X_train)\n",
        "rmse = (np.sqrt(mean_squared_error(Y_train, y_train_predict)))\n",
        "r2 = r2_score(Y_train, y_train_predict)\n",
        " \n",
        "print('La performance du modèle sur la base dapprentissage')\n",
        "print('--------------------------------------')\n",
        "print('Lerreur quadratique moyenne est {}'.format(rmse))\n",
        "print('le score R2 est {}'.format(r2))\n",
        "print('\\n')\n",
        " \n",
        "# model evaluation for testing set\n",
        "y_test_predict = lmodellineaire.predict(X_test)\n",
        "rmse = (np.sqrt(mean_squared_error(Y_test, y_test_predict)))\n",
        "r2 = r2_score(Y_test, y_test_predict)\n",
        " \n",
        "print('La performance du modèle sur la base de test')\n",
        "print('--------------------------------------')\n",
        "print('Lerreur quadratique moyenne est {}'.format(rmse))\n",
        "print('le score R2 est {}'.format(r2))"
      ],
      "metadata": {
        "id": "ZNMq0vHsqEDr",
        "colab": {
          "base_uri": "https://localhost:8080/"
        },
        "outputId": "5f2436e5-f405-4fb4-ecdf-1e698279600a"
      },
      "execution_count": null,
      "outputs": [
        {
          "output_type": "stream",
          "name": "stdout",
          "text": [
            "La performance du modèle sur la base dapprentissage\n",
            "--------------------------------------\n",
            "Lerreur quadratique moyenne est 2.1230226240545096\n",
            "le score R2 est 0.9616223068263421\n",
            "\n",
            "\n",
            "La performance du modèle sur la base de test\n",
            "--------------------------------------\n",
            "Lerreur quadratique moyenne est 2.1251735385816595\n",
            "le score R2 est 0.961792356923065\n"
          ]
        }
      ]
    },
    {
      "cell_type": "code",
      "source": [
        "y_train_pred = lr.predict(X_train_sm)\n",
        "residu = (Y_train - y_train_pred)"
      ],
      "metadata": {
        "id": "w3gWGl-mraD7"
      },
      "execution_count": null,
      "outputs": []
    },
    {
      "cell_type": "code",
      "source": [
        "fig = plt.figure()\n",
        "sns.distplot(residu, bins = 15)\n",
        "plt.title('Error Terms', fontsize = 15)\n",
        "plt.xlabel('y_train - y_train_pred', fontsize = 15)\n",
        "plt.show()"
      ],
      "metadata": {
        "id": "mN7DHEucrbc-",
        "colab": {
          "base_uri": "https://localhost:8080/",
          "height": 358
        },
        "outputId": "1c26b83c-2e96-47b8-ba28-577291df604c"
      },
      "execution_count": null,
      "outputs": [
        {
          "output_type": "stream",
          "name": "stderr",
          "text": [
            "/usr/local/lib/python3.7/dist-packages/seaborn/distributions.py:2619: FutureWarning: `distplot` is a deprecated function and will be removed in a future version. Please adapt your code to use either `displot` (a figure-level function with similar flexibility) or `histplot` (an axes-level function for histograms).\n",
            "  warnings.warn(msg, FutureWarning)\n"
          ]
        },
        {
          "output_type": "display_data",
          "data": {
            "text/plain": [
              "<Figure size 432x288 with 1 Axes>"
            ],
            "image/png": "[encoded data removed]"
          },
          "metadata": {
            "needs_background": "light"
          }
        }
      ]
    },
    {
      "cell_type": "markdown",
      "source": [
        "# **Modeling** \n",
        "\n",
        "---\n",
        "*  Model choice : Linear regression double\n",
        "*  target = 'G'\n",
        "*  features = **'NGA' and 'NGV'**"
      ],
      "metadata": {
        "id": "e-gR_V6Ijl3x"
      }
    },
    {
      "cell_type": "code",
      "source": [
        "df1 = pd.read_csv('/content/drive/MyDrive/12.csv')"
      ],
      "metadata": {
        "colab": {
          "base_uri": "https://localhost:8080/"
        },
        "id": "8h_NFAmzmYx0",
        "outputId": "7e3bc146-6d0b-4928-d80e-db0a8eac57c6"
      },
      "execution_count": null,
      "outputs": [
        {
          "output_type": "stream",
          "name": "stderr",
          "text": [
            "/usr/local/lib/python3.7/dist-packages/IPython/core/interactiveshell.py:2882: DtypeWarning: Columns (1,5,6) have mixed types.Specify dtype option on import or set low_memory=False.\n",
            "  exec(code_obj, self.user_global_ns, self.user_ns)\n"
          ]
        }
      ]
    },
    {
      "cell_type": "code",
      "source": [
        "from sklearn.model_selection import train_test_split\n",
        "X=pd.DataFrame(np.c_[df1['NGA'],df1['NGV']], columns = ['NGA', 'NGV'])\n",
        "Y=df1['G']\n",
        "X_train, X_test, Y_train, Y_test = train_test_split(X, Y, test_size = 0.3, random_state=5)\n",
        "print(X_train.shape)\n",
        "print(X_test.shape)\n",
        "print(Y_train.shape)\n",
        "print(Y_test.shape)"
      ],
      "metadata": {
        "colab": {
          "base_uri": "https://localhost:8080/"
        },
        "id": "DxmaUW3Qih4M",
        "outputId": "679ea6bd-164e-4c8b-bb72-793d53c10c81"
      },
      "execution_count": null,
      "outputs": [
        {
          "output_type": "stream",
          "name": "stdout",
          "text": [
            "(2284800, 2)\n",
            "(979200, 2)\n",
            "(2284800,)\n",
            "(979200,)\n"
          ]
        }
      ]
    },
    {
      "cell_type": "code",
      "source": [
        "from sklearn.linear_model import LinearRegression\n",
        "lmodellineaire = LinearRegression()\n",
        "lmodellineaire.fit(X_train, Y_train)"
      ],
      "metadata": {
        "colab": {
          "base_uri": "https://localhost:8080/"
        },
        "id": "ElN2IPt7kQ4e",
        "outputId": "9a2c9e45-5886-4452-ba7b-a9337ef1580e"
      },
      "execution_count": null,
      "outputs": [
        {
          "output_type": "execute_result",
          "data": {
            "text/plain": [
              "LinearRegression()"
            ]
          },
          "metadata": {},
          "execution_count": 29
        }
      ]
    },
    {
      "cell_type": "code",
      "source": [
        "X_train=np.arange(0,len(X_train),1)"
      ],
      "metadata": {
        "id": "LCM1xsqUn806"
      },
      "execution_count": null,
      "outputs": []
    },
    {
      "cell_type": "code",
      "source": [
        "plt.scatter(X_train,Y_train)\n",
        "plt.show()"
      ],
      "metadata": {
        "colab": {
          "base_uri": "https://localhost:8080/",
          "height": 278
        },
        "id": "jrkmrB0YkUwG",
        "outputId": "6530da2f-d402-48f4-c260-2b2dff0f28ca"
      },
      "execution_count": null,
      "outputs": [
        {
          "output_type": "display_data",
          "data": {
            "text/plain": [
              "<Figure size 432x288 with 1 Axes>"
            ],
            "image/png": "[encoded data removed]"
          },
          "metadata": {
            "needs_background": "light"
          }
        }
      ]
    },
    {
      "cell_type": "code",
      "source": [
        "import statsmodels.api as sm\n",
        "X_train_sm = sm.add_constant(X_train)"
      ],
      "metadata": {
        "id": "vVKap6PRkZIe"
      },
      "execution_count": null,
      "outputs": []
    },
    {
      "cell_type": "code",
      "source": [
        "lr = sm.OLS(Y_train, X_train_sm).fit()\n",
        "# Printing the parameters\n",
        "lr.params"
      ],
      "metadata": {
        "colab": {
          "base_uri": "https://localhost:8080/"
        },
        "id": "wKrcO_aUklSF",
        "outputId": "06912d79-1594-4666-a509-dfb8469ee6d8"
      },
      "execution_count": null,
      "outputs": [
        {
          "output_type": "execute_result",
          "data": {
            "text/plain": [
              "const    8.484935e+00\n",
              "x1      -5.524012e-09\n",
              "dtype: float64"
            ]
          },
          "metadata": {},
          "execution_count": 33
        }
      ]
    },
    {
      "cell_type": "code",
      "source": [
        "plt.scatter(X_train, Y_train)\n",
        "plt.plot(X_train, 8.484935e+00 - 5.524012e-09*X_train, 'r')\n",
        "plt.show()"
      ],
      "metadata": {
        "colab": {
          "base_uri": "https://localhost:8080/",
          "height": 278
        },
        "id": "rgH3IqO0k8Nx",
        "outputId": "c83145c1-ac15-4e11-e7a9-a5e5370a57b9"
      },
      "execution_count": null,
      "outputs": [
        {
          "output_type": "display_data",
          "data": {
            "text/plain": [
              "<Figure size 432x288 with 1 Axes>"
            ],
            "image/png": "[encoded data removed]"
          },
          "metadata": {
            "needs_background": "light"
          }
        }
      ]
    },
    {
      "cell_type": "code",
      "source": [
        "#evaluation\n",
        "lr.summary()"
      ],
      "metadata": {
        "id": "5odkgN7Sk9Ue",
        "colab": {
          "base_uri": "https://localhost:8080/",
          "height": 478
        },
        "outputId": "bb80cb71-e6fd-4059-a5b9-bd1f8ec92b27"
      },
      "execution_count": null,
      "outputs": [
        {
          "output_type": "execute_result",
          "data": {
            "text/plain": [
              "<class 'statsmodels.iolib.summary.Summary'>\n",
              "\"\"\"\n",
              "                            OLS Regression Results                            \n",
              "==============================================================================\n",
              "Dep. Variable:                      G   R-squared:                       0.000\n",
              "Model:                            OLS   Adj. R-squared:                 -0.000\n",
              "Method:                 Least Squares   F-statistic:                    0.2583\n",
              "Date:                Fri, 15 Apr 2022   Prob (F-statistic):              0.611\n",
              "Time:                        21:39:46   Log-Likelihood:            -8.6866e+06\n",
              "No. Observations:             2284800   AIC:                         1.737e+07\n",
              "Df Residuals:                 2284798   BIC:                         1.737e+07\n",
              "Df Model:                           1                                         \n",
              "Covariance Type:            nonrobust                                         \n",
              "==============================================================================\n",
              "                 coef    std err          t      P>|t|      [0.025      0.975]\n",
              "------------------------------------------------------------------------------\n",
              "const          8.4849      0.014    591.735      0.000       8.457       8.513\n",
              "x1         -5.524e-09   1.09e-08     -0.508      0.611   -2.68e-08    1.58e-08\n",
              "==============================================================================\n",
              "Omnibus:                  1702465.552   Durbin-Watson:                   2.002\n",
              "Prob(Omnibus):                  0.000   Jarque-Bera (JB):         34739619.930\n",
              "Skew:                           3.462   Prob(JB):                         0.00\n",
              "Kurtosis:                      20.804   Cond. No.                     2.64e+06\n",
              "==============================================================================\n",
              "\n",
              "Warnings:\n",
              "[1] Standard Errors assume that the covariance matrix of the errors is correctly specified.\n",
              "[2] The condition number is large, 2.64e+06. This might indicate that there are\n",
              "strong multicollinearity or other numerical problems.\n",
              "\"\"\""
            ],
            "text/html": [
              "<table class=\"simpletable\">\n",
              "<caption>OLS Regression Results</caption>\n",
              "<tr>\n",
              "  <th>Dep. Variable:</th>            <td>G</td>        <th>  R-squared:         </th>  <td>   0.000</td>  \n",
              "</tr>\n",
              "<tr>\n",
              "  <th>Model:</th>                   <td>OLS</td>       <th>  Adj. R-squared:    </th>  <td>  -0.000</td>  \n",
              "</tr>\n",
              "<tr>\n",
              "  <th>Method:</th>             <td>Least Squares</td>  <th>  F-statistic:       </th>  <td>  0.2583</td>  \n",
              "</tr>\n",
              "<tr>\n",
              "  <th>Date:</th>             <td>Fri, 15 Apr 2022</td> <th>  Prob (F-statistic):</th>   <td> 0.611</td>   \n",
              "</tr>\n",
              "<tr>\n",
              "  <th>Time:</th>                 <td>21:39:46</td>     <th>  Log-Likelihood:    </th> <td>-8.6866e+06</td>\n",
              "</tr>\n",
              "<tr>\n",
              "  <th>No. Observations:</th>      <td>2284800</td>     <th>  AIC:               </th>  <td>1.737e+07</td> \n",
              "</tr>\n",
              "<tr>\n",
              "  <th>Df Residuals:</th>          <td>2284798</td>     <th>  BIC:               </th>  <td>1.737e+07</td> \n",
              "</tr>\n",
              "<tr>\n",
              "  <th>Df Model:</th>              <td>     1</td>      <th>                     </th>      <td> </td>     \n",
              "</tr>\n",
              "<tr>\n",
              "  <th>Covariance Type:</th>      <td>nonrobust</td>    <th>                     </th>      <td> </td>     \n",
              "</tr>\n",
              "</table>\n",
              "<table class=\"simpletable\">\n",
              "<tr>\n",
              "    <td></td>       <th>coef</th>     <th>std err</th>      <th>t</th>      <th>P>|t|</th>  <th>[0.025</th>    <th>0.975]</th>  \n",
              "</tr>\n",
              "<tr>\n",
              "  <th>const</th> <td>    8.4849</td> <td>    0.014</td> <td>  591.735</td> <td> 0.000</td> <td>    8.457</td> <td>    8.513</td>\n",
              "</tr>\n",
              "<tr>\n",
              "  <th>x1</th>    <td>-5.524e-09</td> <td> 1.09e-08</td> <td>   -0.508</td> <td> 0.611</td> <td>-2.68e-08</td> <td> 1.58e-08</td>\n",
              "</tr>\n",
              "</table>\n",
              "<table class=\"simpletable\">\n",
              "<tr>\n",
              "  <th>Omnibus:</th>       <td>1702465.552</td> <th>  Durbin-Watson:     </th>   <td>   2.002</td>  \n",
              "</tr>\n",
              "<tr>\n",
              "  <th>Prob(Omnibus):</th>   <td> 0.000</td>    <th>  Jarque-Bera (JB):  </th> <td>34739619.930</td>\n",
              "</tr>\n",
              "<tr>\n",
              "  <th>Skew:</th>            <td> 3.462</td>    <th>  Prob(JB):          </th>   <td>    0.00</td>  \n",
              "</tr>\n",
              "<tr>\n",
              "  <th>Kurtosis:</th>        <td>20.804</td>    <th>  Cond. No.          </th>   <td>2.64e+06</td>  \n",
              "</tr>\n",
              "</table><br/><br/>Warnings:<br/>[1] Standard Errors assume that the covariance matrix of the errors is correctly specified.<br/>[2] The condition number is large, 2.64e+06. This might indicate that there are<br/>strong multicollinearity or other numerical problems."
            ]
          },
          "metadata": {},
          "execution_count": 27
        }
      ]
    },
    {
      "cell_type": "markdown",
      "source": [
        "\n",
        "\n",
        "> We should had predicted this very bad regression because our selection of features was not wise because even if there was a high correlation with the target there was also a high corellation between the features ! \n",
        "\n"
      ],
      "metadata": {
        "id": "F5ZLggLCOQfN"
      }
    },
    {
      "cell_type": "markdown",
      "source": [
        "# **Pre-processing the data (second try)**\n",
        "\n",
        "---\n",
        "\n"
      ],
      "metadata": {
        "id": "nzkPGmYTPIhk"
      }
    },
    {
      "cell_type": "markdown",
      "source": [
        "Now let's try to drop the missing rows, we will miss the accuracy but let's give it a try."
      ],
      "metadata": {
        "id": "qFIRSwMsPVnK"
      }
    },
    {
      "cell_type": "code",
      "source": [
        "df1 = pd.read_csv('/content/drive/MyDrive/12.csv')"
      ],
      "metadata": {
        "colab": {
          "base_uri": "https://localhost:8080/"
        },
        "id": "qaG-TnZhUNyy",
        "outputId": "a2b7cd90-da62-436a-bf21-17f4f1d2c372"
      },
      "execution_count": null,
      "outputs": [
        {
          "output_type": "stream",
          "name": "stderr",
          "text": [
            "/usr/local/lib/python3.7/dist-packages/IPython/core/interactiveshell.py:2882: DtypeWarning: Columns (1,5,6) have mixed types.Specify dtype option on import or set low_memory=False.\n",
            "  exec(code_obj, self.user_global_ns, self.user_ns)\n"
          ]
        }
      ]
    },
    {
      "cell_type": "code",
      "source": [
        "df1.head(10)"
      ],
      "metadata": {
        "colab": {
          "base_uri": "https://localhost:8080/",
          "height": 363
        },
        "id": "UAA1x-YiUYHF",
        "outputId": "660a7d46-224f-48d0-aa12-a66d9c3efe62"
      },
      "execution_count": null,
      "outputs": [
        {
          "output_type": "execute_result",
          "data": {
            "text/plain": [
              "   Unnamed: 0  pos       NGA       NGV         G       F     C\n",
              "0           0  P1V  0.000659  0.000000  0.165129  Normal  None\n",
              "1           1  P1H  0.001067  0.000000  0.172528  Normal  None\n",
              "2           2  P2V  0.001307  0.000000  0.180150  Normal  None\n",
              "3           3  P2A  0.001421  0.000000  0.256356  Normal  None\n",
              "4           4  P1V  0.001521  0.000000  0.391828  Normal  None\n",
              "5           5  P1H  0.001682  0.000000  0.392006  Normal  None\n",
              "6           6  P2V  0.001822  0.296606  0.400378  Normal  None\n",
              "7           7  P2A  0.001923  0.479937  0.452721  Normal  None\n",
              "8           8  P1V  0.002026  0.592609  0.465285  Normal  None\n",
              "9           9  P1H  0.002149  0.656683  0.493702  Normal  None"
            ],
            "text/html": [
              "\n",
              "  <div id=\"df-56451f4f-8286-4143-8d25-f97bfe9d02e8\">\n",
              "    <div class=\"colab-df-container\">\n",
              "      <div>\n",
              "<style scoped>\n",
              "    .dataframe tbody tr th:only-of-type {\n",
              "        vertical-align: middle;\n",
              "    }\n",
              "\n",
              "    .dataframe tbody tr th {\n",
              "        vertical-align: top;\n",
              "    }\n",
              "\n",
              "    .dataframe thead th {\n",
              "        text-align: right;\n",
              "    }\n",
              "</style>\n",
              "<table border=\"1\" class=\"dataframe\">\n",
              "  <thead>\n",
              "    <tr style=\"text-align: right;\">\n",
              "      <th></th>\n",
              "      <th>Unnamed: 0</th>\n",
              "      <th>pos</th>\n",
              "      <th>NGA</th>\n",
              "      <th>NGV</th>\n",
              "      <th>G</th>\n",
              "      <th>F</th>\n",
              "      <th>C</th>\n",
              "    </tr>\n",
              "  </thead>\n",
              "  <tbody>\n",
              "    <tr>\n",
              "      <th>0</th>\n",
              "      <td>0</td>\n",
              "      <td>P1V</td>\n",
              "      <td>0.000659</td>\n",
              "      <td>0.000000</td>\n",
              "      <td>0.165129</td>\n",
              "      <td>Normal</td>\n",
              "      <td>None</td>\n",
              "    </tr>\n",
              "    <tr>\n",
              "      <th>1</th>\n",
              "      <td>1</td>\n",
              "      <td>P1H</td>\n",
              "      <td>0.001067</td>\n",
              "      <td>0.000000</td>\n",
              "      <td>0.172528</td>\n",
              "      <td>Normal</td>\n",
              "      <td>None</td>\n",
              "    </tr>\n",
              "    <tr>\n",
              "      <th>2</th>\n",
              "      <td>2</td>\n",
              "      <td>P2V</td>\n",
              "      <td>0.001307</td>\n",
              "      <td>0.000000</td>\n",
              "      <td>0.180150</td>\n",
              "      <td>Normal</td>\n",
              "      <td>None</td>\n",
              "    </tr>\n",
              "    <tr>\n",
              "      <th>3</th>\n",
              "      <td>3</td>\n",
              "      <td>P2A</td>\n",
              "      <td>0.001421</td>\n",
              "      <td>0.000000</td>\n",
              "      <td>0.256356</td>\n",
              "      <td>Normal</td>\n",
              "      <td>None</td>\n",
              "    </tr>\n",
              "    <tr>\n",
              "      <th>4</th>\n",
              "      <td>4</td>\n",
              "      <td>P1V</td>\n",
              "      <td>0.001521</td>\n",
              "      <td>0.000000</td>\n",
              "      <td>0.391828</td>\n",
              "      <td>Normal</td>\n",
              "      <td>None</td>\n",
              "    </tr>\n",
              "    <tr>\n",
              "      <th>5</th>\n",
              "      <td>5</td>\n",
              "      <td>P1H</td>\n",
              "      <td>0.001682</td>\n",
              "      <td>0.000000</td>\n",
              "      <td>0.392006</td>\n",
              "      <td>Normal</td>\n",
              "      <td>None</td>\n",
              "    </tr>\n",
              "    <tr>\n",
              "      <th>6</th>\n",
              "      <td>6</td>\n",
              "      <td>P2V</td>\n",
              "      <td>0.001822</td>\n",
              "      <td>0.296606</td>\n",
              "      <td>0.400378</td>\n",
              "      <td>Normal</td>\n",
              "      <td>None</td>\n",
              "    </tr>\n",
              "    <tr>\n",
              "      <th>7</th>\n",
              "      <td>7</td>\n",
              "      <td>P2A</td>\n",
              "      <td>0.001923</td>\n",
              "      <td>0.479937</td>\n",
              "      <td>0.452721</td>\n",
              "      <td>Normal</td>\n",
              "      <td>None</td>\n",
              "    </tr>\n",
              "    <tr>\n",
              "      <th>8</th>\n",
              "      <td>8</td>\n",
              "      <td>P1V</td>\n",
              "      <td>0.002026</td>\n",
              "      <td>0.592609</td>\n",
              "      <td>0.465285</td>\n",
              "      <td>Normal</td>\n",
              "      <td>None</td>\n",
              "    </tr>\n",
              "    <tr>\n",
              "      <th>9</th>\n",
              "      <td>9</td>\n",
              "      <td>P1H</td>\n",
              "      <td>0.002149</td>\n",
              "      <td>0.656683</td>\n",
              "      <td>0.493702</td>\n",
              "      <td>Normal</td>\n",
              "      <td>None</td>\n",
              "    </tr>\n",
              "  </tbody>\n",
              "</table>\n",
              "</div>\n",
              "      <button class=\"colab-df-convert\" onclick=\"convertToInteractive('df-56451f4f-8286-4143-8d25-f97bfe9d02e8')\"\n",
              "              title=\"Convert this dataframe to an interactive table.\"\n",
              "              style=\"display:none;\">\n",
              "        \n",
              "  <svg xmlns=\"http://www.w3.org/2000/svg\" height=\"24px\"viewBox=\"0 0 24 24\"\n",
              "       width=\"24px\">\n",
              "    <path d=\"M0 0h24v24H0V0z\" fill=\"none\"/>\n",
              "    <path d=\"M18.56 5.44l.94 2.06.94-2.06 2.06-.94-2.06-.94-.94-2.06-.94 2.06-2.06.94zm-11 1L8.5 8.5l.94-2.06 2.06-.94-2.06-.94L8.5 2.5l-.94 2.06-2.06.94zm10 10l.94 2.06.94-2.06 2.06-.94-2.06-.94-.94-2.06-.94 2.06-2.06.94z\"/><path d=\"M17.41 7.96l-1.37-1.37c-.4-.4-.92-.59-1.43-.59-.52 0-1.04.2-1.43.59L10.3 9.45l-7.72 7.72c-.78.78-.78 2.05 0 2.83L4 21.41c.39.39.9.59 1.41.59.51 0 1.02-.2 1.41-.59l7.78-7.78 2.81-2.81c.8-.78.8-2.07 0-2.86zM5.41 20L4 18.59l7.72-7.72 1.47 1.35L5.41 20z\"/>\n",
              "  </svg>\n",
              "      </button>\n",
              "      \n",
              "  <style>\n",
              "    .colab-df-container {\n",
              "      display:flex;\n",
              "      flex-wrap:wrap;\n",
              "      gap: 12px;\n",
              "    }\n",
              "\n",
              "    .colab-df-convert {\n",
              "      background-color: #E8F0FE;\n",
              "      border: none;\n",
              "      border-radius: 50%;\n",
              "      cursor: pointer;\n",
              "      display: none;\n",
              "      fill: #1967D2;\n",
              "      height: 32px;\n",
              "      padding: 0 0 0 0;\n",
              "      width: 32px;\n",
              "    }\n",
              "\n",
              "    .colab-df-convert:hover {\n",
              "      background-color: #E2EBFA;\n",
              "      box-shadow: 0px 1px 2px rgba(60, 64, 67, 0.3), 0px 1px 3px 1px rgba(60, 64, 67, 0.15);\n",
              "      fill: #174EA6;\n",
              "    }\n",
              "\n",
              "    [theme=dark] .colab-df-convert {\n",
              "      background-color: #3B4455;\n",
              "      fill: #D2E3FC;\n",
              "    }\n",
              "\n",
              "    [theme=dark] .colab-df-convert:hover {\n",
              "      background-color: #434B5C;\n",
              "      box-shadow: 0px 1px 3px 1px rgba(0, 0, 0, 0.15);\n",
              "      filter: drop-shadow(0px 1px 2px rgba(0, 0, 0, 0.3));\n",
              "      fill: #FFFFFF;\n",
              "    }\n",
              "  </style>\n",
              "\n",
              "      <script>\n",
              "        const buttonEl =\n",
              "          document.querySelector('#df-56451f4f-8286-4143-8d25-f97bfe9d02e8 button.colab-df-convert');\n",
              "        buttonEl.style.display =\n",
              "          google.colab.kernel.accessAllowed ? 'block' : 'none';\n",
              "\n",
              "        async function convertToInteractive(key) {\n",
              "          const element = document.querySelector('#df-56451f4f-8286-4143-8d25-f97bfe9d02e8');\n",
              "          const dataTable =\n",
              "            await google.colab.kernel.invokeFunction('convertToInteractive',\n",
              "                                                     [key], {});\n",
              "          if (!dataTable) return;\n",
              "\n",
              "          const docLinkHtml = 'Like what you see? Visit the ' +\n",
              "            '<a target=\"_blank\" href=https://colab.research.google.com/notebooks/data_table.ipynb>data table notebook</a>'\n",
              "            + ' to learn more about interactive tables.';\n",
              "          element.innerHTML = '';\n",
              "          dataTable['output_type'] = 'display_data';\n",
              "          await google.colab.output.renderOutput(dataTable, element);\n",
              "          const docLink = document.createElement('div');\n",
              "          docLink.innerHTML = docLinkHtml;\n",
              "          element.appendChild(docLink);\n",
              "        }\n",
              "      </script>\n",
              "    </div>\n",
              "  </div>\n",
              "  "
            ]
          },
          "metadata": {},
          "execution_count": 71
        }
      ]
    },
    {
      "cell_type": "code",
      "source": [
        "df1.isna().sum()"
      ],
      "metadata": {
        "colab": {
          "base_uri": "https://localhost:8080/"
        },
        "id": "rglbaasWUwkt",
        "outputId": "1155418a-0574-4f05-87d2-1da16fb026e3"
      },
      "execution_count": null,
      "outputs": [
        {
          "output_type": "execute_result",
          "data": {
            "text/plain": [
              "Unnamed: 0          0\n",
              "pos           3262980\n",
              "NGA                 0\n",
              "NGV                 0\n",
              "G                   0\n",
              "F             3262980\n",
              "C             3262980\n",
              "dtype: int64"
            ]
          },
          "metadata": {},
          "execution_count": 72
        }
      ]
    },
    {
      "cell_type": "code",
      "source": [
        "df2 = df1.dropna()\n",
        "df2"
      ],
      "metadata": {
        "colab": {
          "base_uri": "https://localhost:8080/",
          "height": 423
        },
        "id": "BiqaVTfQUzqR",
        "outputId": "4eb9641a-6965-4aa7-f53f-77f70161cd41"
      },
      "execution_count": null,
      "outputs": [
        {
          "output_type": "execute_result",
          "data": {
            "text/plain": [
              "      Unnamed: 0  pos       NGA       NGV         G                 F      C\n",
              "0              0  P1V  0.000659  0.000000  0.165129            Normal   None\n",
              "1              1  P1H  0.001067  0.000000  0.172528            Normal   None\n",
              "2              2  P2V  0.001307  0.000000  0.180150            Normal   None\n",
              "3              3  P2A  0.001421  0.000000  0.256356            Normal   None\n",
              "4              4  P1V  0.001521  0.000000  0.391828            Normal   None\n",
              "...          ...  ...       ...       ...       ...               ...    ...\n",
              "1015        1015  P2A  0.020090  0.884283  3.964699  Structural Fault  Frame\n",
              "1016        1016  P1V  0.020099  0.884285  3.964869  Structural Fault  Frame\n",
              "1017        1017  P1H  0.020106  0.884288  3.965581  Structural Fault  Frame\n",
              "1018        1018  P2V  0.020114  0.884291  3.966773  Structural Fault  Frame\n",
              "1019        1019  P2A  0.020125  0.884292  3.967091  Structural Fault  Frame\n",
              "\n",
              "[1020 rows x 7 columns]"
            ],
            "text/html": [
              "\n",
              "  <div id=\"df-11beff97-d5be-4453-8cf0-e0b37d32a881\">\n",
              "    <div class=\"colab-df-container\">\n",
              "      <div>\n",
              "<style scoped>\n",
              "    .dataframe tbody tr th:only-of-type {\n",
              "        vertical-align: middle;\n",
              "    }\n",
              "\n",
              "    .dataframe tbody tr th {\n",
              "        vertical-align: top;\n",
              "    }\n",
              "\n",
              "    .dataframe thead th {\n",
              "        text-align: right;\n",
              "    }\n",
              "</style>\n",
              "<table border=\"1\" class=\"dataframe\">\n",
              "  <thead>\n",
              "    <tr style=\"text-align: right;\">\n",
              "      <th></th>\n",
              "      <th>Unnamed: 0</th>\n",
              "      <th>pos</th>\n",
              "      <th>NGA</th>\n",
              "      <th>NGV</th>\n",
              "      <th>G</th>\n",
              "      <th>F</th>\n",
              "      <th>C</th>\n",
              "    </tr>\n",
              "  </thead>\n",
              "  <tbody>\n",
              "    <tr>\n",
              "      <th>0</th>\n",
              "      <td>0</td>\n",
              "      <td>P1V</td>\n",
              "      <td>0.000659</td>\n",
              "      <td>0.000000</td>\n",
              "      <td>0.165129</td>\n",
              "      <td>Normal</td>\n",
              "      <td>None</td>\n",
              "    </tr>\n",
              "    <tr>\n",
              "      <th>1</th>\n",
              "      <td>1</td>\n",
              "      <td>P1H</td>\n",
              "      <td>0.001067</td>\n",
              "      <td>0.000000</td>\n",
              "      <td>0.172528</td>\n",
              "      <td>Normal</td>\n",
              "      <td>None</td>\n",
              "    </tr>\n",
              "    <tr>\n",
              "      <th>2</th>\n",
              "      <td>2</td>\n",
              "      <td>P2V</td>\n",
              "      <td>0.001307</td>\n",
              "      <td>0.000000</td>\n",
              "      <td>0.180150</td>\n",
              "      <td>Normal</td>\n",
              "      <td>None</td>\n",
              "    </tr>\n",
              "    <tr>\n",
              "      <th>3</th>\n",
              "      <td>3</td>\n",
              "      <td>P2A</td>\n",
              "      <td>0.001421</td>\n",
              "      <td>0.000000</td>\n",
              "      <td>0.256356</td>\n",
              "      <td>Normal</td>\n",
              "      <td>None</td>\n",
              "    </tr>\n",
              "    <tr>\n",
              "      <th>4</th>\n",
              "      <td>4</td>\n",
              "      <td>P1V</td>\n",
              "      <td>0.001521</td>\n",
              "      <td>0.000000</td>\n",
              "      <td>0.391828</td>\n",
              "      <td>Normal</td>\n",
              "      <td>None</td>\n",
              "    </tr>\n",
              "    <tr>\n",
              "      <th>...</th>\n",
              "      <td>...</td>\n",
              "      <td>...</td>\n",
              "      <td>...</td>\n",
              "      <td>...</td>\n",
              "      <td>...</td>\n",
              "      <td>...</td>\n",
              "      <td>...</td>\n",
              "    </tr>\n",
              "    <tr>\n",
              "      <th>1015</th>\n",
              "      <td>1015</td>\n",
              "      <td>P2A</td>\n",
              "      <td>0.020090</td>\n",
              "      <td>0.884283</td>\n",
              "      <td>3.964699</td>\n",
              "      <td>Structural Fault</td>\n",
              "      <td>Frame</td>\n",
              "    </tr>\n",
              "    <tr>\n",
              "      <th>1016</th>\n",
              "      <td>1016</td>\n",
              "      <td>P1V</td>\n",
              "      <td>0.020099</td>\n",
              "      <td>0.884285</td>\n",
              "      <td>3.964869</td>\n",
              "      <td>Structural Fault</td>\n",
              "      <td>Frame</td>\n",
              "    </tr>\n",
              "    <tr>\n",
              "      <th>1017</th>\n",
              "      <td>1017</td>\n",
              "      <td>P1H</td>\n",
              "      <td>0.020106</td>\n",
              "      <td>0.884288</td>\n",
              "      <td>3.965581</td>\n",
              "      <td>Structural Fault</td>\n",
              "      <td>Frame</td>\n",
              "    </tr>\n",
              "    <tr>\n",
              "      <th>1018</th>\n",
              "      <td>1018</td>\n",
              "      <td>P2V</td>\n",
              "      <td>0.020114</td>\n",
              "      <td>0.884291</td>\n",
              "      <td>3.966773</td>\n",
              "      <td>Structural Fault</td>\n",
              "      <td>Frame</td>\n",
              "    </tr>\n",
              "    <tr>\n",
              "      <th>1019</th>\n",
              "      <td>1019</td>\n",
              "      <td>P2A</td>\n",
              "      <td>0.020125</td>\n",
              "      <td>0.884292</td>\n",
              "      <td>3.967091</td>\n",
              "      <td>Structural Fault</td>\n",
              "      <td>Frame</td>\n",
              "    </tr>\n",
              "  </tbody>\n",
              "</table>\n",
              "<p>1020 rows × 7 columns</p>\n",
              "</div>\n",
              "      <button class=\"colab-df-convert\" onclick=\"convertToInteractive('df-11beff97-d5be-4453-8cf0-e0b37d32a881')\"\n",
              "              title=\"Convert this dataframe to an interactive table.\"\n",
              "              style=\"display:none;\">\n",
              "        \n",
              "  <svg xmlns=\"http://www.w3.org/2000/svg\" height=\"24px\"viewBox=\"0 0 24 24\"\n",
              "       width=\"24px\">\n",
              "    <path d=\"M0 0h24v24H0V0z\" fill=\"none\"/>\n",
              "    <path d=\"M18.56 5.44l.94 2.06.94-2.06 2.06-.94-2.06-.94-.94-2.06-.94 2.06-2.06.94zm-11 1L8.5 8.5l.94-2.06 2.06-.94-2.06-.94L8.5 2.5l-.94 2.06-2.06.94zm10 10l.94 2.06.94-2.06 2.06-.94-2.06-.94-.94-2.06-.94 2.06-2.06.94z\"/><path d=\"M17.41 7.96l-1.37-1.37c-.4-.4-.92-.59-1.43-.59-.52 0-1.04.2-1.43.59L10.3 9.45l-7.72 7.72c-.78.78-.78 2.05 0 2.83L4 21.41c.39.39.9.59 1.41.59.51 0 1.02-.2 1.41-.59l7.78-7.78 2.81-2.81c.8-.78.8-2.07 0-2.86zM5.41 20L4 18.59l7.72-7.72 1.47 1.35L5.41 20z\"/>\n",
              "  </svg>\n",
              "      </button>\n",
              "      \n",
              "  <style>\n",
              "    .colab-df-container {\n",
              "      display:flex;\n",
              "      flex-wrap:wrap;\n",
              "      gap: 12px;\n",
              "    }\n",
              "\n",
              "    .colab-df-convert {\n",
              "      background-color: #E8F0FE;\n",
              "      border: none;\n",
              "      border-radius: 50%;\n",
              "      cursor: pointer;\n",
              "      display: none;\n",
              "      fill: #1967D2;\n",
              "      height: 32px;\n",
              "      padding: 0 0 0 0;\n",
              "      width: 32px;\n",
              "    }\n",
              "\n",
              "    .colab-df-convert:hover {\n",
              "      background-color: #E2EBFA;\n",
              "      box-shadow: 0px 1px 2px rgba(60, 64, 67, 0.3), 0px 1px 3px 1px rgba(60, 64, 67, 0.15);\n",
              "      fill: #174EA6;\n",
              "    }\n",
              "\n",
              "    [theme=dark] .colab-df-convert {\n",
              "      background-color: #3B4455;\n",
              "      fill: #D2E3FC;\n",
              "    }\n",
              "\n",
              "    [theme=dark] .colab-df-convert:hover {\n",
              "      background-color: #434B5C;\n",
              "      box-shadow: 0px 1px 3px 1px rgba(0, 0, 0, 0.15);\n",
              "      filter: drop-shadow(0px 1px 2px rgba(0, 0, 0, 0.3));\n",
              "      fill: #FFFFFF;\n",
              "    }\n",
              "  </style>\n",
              "\n",
              "      <script>\n",
              "        const buttonEl =\n",
              "          document.querySelector('#df-11beff97-d5be-4453-8cf0-e0b37d32a881 button.colab-df-convert');\n",
              "        buttonEl.style.display =\n",
              "          google.colab.kernel.accessAllowed ? 'block' : 'none';\n",
              "\n",
              "        async function convertToInteractive(key) {\n",
              "          const element = document.querySelector('#df-11beff97-d5be-4453-8cf0-e0b37d32a881');\n",
              "          const dataTable =\n",
              "            await google.colab.kernel.invokeFunction('convertToInteractive',\n",
              "                                                     [key], {});\n",
              "          if (!dataTable) return;\n",
              "\n",
              "          const docLinkHtml = 'Like what you see? Visit the ' +\n",
              "            '<a target=\"_blank\" href=https://colab.research.google.com/notebooks/data_table.ipynb>data table notebook</a>'\n",
              "            + ' to learn more about interactive tables.';\n",
              "          element.innerHTML = '';\n",
              "          dataTable['output_type'] = 'display_data';\n",
              "          await google.colab.output.renderOutput(dataTable, element);\n",
              "          const docLink = document.createElement('div');\n",
              "          docLink.innerHTML = docLinkHtml;\n",
              "          element.appendChild(docLink);\n",
              "        }\n",
              "      </script>\n",
              "    </div>\n",
              "  </div>\n",
              "  "
            ]
          },
          "metadata": {},
          "execution_count": 78
        }
      ]
    },
    {
      "cell_type": "markdown",
      "source": [
        "\n",
        "> 3.262.980 rows dropped out... wow, this is not good❗"
      ],
      "metadata": {
        "id": "-nzaFxinVdW3"
      }
    },
    {
      "cell_type": "code",
      "source": [
        "df2.isna().sum()"
      ],
      "metadata": {
        "colab": {
          "base_uri": "https://localhost:8080/"
        },
        "id": "IB4jTLj_WLgu",
        "outputId": "6229bbcc-bd6e-4da3-9e08-7dd4e2a7b9ea"
      },
      "execution_count": null,
      "outputs": [
        {
          "output_type": "execute_result",
          "data": {
            "text/plain": [
              "Unnamed: 0    0\n",
              "pos           0\n",
              "NGA           0\n",
              "NGV           0\n",
              "G             0\n",
              "F             0\n",
              "C             0\n",
              "dtype: int64"
            ]
          },
          "metadata": {},
          "execution_count": 79
        }
      ]
    },
    {
      "cell_type": "markdown",
      "source": [
        "\n",
        "\n",
        "> But clean ❤\n",
        "\n"
      ],
      "metadata": {
        "id": "ms9qEstDWaJB"
      }
    },
    {
      "cell_type": "code",
      "source": [
        "#saving\n",
        "df2.to_csv('/content/drive/MyDrive/cleaned_data_2.csv')"
      ],
      "metadata": {
        "id": "qN-a4UHOVcrf"
      },
      "execution_count": null,
      "outputs": []
    },
    {
      "cell_type": "markdown",
      "source": [
        "# **Re-Modeling**\n",
        "\n",
        "\n",
        "---\n",
        "Choice of model : **RNN**\n",
        "Target : G\n",
        "---\n",
        "\n",
        "\n",
        "\n"
      ],
      "metadata": {
        "id": "P9YfesMdeJVm"
      }
    },
    {
      "cell_type": "code",
      "source": [
        "from tensorflow.keras.models import Sequential\n",
        "from tensorflow.keras.layers import Dense\n",
        "from tensorflow.keras.layers import LSTM\n",
        "from sklearn.preprocessing import MinMaxScaler"
      ],
      "metadata": {
        "id": "v5rw-aWJfNlD"
      },
      "execution_count": null,
      "outputs": []
    },
    {
      "cell_type": "code",
      "source": [
        "df1 = pd.read_csv('/content/drive/MyDrive/cleaned_data_2.csv')"
      ],
      "metadata": {
        "id": "OmrCxqdDgQrH"
      },
      "execution_count": null,
      "outputs": []
    },
    {
      "cell_type": "code",
      "source": [
        "df1.head(10)"
      ],
      "metadata": {
        "colab": {
          "base_uri": "https://localhost:8080/",
          "height": 363
        },
        "id": "kSE-qhuogy9p",
        "outputId": "989df733-cb3a-4621-f267-3c69e3d8b20d"
      },
      "execution_count": null,
      "outputs": [
        {
          "output_type": "execute_result",
          "data": {
            "text/plain": [
              "   Unnamed: 0  Unnamed: 0.1  pos       NGA       NGV         G       F     C\n",
              "0           0             0  P1V  0.000659  0.000000  0.165129  Normal  None\n",
              "1           1             1  P1H  0.001067  0.000000  0.172528  Normal  None\n",
              "2           2             2  P2V  0.001307  0.000000  0.180150  Normal  None\n",
              "3           3             3  P2A  0.001421  0.000000  0.256356  Normal  None\n",
              "4           4             4  P1V  0.001521  0.000000  0.391828  Normal  None\n",
              "5           5             5  P1H  0.001682  0.000000  0.392006  Normal  None\n",
              "6           6             6  P2V  0.001822  0.296606  0.400378  Normal  None\n",
              "7           7             7  P2A  0.001923  0.479937  0.452721  Normal  None\n",
              "8           8             8  P1V  0.002026  0.592609  0.465285  Normal  None\n",
              "9           9             9  P1H  0.002149  0.656683  0.493702  Normal  None"
            ],
            "text/html": [
              "\n",
              "  <div id=\"df-6322cc9d-1e92-4e3a-a493-96222e3fe164\">\n",
              "    <div class=\"colab-df-container\">\n",
              "      <div>\n",
              "<style scoped>\n",
              "    .dataframe tbody tr th:only-of-type {\n",
              "        vertical-align: middle;\n",
              "    }\n",
              "\n",
              "    .dataframe tbody tr th {\n",
              "        vertical-align: top;\n",
              "    }\n",
              "\n",
              "    .dataframe thead th {\n",
              "        text-align: right;\n",
              "    }\n",
              "</style>\n",
              "<table border=\"1\" class=\"dataframe\">\n",
              "  <thead>\n",
              "    <tr style=\"text-align: right;\">\n",
              "      <th></th>\n",
              "      <th>Unnamed: 0</th>\n",
              "      <th>Unnamed: 0.1</th>\n",
              "      <th>pos</th>\n",
              "      <th>NGA</th>\n",
              "      <th>NGV</th>\n",
              "      <th>G</th>\n",
              "      <th>F</th>\n",
              "      <th>C</th>\n",
              "    </tr>\n",
              "  </thead>\n",
              "  <tbody>\n",
              "    <tr>\n",
              "      <th>0</th>\n",
              "      <td>0</td>\n",
              "      <td>0</td>\n",
              "      <td>P1V</td>\n",
              "      <td>0.000659</td>\n",
              "      <td>0.000000</td>\n",
              "      <td>0.165129</td>\n",
              "      <td>Normal</td>\n",
              "      <td>None</td>\n",
              "    </tr>\n",
              "    <tr>\n",
              "      <th>1</th>\n",
              "      <td>1</td>\n",
              "      <td>1</td>\n",
              "      <td>P1H</td>\n",
              "      <td>0.001067</td>\n",
              "      <td>0.000000</td>\n",
              "      <td>0.172528</td>\n",
              "      <td>Normal</td>\n",
              "      <td>None</td>\n",
              "    </tr>\n",
              "    <tr>\n",
              "      <th>2</th>\n",
              "      <td>2</td>\n",
              "      <td>2</td>\n",
              "      <td>P2V</td>\n",
              "      <td>0.001307</td>\n",
              "      <td>0.000000</td>\n",
              "      <td>0.180150</td>\n",
              "      <td>Normal</td>\n",
              "      <td>None</td>\n",
              "    </tr>\n",
              "    <tr>\n",
              "      <th>3</th>\n",
              "      <td>3</td>\n",
              "      <td>3</td>\n",
              "      <td>P2A</td>\n",
              "      <td>0.001421</td>\n",
              "      <td>0.000000</td>\n",
              "      <td>0.256356</td>\n",
              "      <td>Normal</td>\n",
              "      <td>None</td>\n",
              "    </tr>\n",
              "    <tr>\n",
              "      <th>4</th>\n",
              "      <td>4</td>\n",
              "      <td>4</td>\n",
              "      <td>P1V</td>\n",
              "      <td>0.001521</td>\n",
              "      <td>0.000000</td>\n",
              "      <td>0.391828</td>\n",
              "      <td>Normal</td>\n",
              "      <td>None</td>\n",
              "    </tr>\n",
              "    <tr>\n",
              "      <th>5</th>\n",
              "      <td>5</td>\n",
              "      <td>5</td>\n",
              "      <td>P1H</td>\n",
              "      <td>0.001682</td>\n",
              "      <td>0.000000</td>\n",
              "      <td>0.392006</td>\n",
              "      <td>Normal</td>\n",
              "      <td>None</td>\n",
              "    </tr>\n",
              "    <tr>\n",
              "      <th>6</th>\n",
              "      <td>6</td>\n",
              "      <td>6</td>\n",
              "      <td>P2V</td>\n",
              "      <td>0.001822</td>\n",
              "      <td>0.296606</td>\n",
              "      <td>0.400378</td>\n",
              "      <td>Normal</td>\n",
              "      <td>None</td>\n",
              "    </tr>\n",
              "    <tr>\n",
              "      <th>7</th>\n",
              "      <td>7</td>\n",
              "      <td>7</td>\n",
              "      <td>P2A</td>\n",
              "      <td>0.001923</td>\n",
              "      <td>0.479937</td>\n",
              "      <td>0.452721</td>\n",
              "      <td>Normal</td>\n",
              "      <td>None</td>\n",
              "    </tr>\n",
              "    <tr>\n",
              "      <th>8</th>\n",
              "      <td>8</td>\n",
              "      <td>8</td>\n",
              "      <td>P1V</td>\n",
              "      <td>0.002026</td>\n",
              "      <td>0.592609</td>\n",
              "      <td>0.465285</td>\n",
              "      <td>Normal</td>\n",
              "      <td>None</td>\n",
              "    </tr>\n",
              "    <tr>\n",
              "      <th>9</th>\n",
              "      <td>9</td>\n",
              "      <td>9</td>\n",
              "      <td>P1H</td>\n",
              "      <td>0.002149</td>\n",
              "      <td>0.656683</td>\n",
              "      <td>0.493702</td>\n",
              "      <td>Normal</td>\n",
              "      <td>None</td>\n",
              "    </tr>\n",
              "  </tbody>\n",
              "</table>\n",
              "</div>\n",
              "      <button class=\"colab-df-convert\" onclick=\"convertToInteractive('df-6322cc9d-1e92-4e3a-a493-96222e3fe164')\"\n",
              "              title=\"Convert this dataframe to an interactive table.\"\n",
              "              style=\"display:none;\">\n",
              "        \n",
              "  <svg xmlns=\"http://www.w3.org/2000/svg\" height=\"24px\"viewBox=\"0 0 24 24\"\n",
              "       width=\"24px\">\n",
              "    <path d=\"M0 0h24v24H0V0z\" fill=\"none\"/>\n",
              "    <path d=\"M18.56 5.44l.94 2.06.94-2.06 2.06-.94-2.06-.94-.94-2.06-.94 2.06-2.06.94zm-11 1L8.5 8.5l.94-2.06 2.06-.94-2.06-.94L8.5 2.5l-.94 2.06-2.06.94zm10 10l.94 2.06.94-2.06 2.06-.94-2.06-.94-.94-2.06-.94 2.06-2.06.94z\"/><path d=\"M17.41 7.96l-1.37-1.37c-.4-.4-.92-.59-1.43-.59-.52 0-1.04.2-1.43.59L10.3 9.45l-7.72 7.72c-.78.78-.78 2.05 0 2.83L4 21.41c.39.39.9.59 1.41.59.51 0 1.02-.2 1.41-.59l7.78-7.78 2.81-2.81c.8-.78.8-2.07 0-2.86zM5.41 20L4 18.59l7.72-7.72 1.47 1.35L5.41 20z\"/>\n",
              "  </svg>\n",
              "      </button>\n",
              "      \n",
              "  <style>\n",
              "    .colab-df-container {\n",
              "      display:flex;\n",
              "      flex-wrap:wrap;\n",
              "      gap: 12px;\n",
              "    }\n",
              "\n",
              "    .colab-df-convert {\n",
              "      background-color: #E8F0FE;\n",
              "      border: none;\n",
              "      border-radius: 50%;\n",
              "      cursor: pointer;\n",
              "      display: none;\n",
              "      fill: #1967D2;\n",
              "      height: 32px;\n",
              "      padding: 0 0 0 0;\n",
              "      width: 32px;\n",
              "    }\n",
              "\n",
              "    .colab-df-convert:hover {\n",
              "      background-color: #E2EBFA;\n",
              "      box-shadow: 0px 1px 2px rgba(60, 64, 67, 0.3), 0px 1px 3px 1px rgba(60, 64, 67, 0.15);\n",
              "      fill: #174EA6;\n",
              "    }\n",
              "\n",
              "    [theme=dark] .colab-df-convert {\n",
              "      background-color: #3B4455;\n",
              "      fill: #D2E3FC;\n",
              "    }\n",
              "\n",
              "    [theme=dark] .colab-df-convert:hover {\n",
              "      background-color: #434B5C;\n",
              "      box-shadow: 0px 1px 3px 1px rgba(0, 0, 0, 0.15);\n",
              "      filter: drop-shadow(0px 1px 2px rgba(0, 0, 0, 0.3));\n",
              "      fill: #FFFFFF;\n",
              "    }\n",
              "  </style>\n",
              "\n",
              "      <script>\n",
              "        const buttonEl =\n",
              "          document.querySelector('#df-6322cc9d-1e92-4e3a-a493-96222e3fe164 button.colab-df-convert');\n",
              "        buttonEl.style.display =\n",
              "          google.colab.kernel.accessAllowed ? 'block' : 'none';\n",
              "\n",
              "        async function convertToInteractive(key) {\n",
              "          const element = document.querySelector('#df-6322cc9d-1e92-4e3a-a493-96222e3fe164');\n",
              "          const dataTable =\n",
              "            await google.colab.kernel.invokeFunction('convertToInteractive',\n",
              "                                                     [key], {});\n",
              "          if (!dataTable) return;\n",
              "\n",
              "          const docLinkHtml = 'Like what you see? Visit the ' +\n",
              "            '<a target=\"_blank\" href=https://colab.research.google.com/notebooks/data_table.ipynb>data table notebook</a>'\n",
              "            + ' to learn more about interactive tables.';\n",
              "          element.innerHTML = '';\n",
              "          dataTable['output_type'] = 'display_data';\n",
              "          await google.colab.output.renderOutput(dataTable, element);\n",
              "          const docLink = document.createElement('div');\n",
              "          docLink.innerHTML = docLinkHtml;\n",
              "          element.appendChild(docLink);\n",
              "        }\n",
              "      </script>\n",
              "    </div>\n",
              "  </div>\n",
              "  "
            ]
          },
          "metadata": {},
          "execution_count": 82
        }
      ]
    },
    {
      "cell_type": "code",
      "source": [
        "df1.isna().sum()"
      ],
      "metadata": {
        "colab": {
          "base_uri": "https://localhost:8080/"
        },
        "id": "dR7mg1jeL8oC",
        "outputId": "7c00e91e-d441-45ac-dfab-772be0311875"
      },
      "execution_count": null,
      "outputs": [
        {
          "output_type": "execute_result",
          "data": {
            "text/plain": [
              "Unnamed: 0      0\n",
              "Unnamed: 0.1    0\n",
              "pos             0\n",
              "NGA             0\n",
              "NGV             0\n",
              "G               0\n",
              "F               0\n",
              "C               0\n",
              "dtype: int64"
            ]
          },
          "metadata": {},
          "execution_count": 83
        }
      ]
    },
    {
      "cell_type": "code",
      "source": [
        "data=df1[['G']].values\n",
        "data\n",
        "len(data)"
      ],
      "metadata": {
        "id": "lSjJrsP2XW_z",
        "colab": {
          "base_uri": "https://localhost:8080/"
        },
        "outputId": "eedfe1b9-870b-4082-bbd5-e74923dba4c5"
      },
      "execution_count": null,
      "outputs": [
        {
          "output_type": "execute_result",
          "data": {
            "text/plain": [
              "1020"
            ]
          },
          "metadata": {},
          "execution_count": 87
        }
      ]
    },
    {
      "cell_type": "code",
      "source": [
        "#data=data[:-1632000]\n",
        "#len(data)"
      ],
      "metadata": {
        "colab": {
          "base_uri": "https://localhost:8080/"
        },
        "id": "LD4VAAJrDmbq",
        "outputId": "229fabc7-022a-47df-b232-b6071b3d74b5"
      },
      "execution_count": null,
      "outputs": [
        {
          "output_type": "execute_result",
          "data": {
            "text/plain": [
              "0"
            ]
          },
          "metadata": {},
          "execution_count": 86
        }
      ]
    },
    {
      "cell_type": "code",
      "source": [
        "sc=MinMaxScaler(feature_range=(0,1))\n",
        "data_scaled=sc.fit_transform(data)"
      ],
      "metadata": {
        "id": "GxTCciJXfEYZ"
      },
      "execution_count": null,
      "outputs": []
    },
    {
      "cell_type": "code",
      "source": [
        "X_data=[]\n",
        "Y_data=[]\n",
        "look_back=100\n",
        "for i in range(len(data_scaled)-101):\n",
        "    X_data.append(data_scaled[i:i+look_back,0])\n",
        "    Y_data.append(data_scaled[i+look_back,0])"
      ],
      "metadata": {
        "id": "UnJTSYD2fTs3"
      },
      "execution_count": null,
      "outputs": []
    },
    {
      "cell_type": "code",
      "source": [
        "X_data,Y_data=np.array(X_data),np.array(Y_data)"
      ],
      "metadata": {
        "id": "Eo_OogdofrsN"
      },
      "execution_count": null,
      "outputs": []
    },
    {
      "cell_type": "code",
      "source": [
        "X_data=np.reshape(X_data,(X_data.shape[0],X_data.shape[1],1))"
      ],
      "metadata": {
        "id": "RcAvVQI1f3gm"
      },
      "execution_count": null,
      "outputs": []
    },
    {
      "cell_type": "code",
      "source": [
        "train_size=int(len(X_data)-200)\n",
        "test_size=len(X_data)-train_size\n",
        "X_train=X_data[0:train_size,:]\n",
        "X_test=X_data[train_size:len(X_data),:]\n",
        "Y_train=Y_data[0:train_size]\n",
        "Y_test=Y_data[train_size:len(Y_data)]"
      ],
      "metadata": {
        "id": "OT8NMV60huAL"
      },
      "execution_count": null,
      "outputs": []
    },
    {
      "cell_type": "code",
      "source": [
        "model=Sequential()\n",
        "model.add(LSTM(units=365, return_sequences=True, input_shape=(X_train.shape[1],1)))\n",
        "model.add(LSTM(units=365))\n",
        "model.add(Dense(units=1))"
      ],
      "metadata": {
        "id": "8CKOjbGjf5MX"
      },
      "execution_count": null,
      "outputs": []
    },
    {
      "cell_type": "code",
      "source": [
        "model.compile(optimizer='adam',loss='mean_squared_error',metrics = ['accuracy'])\n",
        "model.summary()"
      ],
      "metadata": {
        "colab": {
          "base_uri": "https://localhost:8080/"
        },
        "id": "XHpaEq3hf_-m",
        "outputId": "fbd1e337-222f-4e30-9e7e-e125754390de"
      },
      "execution_count": null,
      "outputs": [
        {
          "output_type": "stream",
          "name": "stdout",
          "text": [
            "Model: \"sequential_5\"\n",
            "_________________________________________________________________\n",
            " Layer (type)                Output Shape              Param #   \n",
            "=================================================================\n",
            " lstm_12 (LSTM)              (None, 100, 365)          535820    \n",
            "                                                                 \n",
            " lstm_13 (LSTM)              (None, 365)               1067260   \n",
            "                                                                 \n",
            " dense_3 (Dense)             (None, 1)                 366       \n",
            "                                                                 \n",
            "=================================================================\n",
            "Total params: 1,603,446\n",
            "Trainable params: 1,603,446\n",
            "Non-trainable params: 0\n",
            "_________________________________________________________________\n"
          ]
        }
      ]
    },
    {
      "cell_type": "code",
      "source": [
        "history = model.fit(X_train,X_train,epochs=20,batch_size=100)"
      ],
      "metadata": {
        "colab": {
          "base_uri": "https://localhost:8080/"
        },
        "id": "9MKYMfHHgCht",
        "outputId": "bc7e62d0-bc63-41b4-e642-49acfa6218a6"
      },
      "execution_count": null,
      "outputs": [
        {
          "output_type": "stream",
          "name": "stdout",
          "text": [
            "Epoch 1/20\n",
            "8/8 [==============================] - 23s 2s/step - loss: 0.0617 - accuracy: 1.3908e-05\n",
            "Epoch 2/20\n",
            "8/8 [==============================] - 19s 2s/step - loss: 0.0128 - accuracy: 1.3908e-05\n",
            "Epoch 3/20\n",
            "8/8 [==============================] - 19s 2s/step - loss: 0.0047 - accuracy: 1.3908e-05\n",
            "Epoch 4/20\n",
            "8/8 [==============================] - 19s 2s/step - loss: 0.0040 - accuracy: 1.3908e-05\n",
            "Epoch 5/20\n",
            "8/8 [==============================] - 19s 2s/step - loss: 0.0023 - accuracy: 1.3908e-05\n",
            "Epoch 6/20\n",
            "8/8 [==============================] - 19s 2s/step - loss: 0.0015 - accuracy: 1.3908e-05\n",
            "Epoch 7/20\n",
            "8/8 [==============================] - 19s 2s/step - loss: 9.7546e-04 - accuracy: 1.3908e-05\n",
            "Epoch 8/20\n",
            "8/8 [==============================] - 19s 2s/step - loss: 8.0113e-04 - accuracy: 1.3908e-05\n",
            "Epoch 9/20\n",
            "8/8 [==============================] - 19s 2s/step - loss: 7.7338e-04 - accuracy: 1.3908e-05\n",
            "Epoch 10/20\n",
            "8/8 [==============================] - 19s 2s/step - loss: 7.7411e-04 - accuracy: 1.3908e-05\n",
            "Epoch 11/20\n",
            "8/8 [==============================] - 19s 2s/step - loss: 7.6464e-04 - accuracy: 1.3908e-05\n",
            "Epoch 12/20\n",
            "8/8 [==============================] - 19s 2s/step - loss: 7.5969e-04 - accuracy: 1.3908e-05\n",
            "Epoch 13/20\n",
            "8/8 [==============================] - 19s 2s/step - loss: 7.5869e-04 - accuracy: 1.3908e-05\n",
            "Epoch 14/20\n",
            "8/8 [==============================] - 19s 2s/step - loss: 7.5684e-04 - accuracy: 1.3908e-05\n",
            "Epoch 15/20\n",
            "8/8 [==============================] - 19s 2s/step - loss: 7.5586e-04 - accuracy: 1.3908e-05\n",
            "Epoch 16/20\n",
            "8/8 [==============================] - 19s 2s/step - loss: 7.5723e-04 - accuracy: 1.3908e-05\n",
            "Epoch 17/20\n",
            "8/8 [==============================] - 20s 2s/step - loss: 7.5589e-04 - accuracy: 1.3908e-05\n",
            "Epoch 18/20\n",
            "8/8 [==============================] - 20s 2s/step - loss: 7.5570e-04 - accuracy: 1.3908e-05\n",
            "Epoch 19/20\n",
            "8/8 [==============================] - 20s 2s/step - loss: 7.5574e-04 - accuracy: 1.3908e-05\n",
            "Epoch 20/20\n",
            "8/8 [==============================] - 20s 2s/step - loss: 7.5680e-04 - accuracy: 1.3908e-05\n"
          ]
        }
      ]
    },
    {
      "cell_type": "code",
      "source": [
        "y_pred=model.predict(X_test)\n",
        "plt.plot(y_pred,color='blue')"
      ],
      "metadata": {
        "id": "NF8FfhbKiRrN",
        "colab": {
          "base_uri": "https://localhost:8080/",
          "height": 282
        },
        "outputId": "392600bb-6e62-4bf1-c3e3-de5b8f6a710e"
      },
      "execution_count": null,
      "outputs": [
        {
          "output_type": "execute_result",
          "data": {
            "text/plain": [
              "[<matplotlib.lines.Line2D at 0x7f3928d31290>]"
            ]
          },
          "metadata": {},
          "execution_count": 121
        },
        {
          "output_type": "display_data",
          "data": {
            "text/plain": [
              "<Figure size 432x288 with 1 Axes>"
            ],
            "image/png": "[encoded data removed]"
          },
          "metadata": {
            "needs_background": "light"
          }
        }
      ]
    },
    {
      "cell_type": "code",
      "source": [
        "plt.plot(Y_test,color='red')\n",
        "plt.plot(y_pred,color='blue')\n",
        "plt.legend(['test', 'prediction'], loc='upper left')\n",
        "plt.title('comparing test & prediction')"
      ],
      "metadata": {
        "id": "Vbix1jaliTMt",
        "colab": {
          "base_uri": "https://localhost:8080/",
          "height": 282
        },
        "outputId": "3943e8e5-51b7-426c-e177-ae2c5a86ebc7"
      },
      "execution_count": null,
      "outputs": [
        {
          "output_type": "execute_result",
          "data": {
            "text/plain": [
              "<matplotlib.legend.Legend at 0x7f3928ed3b90>"
            ]
          },
          "metadata": {},
          "execution_count": 117
        },
        {
          "output_type": "display_data",
          "data": {
            "text/plain": [
              "<Figure size 432x288 with 1 Axes>"
            ],
            "image/png": "[encoded data removed]"
          },
          "metadata": {
            "needs_background": "light"
          }
        }
      ]
    },
    {
      "cell_type": "code",
      "source": [
        "# Evaluation\n",
        "# summarize history for accuracy & history for loss\n",
        "plt.plot(history.history['accuracy'])\n",
        "plt.plot(history.history['loss'])\n",
        "plt.title('model accuracy & loss')\n",
        "plt.ylabel('accuracy & loss')\n",
        "plt.xlabel('epoch')\n",
        "plt.legend(['accuracy', 'loss'], loc='upper left')\n",
        "plt.show()"
      ],
      "metadata": {
        "id": "NlL7XC9CiXda",
        "colab": {
          "base_uri": "https://localhost:8080/",
          "height": 295
        },
        "outputId": "ceae89d8-9a26-4a9d-9444-6af6859015f5"
      },
      "execution_count": null,
      "outputs": [
        {
          "output_type": "display_data",
          "data": {
            "text/plain": [
              "<Figure size 432x288 with 1 Axes>"
            ],
            "image/png": "[encoded data removed]"
          },
          "metadata": {
            "needs_background": "light"
          }
        }
      ]
    },
    {
      "cell_type": "markdown",
      "source": [
        "# **Re-Modeling**\n",
        "\n",
        "\n",
        "---\n",
        "*   Choice of model : **Classification multilabel**\n",
        "*   Features : G, NGA, NGV\n",
        "*   target : type of problem C\n",
        "---"
      ],
      "metadata": {
        "id": "eUCVo2MohoVv"
      }
    },
    {
      "cell_type": "code",
      "source": [
        "import re\n",
        "import matplotlib\n",
        "import numpy as np\n",
        "import matplotlib.pyplot as plt\n",
        "import pandas as pd\n",
        "from sklearn.model_selection import train_test_split\n",
        "from sklearn.feature_extraction.text import TfidfVectorizer\n",
        "from sklearn.naive_bayes import MultinomialNB\n",
        "from sklearn.metrics import accuracy_score\n",
        "from sklearn.multiclass import OneVsRestClassifier\n",
        "from nltk.corpus import stopwords\n",
        "from sklearn.svm import LinearSVC\n",
        "from sklearn.linear_model import LogisticRegression\n",
        "from sklearn.pipeline import Pipeline\n",
        "import seaborn as sns"
      ],
      "metadata": {
        "id": "J7kCWumNp0PI"
      },
      "execution_count": null,
      "outputs": []
    },
    {
      "cell_type": "code",
      "source": [
        "df1 = pd.read_csv('/content/drive/MyDrive/cleaned_data_2.csv')"
      ],
      "metadata": {
        "id": "6y26sI4qlKXQ"
      },
      "execution_count": null,
      "outputs": []
    },
    {
      "cell_type": "code",
      "source": [
        "df1"
      ],
      "metadata": {
        "colab": {
          "base_uri": "https://localhost:8080/",
          "height": 423
        },
        "id": "623_BC9losis",
        "outputId": "3584bd63-b111-4213-d2ac-5a91a3d0242a"
      },
      "execution_count": null,
      "outputs": [
        {
          "output_type": "execute_result",
          "data": {
            "text/plain": [
              "      Unnamed: 0  Unnamed: 0.1  pos       NGA       NGV         G  \\\n",
              "0              0             0  P1V  0.000659  0.000000  0.165129   \n",
              "1              1             1  P1H  0.001067  0.000000  0.172528   \n",
              "2              2             2  P2V  0.001307  0.000000  0.180150   \n",
              "3              3             3  P2A  0.001421  0.000000  0.256356   \n",
              "4              4             4  P1V  0.001521  0.000000  0.391828   \n",
              "...          ...           ...  ...       ...       ...       ...   \n",
              "1015        1015          1015  P2A  0.020090  0.884283  3.964699   \n",
              "1016        1016          1016  P1V  0.020099  0.884285  3.964869   \n",
              "1017        1017          1017  P1H  0.020106  0.884288  3.965581   \n",
              "1018        1018          1018  P2V  0.020114  0.884291  3.966773   \n",
              "1019        1019          1019  P2A  0.020125  0.884292  3.967091   \n",
              "\n",
              "                     F      C  \n",
              "0               Normal   None  \n",
              "1               Normal   None  \n",
              "2               Normal   None  \n",
              "3               Normal   None  \n",
              "4               Normal   None  \n",
              "...                ...    ...  \n",
              "1015  Structural Fault  Frame  \n",
              "1016  Structural Fault  Frame  \n",
              "1017  Structural Fault  Frame  \n",
              "1018  Structural Fault  Frame  \n",
              "1019  Structural Fault  Frame  \n",
              "\n",
              "[1020 rows x 8 columns]"
            ],
            "text/html": [
              "\n",
              "  <div id=\"df-2dfd2d8d-38ed-4367-b10f-e14414fc94cf\">\n",
              "    <div class=\"colab-df-container\">\n",
              "      <div>\n",
              "<style scoped>\n",
              "    .dataframe tbody tr th:only-of-type {\n",
              "        vertical-align: middle;\n",
              "    }\n",
              "\n",
              "    .dataframe tbody tr th {\n",
              "        vertical-align: top;\n",
              "    }\n",
              "\n",
              "    .dataframe thead th {\n",
              "        text-align: right;\n",
              "    }\n",
              "</style>\n",
              "<table border=\"1\" class=\"dataframe\">\n",
              "  <thead>\n",
              "    <tr style=\"text-align: right;\">\n",
              "      <th></th>\n",
              "      <th>Unnamed: 0</th>\n",
              "      <th>Unnamed: 0.1</th>\n",
              "      <th>pos</th>\n",
              "      <th>NGA</th>\n",
              "      <th>NGV</th>\n",
              "      <th>G</th>\n",
              "      <th>F</th>\n",
              "      <th>C</th>\n",
              "    </tr>\n",
              "  </thead>\n",
              "  <tbody>\n",
              "    <tr>\n",
              "      <th>0</th>\n",
              "      <td>0</td>\n",
              "      <td>0</td>\n",
              "      <td>P1V</td>\n",
              "      <td>0.000659</td>\n",
              "      <td>0.000000</td>\n",
              "      <td>0.165129</td>\n",
              "      <td>Normal</td>\n",
              "      <td>None</td>\n",
              "    </tr>\n",
              "    <tr>\n",
              "      <th>1</th>\n",
              "      <td>1</td>\n",
              "      <td>1</td>\n",
              "      <td>P1H</td>\n",
              "      <td>0.001067</td>\n",
              "      <td>0.000000</td>\n",
              "      <td>0.172528</td>\n",
              "      <td>Normal</td>\n",
              "      <td>None</td>\n",
              "    </tr>\n",
              "    <tr>\n",
              "      <th>2</th>\n",
              "      <td>2</td>\n",
              "      <td>2</td>\n",
              "      <td>P2V</td>\n",
              "      <td>0.001307</td>\n",
              "      <td>0.000000</td>\n",
              "      <td>0.180150</td>\n",
              "      <td>Normal</td>\n",
              "      <td>None</td>\n",
              "    </tr>\n",
              "    <tr>\n",
              "      <th>3</th>\n",
              "      <td>3</td>\n",
              "      <td>3</td>\n",
              "      <td>P2A</td>\n",
              "      <td>0.001421</td>\n",
              "      <td>0.000000</td>\n",
              "      <td>0.256356</td>\n",
              "      <td>Normal</td>\n",
              "      <td>None</td>\n",
              "    </tr>\n",
              "    <tr>\n",
              "      <th>4</th>\n",
              "      <td>4</td>\n",
              "      <td>4</td>\n",
              "      <td>P1V</td>\n",
              "      <td>0.001521</td>\n",
              "      <td>0.000000</td>\n",
              "      <td>0.391828</td>\n",
              "      <td>Normal</td>\n",
              "      <td>None</td>\n",
              "    </tr>\n",
              "    <tr>\n",
              "      <th>...</th>\n",
              "      <td>...</td>\n",
              "      <td>...</td>\n",
              "      <td>...</td>\n",
              "      <td>...</td>\n",
              "      <td>...</td>\n",
              "      <td>...</td>\n",
              "      <td>...</td>\n",
              "      <td>...</td>\n",
              "    </tr>\n",
              "    <tr>\n",
              "      <th>1015</th>\n",
              "      <td>1015</td>\n",
              "      <td>1015</td>\n",
              "      <td>P2A</td>\n",
              "      <td>0.020090</td>\n",
              "      <td>0.884283</td>\n",
              "      <td>3.964699</td>\n",
              "      <td>Structural Fault</td>\n",
              "      <td>Frame</td>\n",
              "    </tr>\n",
              "    <tr>\n",
              "      <th>1016</th>\n",
              "      <td>1016</td>\n",
              "      <td>1016</td>\n",
              "      <td>P1V</td>\n",
              "      <td>0.020099</td>\n",
              "      <td>0.884285</td>\n",
              "      <td>3.964869</td>\n",
              "      <td>Structural Fault</td>\n",
              "      <td>Frame</td>\n",
              "    </tr>\n",
              "    <tr>\n",
              "      <th>1017</th>\n",
              "      <td>1017</td>\n",
              "      <td>1017</td>\n",
              "      <td>P1H</td>\n",
              "      <td>0.020106</td>\n",
              "      <td>0.884288</td>\n",
              "      <td>3.965581</td>\n",
              "      <td>Structural Fault</td>\n",
              "      <td>Frame</td>\n",
              "    </tr>\n",
              "    <tr>\n",
              "      <th>1018</th>\n",
              "      <td>1018</td>\n",
              "      <td>1018</td>\n",
              "      <td>P2V</td>\n",
              "      <td>0.020114</td>\n",
              "      <td>0.884291</td>\n",
              "      <td>3.966773</td>\n",
              "      <td>Structural Fault</td>\n",
              "      <td>Frame</td>\n",
              "    </tr>\n",
              "    <tr>\n",
              "      <th>1019</th>\n",
              "      <td>1019</td>\n",
              "      <td>1019</td>\n",
              "      <td>P2A</td>\n",
              "      <td>0.020125</td>\n",
              "      <td>0.884292</td>\n",
              "      <td>3.967091</td>\n",
              "      <td>Structural Fault</td>\n",
              "      <td>Frame</td>\n",
              "    </tr>\n",
              "  </tbody>\n",
              "</table>\n",
              "<p>1020 rows × 8 columns</p>\n",
              "</div>\n",
              "      <button class=\"colab-df-convert\" onclick=\"convertToInteractive('df-2dfd2d8d-38ed-4367-b10f-e14414fc94cf')\"\n",
              "              title=\"Convert this dataframe to an interactive table.\"\n",
              "              style=\"display:none;\">\n",
              "        \n",
              "  <svg xmlns=\"http://www.w3.org/2000/svg\" height=\"24px\"viewBox=\"0 0 24 24\"\n",
              "       width=\"24px\">\n",
              "    <path d=\"M0 0h24v24H0V0z\" fill=\"none\"/>\n",
              "    <path d=\"M18.56 5.44l.94 2.06.94-2.06 2.06-.94-2.06-.94-.94-2.06-.94 2.06-2.06.94zm-11 1L8.5 8.5l.94-2.06 2.06-.94-2.06-.94L8.5 2.5l-.94 2.06-2.06.94zm10 10l.94 2.06.94-2.06 2.06-.94-2.06-.94-.94-2.06-.94 2.06-2.06.94z\"/><path d=\"M17.41 7.96l-1.37-1.37c-.4-.4-.92-.59-1.43-.59-.52 0-1.04.2-1.43.59L10.3 9.45l-7.72 7.72c-.78.78-.78 2.05 0 2.83L4 21.41c.39.39.9.59 1.41.59.51 0 1.02-.2 1.41-.59l7.78-7.78 2.81-2.81c.8-.78.8-2.07 0-2.86zM5.41 20L4 18.59l7.72-7.72 1.47 1.35L5.41 20z\"/>\n",
              "  </svg>\n",
              "      </button>\n",
              "      \n",
              "  <style>\n",
              "    .colab-df-container {\n",
              "      display:flex;\n",
              "      flex-wrap:wrap;\n",
              "      gap: 12px;\n",
              "    }\n",
              "\n",
              "    .colab-df-convert {\n",
              "      background-color: #E8F0FE;\n",
              "      border: none;\n",
              "      border-radius: 50%;\n",
              "      cursor: pointer;\n",
              "      display: none;\n",
              "      fill: #1967D2;\n",
              "      height: 32px;\n",
              "      padding: 0 0 0 0;\n",
              "      width: 32px;\n",
              "    }\n",
              "\n",
              "    .colab-df-convert:hover {\n",
              "      background-color: #E2EBFA;\n",
              "      box-shadow: 0px 1px 2px rgba(60, 64, 67, 0.3), 0px 1px 3px 1px rgba(60, 64, 67, 0.15);\n",
              "      fill: #174EA6;\n",
              "    }\n",
              "\n",
              "    [theme=dark] .colab-df-convert {\n",
              "      background-color: #3B4455;\n",
              "      fill: #D2E3FC;\n",
              "    }\n",
              "\n",
              "    [theme=dark] .colab-df-convert:hover {\n",
              "      background-color: #434B5C;\n",
              "      box-shadow: 0px 1px 3px 1px rgba(0, 0, 0, 0.15);\n",
              "      filter: drop-shadow(0px 1px 2px rgba(0, 0, 0, 0.3));\n",
              "      fill: #FFFFFF;\n",
              "    }\n",
              "  </style>\n",
              "\n",
              "      <script>\n",
              "        const buttonEl =\n",
              "          document.querySelector('#df-2dfd2d8d-38ed-4367-b10f-e14414fc94cf button.colab-df-convert');\n",
              "        buttonEl.style.display =\n",
              "          google.colab.kernel.accessAllowed ? 'block' : 'none';\n",
              "\n",
              "        async function convertToInteractive(key) {\n",
              "          const element = document.querySelector('#df-2dfd2d8d-38ed-4367-b10f-e14414fc94cf');\n",
              "          const dataTable =\n",
              "            await google.colab.kernel.invokeFunction('convertToInteractive',\n",
              "                                                     [key], {});\n",
              "          if (!dataTable) return;\n",
              "\n",
              "          const docLinkHtml = 'Like what you see? Visit the ' +\n",
              "            '<a target=\"_blank\" href=https://colab.research.google.com/notebooks/data_table.ipynb>data table notebook</a>'\n",
              "            + ' to learn more about interactive tables.';\n",
              "          element.innerHTML = '';\n",
              "          dataTable['output_type'] = 'display_data';\n",
              "          await google.colab.output.renderOutput(dataTable, element);\n",
              "          const docLink = document.createElement('div');\n",
              "          docLink.innerHTML = docLinkHtml;\n",
              "          element.appendChild(docLink);\n",
              "        }\n",
              "      </script>\n",
              "    </div>\n",
              "  </div>\n",
              "  "
            ]
          },
          "metadata": {},
          "execution_count": 126
        }
      ]
    },
    {
      "cell_type": "code",
      "source": [
        "df1.pop(\"Unnamed: 0.1\")"
      ],
      "metadata": {
        "colab": {
          "base_uri": "https://localhost:8080/"
        },
        "id": "vHRZ_laqoxEC",
        "outputId": "a90a2110-a782-49f9-eb82-c07427626fb3"
      },
      "execution_count": null,
      "outputs": [
        {
          "output_type": "execute_result",
          "data": {
            "text/plain": [
              "0          0\n",
              "1          1\n",
              "2          2\n",
              "3          3\n",
              "4          4\n",
              "        ... \n",
              "1015    1015\n",
              "1016    1016\n",
              "1017    1017\n",
              "1018    1018\n",
              "1019    1019\n",
              "Name: Unnamed: 0.1, Length: 1020, dtype: int64"
            ]
          },
          "metadata": {},
          "execution_count": 131
        }
      ]
    },
    {
      "cell_type": "code",
      "source": [
        "df1.to_csv('/content/drive/MyDrive/cleaned_data_3.csv')"
      ],
      "metadata": {
        "id": "F6HX9CK7pWFF"
      },
      "execution_count": null,
      "outputs": []
    },
    {
      "cell_type": "code",
      "source": [
        "df1.head(10)"
      ],
      "metadata": {
        "colab": {
          "base_uri": "https://localhost:8080/",
          "height": 363
        },
        "id": "TKCBovGopEu2",
        "outputId": "b6790d42-0e90-46a0-ff8c-4bdd83e46d9e"
      },
      "execution_count": null,
      "outputs": [
        {
          "output_type": "execute_result",
          "data": {
            "text/plain": [
              "   pos       NGA       NGV         G       F     C\n",
              "0  P1V  0.000659  0.000000  0.165129  Normal  None\n",
              "1  P1H  0.001067  0.000000  0.172528  Normal  None\n",
              "2  P2V  0.001307  0.000000  0.180150  Normal  None\n",
              "3  P2A  0.001421  0.000000  0.256356  Normal  None\n",
              "4  P1V  0.001521  0.000000  0.391828  Normal  None\n",
              "5  P1H  0.001682  0.000000  0.392006  Normal  None\n",
              "6  P2V  0.001822  0.296606  0.400378  Normal  None\n",
              "7  P2A  0.001923  0.479937  0.452721  Normal  None\n",
              "8  P1V  0.002026  0.592609  0.465285  Normal  None\n",
              "9  P1H  0.002149  0.656683  0.493702  Normal  None"
            ],
            "text/html": [
              "\n",
              "  <div id=\"df-1b2eb884-2c49-465c-b6d1-6b3af3182b74\">\n",
              "    <div class=\"colab-df-container\">\n",
              "      <div>\n",
              "<style scoped>\n",
              "    .dataframe tbody tr th:only-of-type {\n",
              "        vertical-align: middle;\n",
              "    }\n",
              "\n",
              "    .dataframe tbody tr th {\n",
              "        vertical-align: top;\n",
              "    }\n",
              "\n",
              "    .dataframe thead th {\n",
              "        text-align: right;\n",
              "    }\n",
              "</style>\n",
              "<table border=\"1\" class=\"dataframe\">\n",
              "  <thead>\n",
              "    <tr style=\"text-align: right;\">\n",
              "      <th></th>\n",
              "      <th>pos</th>\n",
              "      <th>NGA</th>\n",
              "      <th>NGV</th>\n",
              "      <th>G</th>\n",
              "      <th>F</th>\n",
              "      <th>C</th>\n",
              "    </tr>\n",
              "  </thead>\n",
              "  <tbody>\n",
              "    <tr>\n",
              "      <th>0</th>\n",
              "      <td>P1V</td>\n",
              "      <td>0.000659</td>\n",
              "      <td>0.000000</td>\n",
              "      <td>0.165129</td>\n",
              "      <td>Normal</td>\n",
              "      <td>None</td>\n",
              "    </tr>\n",
              "    <tr>\n",
              "      <th>1</th>\n",
              "      <td>P1H</td>\n",
              "      <td>0.001067</td>\n",
              "      <td>0.000000</td>\n",
              "      <td>0.172528</td>\n",
              "      <td>Normal</td>\n",
              "      <td>None</td>\n",
              "    </tr>\n",
              "    <tr>\n",
              "      <th>2</th>\n",
              "      <td>P2V</td>\n",
              "      <td>0.001307</td>\n",
              "      <td>0.000000</td>\n",
              "      <td>0.180150</td>\n",
              "      <td>Normal</td>\n",
              "      <td>None</td>\n",
              "    </tr>\n",
              "    <tr>\n",
              "      <th>3</th>\n",
              "      <td>P2A</td>\n",
              "      <td>0.001421</td>\n",
              "      <td>0.000000</td>\n",
              "      <td>0.256356</td>\n",
              "      <td>Normal</td>\n",
              "      <td>None</td>\n",
              "    </tr>\n",
              "    <tr>\n",
              "      <th>4</th>\n",
              "      <td>P1V</td>\n",
              "      <td>0.001521</td>\n",
              "      <td>0.000000</td>\n",
              "      <td>0.391828</td>\n",
              "      <td>Normal</td>\n",
              "      <td>None</td>\n",
              "    </tr>\n",
              "    <tr>\n",
              "      <th>5</th>\n",
              "      <td>P1H</td>\n",
              "      <td>0.001682</td>\n",
              "      <td>0.000000</td>\n",
              "      <td>0.392006</td>\n",
              "      <td>Normal</td>\n",
              "      <td>None</td>\n",
              "    </tr>\n",
              "    <tr>\n",
              "      <th>6</th>\n",
              "      <td>P2V</td>\n",
              "      <td>0.001822</td>\n",
              "      <td>0.296606</td>\n",
              "      <td>0.400378</td>\n",
              "      <td>Normal</td>\n",
              "      <td>None</td>\n",
              "    </tr>\n",
              "    <tr>\n",
              "      <th>7</th>\n",
              "      <td>P2A</td>\n",
              "      <td>0.001923</td>\n",
              "      <td>0.479937</td>\n",
              "      <td>0.452721</td>\n",
              "      <td>Normal</td>\n",
              "      <td>None</td>\n",
              "    </tr>\n",
              "    <tr>\n",
              "      <th>8</th>\n",
              "      <td>P1V</td>\n",
              "      <td>0.002026</td>\n",
              "      <td>0.592609</td>\n",
              "      <td>0.465285</td>\n",
              "      <td>Normal</td>\n",
              "      <td>None</td>\n",
              "    </tr>\n",
              "    <tr>\n",
              "      <th>9</th>\n",
              "      <td>P1H</td>\n",
              "      <td>0.002149</td>\n",
              "      <td>0.656683</td>\n",
              "      <td>0.493702</td>\n",
              "      <td>Normal</td>\n",
              "      <td>None</td>\n",
              "    </tr>\n",
              "  </tbody>\n",
              "</table>\n",
              "</div>\n",
              "      <button class=\"colab-df-convert\" onclick=\"convertToInteractive('df-1b2eb884-2c49-465c-b6d1-6b3af3182b74')\"\n",
              "              title=\"Convert this dataframe to an interactive table.\"\n",
              "              style=\"display:none;\">\n",
              "        \n",
              "  <svg xmlns=\"http://www.w3.org/2000/svg\" height=\"24px\"viewBox=\"0 0 24 24\"\n",
              "       width=\"24px\">\n",
              "    <path d=\"M0 0h24v24H0V0z\" fill=\"none\"/>\n",
              "    <path d=\"M18.56 5.44l.94 2.06.94-2.06 2.06-.94-2.06-.94-.94-2.06-.94 2.06-2.06.94zm-11 1L8.5 8.5l.94-2.06 2.06-.94-2.06-.94L8.5 2.5l-.94 2.06-2.06.94zm10 10l.94 2.06.94-2.06 2.06-.94-2.06-.94-.94-2.06-.94 2.06-2.06.94z\"/><path d=\"M17.41 7.96l-1.37-1.37c-.4-.4-.92-.59-1.43-.59-.52 0-1.04.2-1.43.59L10.3 9.45l-7.72 7.72c-.78.78-.78 2.05 0 2.83L4 21.41c.39.39.9.59 1.41.59.51 0 1.02-.2 1.41-.59l7.78-7.78 2.81-2.81c.8-.78.8-2.07 0-2.86zM5.41 20L4 18.59l7.72-7.72 1.47 1.35L5.41 20z\"/>\n",
              "  </svg>\n",
              "      </button>\n",
              "      \n",
              "  <style>\n",
              "    .colab-df-container {\n",
              "      display:flex;\n",
              "      flex-wrap:wrap;\n",
              "      gap: 12px;\n",
              "    }\n",
              "\n",
              "    .colab-df-convert {\n",
              "      background-color: #E8F0FE;\n",
              "      border: none;\n",
              "      border-radius: 50%;\n",
              "      cursor: pointer;\n",
              "      display: none;\n",
              "      fill: #1967D2;\n",
              "      height: 32px;\n",
              "      padding: 0 0 0 0;\n",
              "      width: 32px;\n",
              "    }\n",
              "\n",
              "    .colab-df-convert:hover {\n",
              "      background-color: #E2EBFA;\n",
              "      box-shadow: 0px 1px 2px rgba(60, 64, 67, 0.3), 0px 1px 3px 1px rgba(60, 64, 67, 0.15);\n",
              "      fill: #174EA6;\n",
              "    }\n",
              "\n",
              "    [theme=dark] .colab-df-convert {\n",
              "      background-color: #3B4455;\n",
              "      fill: #D2E3FC;\n",
              "    }\n",
              "\n",
              "    [theme=dark] .colab-df-convert:hover {\n",
              "      background-color: #434B5C;\n",
              "      box-shadow: 0px 1px 3px 1px rgba(0, 0, 0, 0.15);\n",
              "      filter: drop-shadow(0px 1px 2px rgba(0, 0, 0, 0.3));\n",
              "      fill: #FFFFFF;\n",
              "    }\n",
              "  </style>\n",
              "\n",
              "      <script>\n",
              "        const buttonEl =\n",
              "          document.querySelector('#df-1b2eb884-2c49-465c-b6d1-6b3af3182b74 button.colab-df-convert');\n",
              "        buttonEl.style.display =\n",
              "          google.colab.kernel.accessAllowed ? 'block' : 'none';\n",
              "\n",
              "        async function convertToInteractive(key) {\n",
              "          const element = document.querySelector('#df-1b2eb884-2c49-465c-b6d1-6b3af3182b74');\n",
              "          const dataTable =\n",
              "            await google.colab.kernel.invokeFunction('convertToInteractive',\n",
              "                                                     [key], {});\n",
              "          if (!dataTable) return;\n",
              "\n",
              "          const docLinkHtml = 'Like what you see? Visit the ' +\n",
              "            '<a target=\"_blank\" href=https://colab.research.google.com/notebooks/data_table.ipynb>data table notebook</a>'\n",
              "            + ' to learn more about interactive tables.';\n",
              "          element.innerHTML = '';\n",
              "          dataTable['output_type'] = 'display_data';\n",
              "          await google.colab.output.renderOutput(dataTable, element);\n",
              "          const docLink = document.createElement('div');\n",
              "          docLink.innerHTML = docLinkHtml;\n",
              "          element.appendChild(docLink);\n",
              "        }\n",
              "      </script>\n",
              "    </div>\n",
              "  </div>\n",
              "  "
            ]
          },
          "metadata": {},
          "execution_count": 140
        }
      ]
    },
    {
      "cell_type": "code",
      "source": [
        "df1.keys()"
      ],
      "metadata": {
        "colab": {
          "base_uri": "https://localhost:8080/"
        },
        "id": "frdTy8nzlUDr",
        "outputId": "70bc94a0-7b99-4a94-fe55-d42073f84575"
      },
      "execution_count": null,
      "outputs": [
        {
          "output_type": "execute_result",
          "data": {
            "text/plain": [
              "Index(['pos', 'NGA', 'NGV', 'G', 'F', 'C'], dtype='object')"
            ]
          },
          "metadata": {},
          "execution_count": 134
        }
      ]
    },
    {
      "cell_type": "code",
      "source": [
        "df3=pd.get_dummies(df1, columns = [\"F\"], prefix = 'P')\n",
        "df3"
      ],
      "metadata": {
        "colab": {
          "base_uri": "https://localhost:8080/",
          "height": 423
        },
        "id": "xUkDAiUOrmuU",
        "outputId": "faf34a70-85dd-48a2-efb1-9b029b0b9ea0"
      },
      "execution_count": null,
      "outputs": [
        {
          "output_type": "execute_result",
          "data": {
            "text/plain": [
              "      pos       NGA       NGV         G      C  P_Bearing Lubrification Fault  \\\n",
              "0     P1V  0.000659  0.000000  0.165129   None                              0   \n",
              "1     P1H  0.001067  0.000000  0.172528   None                              0   \n",
              "2     P2V  0.001307  0.000000  0.180150   None                              0   \n",
              "3     P2A  0.001421  0.000000  0.256356   None                              0   \n",
              "4     P1V  0.001521  0.000000  0.391828   None                              0   \n",
              "...   ...       ...       ...       ...    ...                            ...   \n",
              "1015  P2A  0.020090  0.884283  3.964699  Frame                              0   \n",
              "1016  P1V  0.020099  0.884285  3.964869  Frame                              0   \n",
              "1017  P1H  0.020106  0.884288  3.965581  Frame                              0   \n",
              "1018  P2V  0.020114  0.884291  3.966773  Frame                              0   \n",
              "1019  P2A  0.020125  0.884292  3.967091  Frame                              0   \n",
              "\n",
              "      P_Gear fault  P_Imbalance  P_Mechanical looseness  P_Misalignment  \\\n",
              "0                0            0                       0               0   \n",
              "1                0            0                       0               0   \n",
              "2                0            0                       0               0   \n",
              "3                0            0                       0               0   \n",
              "4                0            0                       0               0   \n",
              "...            ...          ...                     ...             ...   \n",
              "1015             0            0                       0               0   \n",
              "1016             0            0                       0               0   \n",
              "1017             0            0                       0               0   \n",
              "1018             0            0                       0               0   \n",
              "1019             0            0                       0               0   \n",
              "\n",
              "      P_Normal  P_Structural Fault  \n",
              "0            1                   0  \n",
              "1            1                   0  \n",
              "2            1                   0  \n",
              "3            1                   0  \n",
              "4            1                   0  \n",
              "...        ...                 ...  \n",
              "1015         0                   1  \n",
              "1016         0                   1  \n",
              "1017         0                   1  \n",
              "1018         0                   1  \n",
              "1019         0                   1  \n",
              "\n",
              "[1020 rows x 12 columns]"
            ],
            "text/html": [
              "\n",
              "  <div id=\"df-afe61452-0d4f-4f09-92cd-d14e9665c383\">\n",
              "    <div class=\"colab-df-container\">\n",
              "      <div>\n",
              "<style scoped>\n",
              "    .dataframe tbody tr th:only-of-type {\n",
              "        vertical-align: middle;\n",
              "    }\n",
              "\n",
              "    .dataframe tbody tr th {\n",
              "        vertical-align: top;\n",
              "    }\n",
              "\n",
              "    .dataframe thead th {\n",
              "        text-align: right;\n",
              "    }\n",
              "</style>\n",
              "<table border=\"1\" class=\"dataframe\">\n",
              "  <thead>\n",
              "    <tr style=\"text-align: right;\">\n",
              "      <th></th>\n",
              "      <th>pos</th>\n",
              "      <th>NGA</th>\n",
              "      <th>NGV</th>\n",
              "      <th>G</th>\n",
              "      <th>C</th>\n",
              "      <th>P_Bearing Lubrification Fault</th>\n",
              "      <th>P_Gear fault</th>\n",
              "      <th>P_Imbalance</th>\n",
              "      <th>P_Mechanical looseness</th>\n",
              "      <th>P_Misalignment</th>\n",
              "      <th>P_Normal</th>\n",
              "      <th>P_Structural Fault</th>\n",
              "    </tr>\n",
              "  </thead>\n",
              "  <tbody>\n",
              "    <tr>\n",
              "      <th>0</th>\n",
              "      <td>P1V</td>\n",
              "      <td>0.000659</td>\n",
              "      <td>0.000000</td>\n",
              "      <td>0.165129</td>\n",
              "      <td>None</td>\n",
              "      <td>0</td>\n",
              "      <td>0</td>\n",
              "      <td>0</td>\n",
              "      <td>0</td>\n",
              "      <td>0</td>\n",
              "      <td>1</td>\n",
              "      <td>0</td>\n",
              "    </tr>\n",
              "    <tr>\n",
              "      <th>1</th>\n",
              "      <td>P1H</td>\n",
              "      <td>0.001067</td>\n",
              "      <td>0.000000</td>\n",
              "      <td>0.172528</td>\n",
              "      <td>None</td>\n",
              "      <td>0</td>\n",
              "      <td>0</td>\n",
              "      <td>0</td>\n",
              "      <td>0</td>\n",
              "      <td>0</td>\n",
              "      <td>1</td>\n",
              "      <td>0</td>\n",
              "    </tr>\n",
              "    <tr>\n",
              "      <th>2</th>\n",
              "      <td>P2V</td>\n",
              "      <td>0.001307</td>\n",
              "      <td>0.000000</td>\n",
              "      <td>0.180150</td>\n",
              "      <td>None</td>\n",
              "      <td>0</td>\n",
              "      <td>0</td>\n",
              "      <td>0</td>\n",
              "      <td>0</td>\n",
              "      <td>0</td>\n",
              "      <td>1</td>\n",
              "      <td>0</td>\n",
              "    </tr>\n",
              "    <tr>\n",
              "      <th>3</th>\n",
              "      <td>P2A</td>\n",
              "      <td>0.001421</td>\n",
              "      <td>0.000000</td>\n",
              "      <td>0.256356</td>\n",
              "      <td>None</td>\n",
              "      <td>0</td>\n",
              "      <td>0</td>\n",
              "      <td>0</td>\n",
              "      <td>0</td>\n",
              "      <td>0</td>\n",
              "      <td>1</td>\n",
              "      <td>0</td>\n",
              "    </tr>\n",
              "    <tr>\n",
              "      <th>4</th>\n",
              "      <td>P1V</td>\n",
              "      <td>0.001521</td>\n",
              "      <td>0.000000</td>\n",
              "      <td>0.391828</td>\n",
              "      <td>None</td>\n",
              "      <td>0</td>\n",
              "      <td>0</td>\n",
              "      <td>0</td>\n",
              "      <td>0</td>\n",
              "      <td>0</td>\n",
              "      <td>1</td>\n",
              "      <td>0</td>\n",
              "    </tr>\n",
              "    <tr>\n",
              "      <th>...</th>\n",
              "      <td>...</td>\n",
              "      <td>...</td>\n",
              "      <td>...</td>\n",
              "      <td>...</td>\n",
              "      <td>...</td>\n",
              "      <td>...</td>\n",
              "      <td>...</td>\n",
              "      <td>...</td>\n",
              "      <td>...</td>\n",
              "      <td>...</td>\n",
              "      <td>...</td>\n",
              "      <td>...</td>\n",
              "    </tr>\n",
              "    <tr>\n",
              "      <th>1015</th>\n",
              "      <td>P2A</td>\n",
              "      <td>0.020090</td>\n",
              "      <td>0.884283</td>\n",
              "      <td>3.964699</td>\n",
              "      <td>Frame</td>\n",
              "      <td>0</td>\n",
              "      <td>0</td>\n",
              "      <td>0</td>\n",
              "      <td>0</td>\n",
              "      <td>0</td>\n",
              "      <td>0</td>\n",
              "      <td>1</td>\n",
              "    </tr>\n",
              "    <tr>\n",
              "      <th>1016</th>\n",
              "      <td>P1V</td>\n",
              "      <td>0.020099</td>\n",
              "      <td>0.884285</td>\n",
              "      <td>3.964869</td>\n",
              "      <td>Frame</td>\n",
              "      <td>0</td>\n",
              "      <td>0</td>\n",
              "      <td>0</td>\n",
              "      <td>0</td>\n",
              "      <td>0</td>\n",
              "      <td>0</td>\n",
              "      <td>1</td>\n",
              "    </tr>\n",
              "    <tr>\n",
              "      <th>1017</th>\n",
              "      <td>P1H</td>\n",
              "      <td>0.020106</td>\n",
              "      <td>0.884288</td>\n",
              "      <td>3.965581</td>\n",
              "      <td>Frame</td>\n",
              "      <td>0</td>\n",
              "      <td>0</td>\n",
              "      <td>0</td>\n",
              "      <td>0</td>\n",
              "      <td>0</td>\n",
              "      <td>0</td>\n",
              "      <td>1</td>\n",
              "    </tr>\n",
              "    <tr>\n",
              "      <th>1018</th>\n",
              "      <td>P2V</td>\n",
              "      <td>0.020114</td>\n",
              "      <td>0.884291</td>\n",
              "      <td>3.966773</td>\n",
              "      <td>Frame</td>\n",
              "      <td>0</td>\n",
              "      <td>0</td>\n",
              "      <td>0</td>\n",
              "      <td>0</td>\n",
              "      <td>0</td>\n",
              "      <td>0</td>\n",
              "      <td>1</td>\n",
              "    </tr>\n",
              "    <tr>\n",
              "      <th>1019</th>\n",
              "      <td>P2A</td>\n",
              "      <td>0.020125</td>\n",
              "      <td>0.884292</td>\n",
              "      <td>3.967091</td>\n",
              "      <td>Frame</td>\n",
              "      <td>0</td>\n",
              "      <td>0</td>\n",
              "      <td>0</td>\n",
              "      <td>0</td>\n",
              "      <td>0</td>\n",
              "      <td>0</td>\n",
              "      <td>1</td>\n",
              "    </tr>\n",
              "  </tbody>\n",
              "</table>\n",
              "<p>1020 rows × 12 columns</p>\n",
              "</div>\n",
              "      <button class=\"colab-df-convert\" onclick=\"convertToInteractive('df-afe61452-0d4f-4f09-92cd-d14e9665c383')\"\n",
              "              title=\"Convert this dataframe to an interactive table.\"\n",
              "              style=\"display:none;\">\n",
              "        \n",
              "  <svg xmlns=\"http://www.w3.org/2000/svg\" height=\"24px\"viewBox=\"0 0 24 24\"\n",
              "       width=\"24px\">\n",
              "    <path d=\"M0 0h24v24H0V0z\" fill=\"none\"/>\n",
              "    <path d=\"M18.56 5.44l.94 2.06.94-2.06 2.06-.94-2.06-.94-.94-2.06-.94 2.06-2.06.94zm-11 1L8.5 8.5l.94-2.06 2.06-.94-2.06-.94L8.5 2.5l-.94 2.06-2.06.94zm10 10l.94 2.06.94-2.06 2.06-.94-2.06-.94-.94-2.06-.94 2.06-2.06.94z\"/><path d=\"M17.41 7.96l-1.37-1.37c-.4-.4-.92-.59-1.43-.59-.52 0-1.04.2-1.43.59L10.3 9.45l-7.72 7.72c-.78.78-.78 2.05 0 2.83L4 21.41c.39.39.9.59 1.41.59.51 0 1.02-.2 1.41-.59l7.78-7.78 2.81-2.81c.8-.78.8-2.07 0-2.86zM5.41 20L4 18.59l7.72-7.72 1.47 1.35L5.41 20z\"/>\n",
              "  </svg>\n",
              "      </button>\n",
              "      \n",
              "  <style>\n",
              "    .colab-df-container {\n",
              "      display:flex;\n",
              "      flex-wrap:wrap;\n",
              "      gap: 12px;\n",
              "    }\n",
              "\n",
              "    .colab-df-convert {\n",
              "      background-color: #E8F0FE;\n",
              "      border: none;\n",
              "      border-radius: 50%;\n",
              "      cursor: pointer;\n",
              "      display: none;\n",
              "      fill: #1967D2;\n",
              "      height: 32px;\n",
              "      padding: 0 0 0 0;\n",
              "      width: 32px;\n",
              "    }\n",
              "\n",
              "    .colab-df-convert:hover {\n",
              "      background-color: #E2EBFA;\n",
              "      box-shadow: 0px 1px 2px rgba(60, 64, 67, 0.3), 0px 1px 3px 1px rgba(60, 64, 67, 0.15);\n",
              "      fill: #174EA6;\n",
              "    }\n",
              "\n",
              "    [theme=dark] .colab-df-convert {\n",
              "      background-color: #3B4455;\n",
              "      fill: #D2E3FC;\n",
              "    }\n",
              "\n",
              "    [theme=dark] .colab-df-convert:hover {\n",
              "      background-color: #434B5C;\n",
              "      box-shadow: 0px 1px 3px 1px rgba(0, 0, 0, 0.15);\n",
              "      filter: drop-shadow(0px 1px 2px rgba(0, 0, 0, 0.3));\n",
              "      fill: #FFFFFF;\n",
              "    }\n",
              "  </style>\n",
              "\n",
              "      <script>\n",
              "        const buttonEl =\n",
              "          document.querySelector('#df-afe61452-0d4f-4f09-92cd-d14e9665c383 button.colab-df-convert');\n",
              "        buttonEl.style.display =\n",
              "          google.colab.kernel.accessAllowed ? 'block' : 'none';\n",
              "\n",
              "        async function convertToInteractive(key) {\n",
              "          const element = document.querySelector('#df-afe61452-0d4f-4f09-92cd-d14e9665c383');\n",
              "          const dataTable =\n",
              "            await google.colab.kernel.invokeFunction('convertToInteractive',\n",
              "                                                     [key], {});\n",
              "          if (!dataTable) return;\n",
              "\n",
              "          const docLinkHtml = 'Like what you see? Visit the ' +\n",
              "            '<a target=\"_blank\" href=https://colab.research.google.com/notebooks/data_table.ipynb>data table notebook</a>'\n",
              "            + ' to learn more about interactive tables.';\n",
              "          element.innerHTML = '';\n",
              "          dataTable['output_type'] = 'display_data';\n",
              "          await google.colab.output.renderOutput(dataTable, element);\n",
              "          const docLink = document.createElement('div');\n",
              "          docLink.innerHTML = docLinkHtml;\n",
              "          element.appendChild(docLink);\n",
              "        }\n",
              "      </script>\n",
              "    </div>\n",
              "  </div>\n",
              "  "
            ]
          },
          "metadata": {},
          "execution_count": 145
        }
      ]
    },
    {
      "cell_type": "code",
      "source": [
        "df3.pop(\"pos\")"
      ],
      "metadata": {
        "colab": {
          "base_uri": "https://localhost:8080/"
        },
        "id": "qLhMPe-i0ezO",
        "outputId": "ceb79024-9b89-413b-baa0-66b4c7d809a4"
      },
      "execution_count": null,
      "outputs": [
        {
          "output_type": "execute_result",
          "data": {
            "text/plain": [
              "0       P1V\n",
              "1       P1H\n",
              "2       P2V\n",
              "3       P2A\n",
              "4       P1V\n",
              "       ... \n",
              "1015    P2A\n",
              "1016    P1V\n",
              "1017    P1H\n",
              "1018    P2V\n",
              "1019    P2A\n",
              "Name: pos, Length: 1020, dtype: object"
            ]
          },
          "metadata": {},
          "execution_count": 146
        }
      ]
    },
    {
      "cell_type": "code",
      "source": [
        "df3.pop(\"C\")"
      ],
      "metadata": {
        "colab": {
          "base_uri": "https://localhost:8080/"
        },
        "id": "Kb5F8JlP0tAl",
        "outputId": "fad0b4e1-ada1-4f0b-9499-b6a0c4cb8f02"
      },
      "execution_count": null,
      "outputs": [
        {
          "output_type": "execute_result",
          "data": {
            "text/plain": [
              "0        None\n",
              "1        None\n",
              "2        None\n",
              "3        None\n",
              "4        None\n",
              "        ...  \n",
              "1015    Frame\n",
              "1016    Frame\n",
              "1017    Frame\n",
              "1018    Frame\n",
              "1019    Frame\n",
              "Name: C, Length: 1020, dtype: object"
            ]
          },
          "metadata": {},
          "execution_count": 148
        }
      ]
    },
    {
      "cell_type": "code",
      "source": [
        "df3"
      ],
      "metadata": {
        "colab": {
          "base_uri": "https://localhost:8080/",
          "height": 423
        },
        "id": "I4vEFpaJ09uZ",
        "outputId": "f24e949b-138b-439b-b66e-8d72d01c47df"
      },
      "execution_count": null,
      "outputs": [
        {
          "output_type": "execute_result",
          "data": {
            "text/plain": [
              "           NGA       NGV         G  P_Bearing Lubrification Fault  \\\n",
              "0     0.000659  0.000000  0.165129                              0   \n",
              "1     0.001067  0.000000  0.172528                              0   \n",
              "2     0.001307  0.000000  0.180150                              0   \n",
              "3     0.001421  0.000000  0.256356                              0   \n",
              "4     0.001521  0.000000  0.391828                              0   \n",
              "...        ...       ...       ...                            ...   \n",
              "1015  0.020090  0.884283  3.964699                              0   \n",
              "1016  0.020099  0.884285  3.964869                              0   \n",
              "1017  0.020106  0.884288  3.965581                              0   \n",
              "1018  0.020114  0.884291  3.966773                              0   \n",
              "1019  0.020125  0.884292  3.967091                              0   \n",
              "\n",
              "      P_Gear fault  P_Imbalance  P_Mechanical looseness  P_Misalignment  \\\n",
              "0                0            0                       0               0   \n",
              "1                0            0                       0               0   \n",
              "2                0            0                       0               0   \n",
              "3                0            0                       0               0   \n",
              "4                0            0                       0               0   \n",
              "...            ...          ...                     ...             ...   \n",
              "1015             0            0                       0               0   \n",
              "1016             0            0                       0               0   \n",
              "1017             0            0                       0               0   \n",
              "1018             0            0                       0               0   \n",
              "1019             0            0                       0               0   \n",
              "\n",
              "      P_Normal  P_Structural Fault  \n",
              "0            1                   0  \n",
              "1            1                   0  \n",
              "2            1                   0  \n",
              "3            1                   0  \n",
              "4            1                   0  \n",
              "...        ...                 ...  \n",
              "1015         0                   1  \n",
              "1016         0                   1  \n",
              "1017         0                   1  \n",
              "1018         0                   1  \n",
              "1019         0                   1  \n",
              "\n",
              "[1020 rows x 10 columns]"
            ],
            "text/html": [
              "\n",
              "  <div id=\"df-1a9f55f5-f2ad-4e5c-b4f1-fa40eccbb5c4\">\n",
              "    <div class=\"colab-df-container\">\n",
              "      <div>\n",
              "<style scoped>\n",
              "    .dataframe tbody tr th:only-of-type {\n",
              "        vertical-align: middle;\n",
              "    }\n",
              "\n",
              "    .dataframe tbody tr th {\n",
              "        vertical-align: top;\n",
              "    }\n",
              "\n",
              "    .dataframe thead th {\n",
              "        text-align: right;\n",
              "    }\n",
              "</style>\n",
              "<table border=\"1\" class=\"dataframe\">\n",
              "  <thead>\n",
              "    <tr style=\"text-align: right;\">\n",
              "      <th></th>\n",
              "      <th>NGA</th>\n",
              "      <th>NGV</th>\n",
              "      <th>G</th>\n",
              "      <th>P_Bearing Lubrification Fault</th>\n",
              "      <th>P_Gear fault</th>\n",
              "      <th>P_Imbalance</th>\n",
              "      <th>P_Mechanical looseness</th>\n",
              "      <th>P_Misalignment</th>\n",
              "      <th>P_Normal</th>\n",
              "      <th>P_Structural Fault</th>\n",
              "    </tr>\n",
              "  </thead>\n",
              "  <tbody>\n",
              "    <tr>\n",
              "      <th>0</th>\n",
              "      <td>0.000659</td>\n",
              "      <td>0.000000</td>\n",
              "      <td>0.165129</td>\n",
              "      <td>0</td>\n",
              "      <td>0</td>\n",
              "      <td>0</td>\n",
              "      <td>0</td>\n",
              "      <td>0</td>\n",
              "      <td>1</td>\n",
              "      <td>0</td>\n",
              "    </tr>\n",
              "    <tr>\n",
              "      <th>1</th>\n",
              "      <td>0.001067</td>\n",
              "      <td>0.000000</td>\n",
              "      <td>0.172528</td>\n",
              "      <td>0</td>\n",
              "      <td>0</td>\n",
              "      <td>0</td>\n",
              "      <td>0</td>\n",
              "      <td>0</td>\n",
              "      <td>1</td>\n",
              "      <td>0</td>\n",
              "    </tr>\n",
              "    <tr>\n",
              "      <th>2</th>\n",
              "      <td>0.001307</td>\n",
              "      <td>0.000000</td>\n",
              "      <td>0.180150</td>\n",
              "      <td>0</td>\n",
              "      <td>0</td>\n",
              "      <td>0</td>\n",
              "      <td>0</td>\n",
              "      <td>0</td>\n",
              "      <td>1</td>\n",
              "      <td>0</td>\n",
              "    </tr>\n",
              "    <tr>\n",
              "      <th>3</th>\n",
              "      <td>0.001421</td>\n",
              "      <td>0.000000</td>\n",
              "      <td>0.256356</td>\n",
              "      <td>0</td>\n",
              "      <td>0</td>\n",
              "      <td>0</td>\n",
              "      <td>0</td>\n",
              "      <td>0</td>\n",
              "      <td>1</td>\n",
              "      <td>0</td>\n",
              "    </tr>\n",
              "    <tr>\n",
              "      <th>4</th>\n",
              "      <td>0.001521</td>\n",
              "      <td>0.000000</td>\n",
              "      <td>0.391828</td>\n",
              "      <td>0</td>\n",
              "      <td>0</td>\n",
              "      <td>0</td>\n",
              "      <td>0</td>\n",
              "      <td>0</td>\n",
              "      <td>1</td>\n",
              "      <td>0</td>\n",
              "    </tr>\n",
              "    <tr>\n",
              "      <th>...</th>\n",
              "      <td>...</td>\n",
              "      <td>...</td>\n",
              "      <td>...</td>\n",
              "      <td>...</td>\n",
              "      <td>...</td>\n",
              "      <td>...</td>\n",
              "      <td>...</td>\n",
              "      <td>...</td>\n",
              "      <td>...</td>\n",
              "      <td>...</td>\n",
              "    </tr>\n",
              "    <tr>\n",
              "      <th>1015</th>\n",
              "      <td>0.020090</td>\n",
              "      <td>0.884283</td>\n",
              "      <td>3.964699</td>\n",
              "      <td>0</td>\n",
              "      <td>0</td>\n",
              "      <td>0</td>\n",
              "      <td>0</td>\n",
              "      <td>0</td>\n",
              "      <td>0</td>\n",
              "      <td>1</td>\n",
              "    </tr>\n",
              "    <tr>\n",
              "      <th>1016</th>\n",
              "      <td>0.020099</td>\n",
              "      <td>0.884285</td>\n",
              "      <td>3.964869</td>\n",
              "      <td>0</td>\n",
              "      <td>0</td>\n",
              "      <td>0</td>\n",
              "      <td>0</td>\n",
              "      <td>0</td>\n",
              "      <td>0</td>\n",
              "      <td>1</td>\n",
              "    </tr>\n",
              "    <tr>\n",
              "      <th>1017</th>\n",
              "      <td>0.020106</td>\n",
              "      <td>0.884288</td>\n",
              "      <td>3.965581</td>\n",
              "      <td>0</td>\n",
              "      <td>0</td>\n",
              "      <td>0</td>\n",
              "      <td>0</td>\n",
              "      <td>0</td>\n",
              "      <td>0</td>\n",
              "      <td>1</td>\n",
              "    </tr>\n",
              "    <tr>\n",
              "      <th>1018</th>\n",
              "      <td>0.020114</td>\n",
              "      <td>0.884291</td>\n",
              "      <td>3.966773</td>\n",
              "      <td>0</td>\n",
              "      <td>0</td>\n",
              "      <td>0</td>\n",
              "      <td>0</td>\n",
              "      <td>0</td>\n",
              "      <td>0</td>\n",
              "      <td>1</td>\n",
              "    </tr>\n",
              "    <tr>\n",
              "      <th>1019</th>\n",
              "      <td>0.020125</td>\n",
              "      <td>0.884292</td>\n",
              "      <td>3.967091</td>\n",
              "      <td>0</td>\n",
              "      <td>0</td>\n",
              "      <td>0</td>\n",
              "      <td>0</td>\n",
              "      <td>0</td>\n",
              "      <td>0</td>\n",
              "      <td>1</td>\n",
              "    </tr>\n",
              "  </tbody>\n",
              "</table>\n",
              "<p>1020 rows × 10 columns</p>\n",
              "</div>\n",
              "      <button class=\"colab-df-convert\" onclick=\"convertToInteractive('df-1a9f55f5-f2ad-4e5c-b4f1-fa40eccbb5c4')\"\n",
              "              title=\"Convert this dataframe to an interactive table.\"\n",
              "              style=\"display:none;\">\n",
              "        \n",
              "  <svg xmlns=\"http://www.w3.org/2000/svg\" height=\"24px\"viewBox=\"0 0 24 24\"\n",
              "       width=\"24px\">\n",
              "    <path d=\"M0 0h24v24H0V0z\" fill=\"none\"/>\n",
              "    <path d=\"M18.56 5.44l.94 2.06.94-2.06 2.06-.94-2.06-.94-.94-2.06-.94 2.06-2.06.94zm-11 1L8.5 8.5l.94-2.06 2.06-.94-2.06-.94L8.5 2.5l-.94 2.06-2.06.94zm10 10l.94 2.06.94-2.06 2.06-.94-2.06-.94-.94-2.06-.94 2.06-2.06.94z\"/><path d=\"M17.41 7.96l-1.37-1.37c-.4-.4-.92-.59-1.43-.59-.52 0-1.04.2-1.43.59L10.3 9.45l-7.72 7.72c-.78.78-.78 2.05 0 2.83L4 21.41c.39.39.9.59 1.41.59.51 0 1.02-.2 1.41-.59l7.78-7.78 2.81-2.81c.8-.78.8-2.07 0-2.86zM5.41 20L4 18.59l7.72-7.72 1.47 1.35L5.41 20z\"/>\n",
              "  </svg>\n",
              "      </button>\n",
              "      \n",
              "  <style>\n",
              "    .colab-df-container {\n",
              "      display:flex;\n",
              "      flex-wrap:wrap;\n",
              "      gap: 12px;\n",
              "    }\n",
              "\n",
              "    .colab-df-convert {\n",
              "      background-color: #E8F0FE;\n",
              "      border: none;\n",
              "      border-radius: 50%;\n",
              "      cursor: pointer;\n",
              "      display: none;\n",
              "      fill: #1967D2;\n",
              "      height: 32px;\n",
              "      padding: 0 0 0 0;\n",
              "      width: 32px;\n",
              "    }\n",
              "\n",
              "    .colab-df-convert:hover {\n",
              "      background-color: #E2EBFA;\n",
              "      box-shadow: 0px 1px 2px rgba(60, 64, 67, 0.3), 0px 1px 3px 1px rgba(60, 64, 67, 0.15);\n",
              "      fill: #174EA6;\n",
              "    }\n",
              "\n",
              "    [theme=dark] .colab-df-convert {\n",
              "      background-color: #3B4455;\n",
              "      fill: #D2E3FC;\n",
              "    }\n",
              "\n",
              "    [theme=dark] .colab-df-convert:hover {\n",
              "      background-color: #434B5C;\n",
              "      box-shadow: 0px 1px 3px 1px rgba(0, 0, 0, 0.15);\n",
              "      filter: drop-shadow(0px 1px 2px rgba(0, 0, 0, 0.3));\n",
              "      fill: #FFFFFF;\n",
              "    }\n",
              "  </style>\n",
              "\n",
              "      <script>\n",
              "        const buttonEl =\n",
              "          document.querySelector('#df-1a9f55f5-f2ad-4e5c-b4f1-fa40eccbb5c4 button.colab-df-convert');\n",
              "        buttonEl.style.display =\n",
              "          google.colab.kernel.accessAllowed ? 'block' : 'none';\n",
              "\n",
              "        async function convertToInteractive(key) {\n",
              "          const element = document.querySelector('#df-1a9f55f5-f2ad-4e5c-b4f1-fa40eccbb5c4');\n",
              "          const dataTable =\n",
              "            await google.colab.kernel.invokeFunction('convertToInteractive',\n",
              "                                                     [key], {});\n",
              "          if (!dataTable) return;\n",
              "\n",
              "          const docLinkHtml = 'Like what you see? Visit the ' +\n",
              "            '<a target=\"_blank\" href=https://colab.research.google.com/notebooks/data_table.ipynb>data table notebook</a>'\n",
              "            + ' to learn more about interactive tables.';\n",
              "          element.innerHTML = '';\n",
              "          dataTable['output_type'] = 'display_data';\n",
              "          await google.colab.output.renderOutput(dataTable, element);\n",
              "          const docLink = document.createElement('div');\n",
              "          docLink.innerHTML = docLinkHtml;\n",
              "          element.appendChild(docLink);\n",
              "        }\n",
              "      </script>\n",
              "    </div>\n",
              "  </div>\n",
              "  "
            ]
          },
          "metadata": {},
          "execution_count": 149
        }
      ]
    },
    {
      "cell_type": "code",
      "source": [
        "X_features=pd.DataFrame(np.c_[df3['NGA'],df3['NGV'],df3['G']], columns = ['NGA', 'NGV', 'G'])"
      ],
      "metadata": {
        "id": "g_teDmuv1EOQ"
      },
      "execution_count": null,
      "outputs": []
    },
    {
      "cell_type": "code",
      "source": [
        "Y = df3[['P_Bearing Lubrification Fault', 'P_Gear fault', 'P_Imbalance','P_Mechanical looseness','P_Misalignment', 'P_Normal', 'P_Structural Fault']]"
      ],
      "metadata": {
        "id": "ikHxIGUR3H2R"
      },
      "execution_count": null,
      "outputs": []
    },
    {
      "cell_type": "code",
      "source": [
        "X_train,X_test,y_train,y_test = train_test_split(X_features,Y,test_size=0.3,random_state=42)"
      ],
      "metadata": {
        "id": "nG7P2H-t39CW"
      },
      "execution_count": null,
      "outputs": []
    },
    {
      "cell_type": "code",
      "source": [
        "categories = ['P_Bearing Lubrification Fault', 'P_Gear fault', 'P_Imbalance','P_Mechanical looseness','P_Misalignment', 'P_Normal', 'P_Structural Fault']"
      ],
      "metadata": {
        "id": "ihD5jndw5KTJ"
      },
      "execution_count": null,
      "outputs": []
    },
    {
      "cell_type": "code",
      "source": [
        "pip install scikit-multilearn"
      ],
      "metadata": {
        "colab": {
          "base_uri": "https://localhost:8080/"
        },
        "id": "acI3Fsz16Yc6",
        "outputId": "b3c0aa81-7229-419c-9c38-97e6234dec51"
      },
      "execution_count": null,
      "outputs": [
        {
          "output_type": "stream",
          "name": "stdout",
          "text": [
            "Collecting scikit-multilearn\n",
            "  Downloading scikit_multilearn-0.2.0-py3-none-any.whl (89 kB)\n",
            "\u001b[?25l\r\u001b[K     |███▊                            | 10 kB 17.2 MB/s eta 0:00:01\r\u001b[K     |███████▍                        | 20 kB 20.1 MB/s eta 0:00:01\r\u001b[K     |███████████                     | 30 kB 23.0 MB/s eta 0:00:01\r\u001b[K     |██████████████▊                 | 40 kB 18.3 MB/s eta 0:00:01\r\u001b[K     |██████████████████▍             | 51 kB 14.2 MB/s eta 0:00:01\r\u001b[K     |██████████████████████          | 61 kB 16.1 MB/s eta 0:00:01\r\u001b[K     |█████████████████████████▊      | 71 kB 16.2 MB/s eta 0:00:01\r\u001b[K     |█████████████████████████████▍  | 81 kB 17.1 MB/s eta 0:00:01\r\u001b[K     |████████████████████████████████| 89 kB 5.2 MB/s \n",
            "\u001b[?25hInstalling collected packages: scikit-multilearn\n",
            "Successfully installed scikit-multilearn-0.2.0\n"
          ]
        }
      ]
    },
    {
      "cell_type": "code",
      "source": [
        "# using binary relevance\n",
        "from skmultilearn.problem_transform import BinaryRelevance\n",
        "from sklearn.naive_bayes import GaussianNB"
      ],
      "metadata": {
        "id": "tw1IVFxm5Fvc"
      },
      "execution_count": null,
      "outputs": []
    },
    {
      "cell_type": "code",
      "source": [
        "# initialize binary relevance multi-label classifier\n",
        "# with a gaussian naive bayes base classifier\n",
        "classifier = BinaryRelevance(GaussianNB())"
      ],
      "metadata": {
        "id": "KnmCyJVH4GAD"
      },
      "execution_count": null,
      "outputs": []
    },
    {
      "cell_type": "code",
      "source": [
        "# train\n",
        "classifier.fit(X_train, y_train)"
      ],
      "metadata": {
        "colab": {
          "base_uri": "https://localhost:8080/"
        },
        "id": "q_Zeta-l6LCa",
        "outputId": "a5766aa7-8f16-4ed4-c94d-6f772df2a68c"
      },
      "execution_count": null,
      "outputs": [
        {
          "output_type": "execute_result",
          "data": {
            "text/plain": [
              "BinaryRelevance(classifier=GaussianNB(), require_dense=[True, True])"
            ]
          },
          "metadata": {},
          "execution_count": 160
        }
      ]
    },
    {
      "cell_type": "code",
      "source": [
        "# predict\n",
        "predictions = classifier.predict(X_test)"
      ],
      "metadata": {
        "colab": {
          "base_uri": "https://localhost:8080/"
        },
        "id": "jAbvsIdg6OR_",
        "outputId": "1dada684-735e-4741-a8e2-a8ccfd3cba56"
      },
      "execution_count": null,
      "outputs": [
        {
          "output_type": "stream",
          "name": "stderr",
          "text": [
            "/usr/local/lib/python3.7/dist-packages/sklearn/base.py:444: UserWarning: X has feature names, but GaussianNB was fitted without feature names\n",
            "  f\"X has feature names, but {self.__class__.__name__} was fitted without\"\n",
            "/usr/local/lib/python3.7/dist-packages/sklearn/base.py:444: UserWarning: X has feature names, but GaussianNB was fitted without feature names\n",
            "  f\"X has feature names, but {self.__class__.__name__} was fitted without\"\n",
            "/usr/local/lib/python3.7/dist-packages/sklearn/base.py:444: UserWarning: X has feature names, but GaussianNB was fitted without feature names\n",
            "  f\"X has feature names, but {self.__class__.__name__} was fitted without\"\n",
            "/usr/local/lib/python3.7/dist-packages/sklearn/base.py:444: UserWarning: X has feature names, but GaussianNB was fitted without feature names\n",
            "  f\"X has feature names, but {self.__class__.__name__} was fitted without\"\n",
            "/usr/local/lib/python3.7/dist-packages/sklearn/base.py:444: UserWarning: X has feature names, but GaussianNB was fitted without feature names\n",
            "  f\"X has feature names, but {self.__class__.__name__} was fitted without\"\n",
            "/usr/local/lib/python3.7/dist-packages/sklearn/base.py:444: UserWarning: X has feature names, but GaussianNB was fitted without feature names\n",
            "  f\"X has feature names, but {self.__class__.__name__} was fitted without\"\n",
            "/usr/local/lib/python3.7/dist-packages/sklearn/base.py:444: UserWarning: X has feature names, but GaussianNB was fitted without feature names\n",
            "  f\"X has feature names, but {self.__class__.__name__} was fitted without\"\n"
          ]
        }
      ]
    },
    {
      "cell_type": "code",
      "source": [
        "from sklearn.metrics import accuracy_score\n",
        "accuracy_score(y_test,predictions)"
      ],
      "metadata": {
        "colab": {
          "base_uri": "https://localhost:8080/"
        },
        "id": "z0uFDHbN60v7",
        "outputId": "4da40d62-a916-4e17-a05d-fd767253cb0c"
      },
      "execution_count": null,
      "outputs": [
        {
          "output_type": "execute_result",
          "data": {
            "text/plain": [
              "0.3954248366013072"
            ]
          },
          "metadata": {},
          "execution_count": 162
        }
      ]
    },
    {
      "cell_type": "code",
      "source": [
        "# using classifier chains\n",
        "from skmultilearn.problem_transform import ClassifierChain\n",
        "from sklearn.naive_bayes import GaussianNB\n",
        "\n",
        "# initialize classifier chains multi-label classifier\n",
        "# with a gaussian naive bayes base classifier\n",
        "classifier = ClassifierChain(GaussianNB())\n",
        "\n",
        "# train\n",
        "classifier.fit(X_train, y_train)\n",
        "\n",
        "# predict\n",
        "predictions = classifier.predict(X_test)\n",
        "\n",
        "accuracy_score(y_test,predictions)"
      ],
      "metadata": {
        "colab": {
          "base_uri": "https://localhost:8080/"
        },
        "id": "tfATU0aW7CVx",
        "outputId": "e2676894-8f9e-450b-8fab-d579e0a9a746"
      },
      "execution_count": null,
      "outputs": [
        {
          "output_type": "execute_result",
          "data": {
            "text/plain": [
              "0.4738562091503268"
            ]
          },
          "metadata": {},
          "execution_count": 163
        }
      ]
    },
    {
      "cell_type": "code",
      "source": [
        "# using Label Powerset\n",
        "from skmultilearn.problem_transform import LabelPowerset\n",
        "from sklearn.naive_bayes import GaussianNB\n",
        "\n",
        "# initialize Label Powerset multi-label classifier\n",
        "# with a gaussian naive bayes base classifier\n",
        "classifier = LabelPowerset(GaussianNB())\n",
        "\n",
        "# train\n",
        "classifier.fit(X_train, y_train)\n",
        "\n",
        "# predict\n",
        "predictions = classifier.predict(X_test)\n",
        "\n",
        "accuracy_score(y_test,predictions)"
      ],
      "metadata": {
        "colab": {
          "base_uri": "https://localhost:8080/"
        },
        "id": "fwnaNVB59CwS",
        "outputId": "096b94a0-6a6f-4bad-efd4-c254c34011dc"
      },
      "execution_count": null,
      "outputs": [
        {
          "output_type": "stream",
          "name": "stderr",
          "text": [
            "/usr/local/lib/python3.7/dist-packages/sklearn/base.py:444: UserWarning: X has feature names, but GaussianNB was fitted without feature names\n",
            "  f\"X has feature names, but {self.__class__.__name__} was fitted without\"\n"
          ]
        },
        {
          "output_type": "execute_result",
          "data": {
            "text/plain": [
              "0.7287581699346405"
            ]
          },
          "metadata": {},
          "execution_count": 166
        }
      ]
    },
    {
      "cell_type": "code",
      "source": [
        "!pip uninstall scikit-learn -y\n",
        "!pip install scikit-learn==0.24.1"
      ],
      "metadata": {
        "colab": {
          "base_uri": "https://localhost:8080/",
          "height": 346
        },
        "id": "_g4zqYAw9yKD",
        "outputId": "885f5219-bc06-4095-8127-b92316415f56"
      },
      "execution_count": null,
      "outputs": [
        {
          "output_type": "stream",
          "name": "stdout",
          "text": [
            "Found existing installation: scikit-learn 1.0.2\n",
            "Uninstalling scikit-learn-1.0.2:\n",
            "  Successfully uninstalled scikit-learn-1.0.2\n",
            "Collecting scikit-learn==0.24.1\n",
            "  Downloading scikit_learn-0.24.1-cp37-cp37m-manylinux2010_x86_64.whl (22.3 MB)\n",
            "\u001b[K     |████████████████████████████████| 22.3 MB 6.5 MB/s \n",
            "\u001b[?25hRequirement already satisfied: joblib>=0.11 in /usr/local/lib/python3.7/dist-packages (from scikit-learn==0.24.1) (1.1.0)\n",
            "Requirement already satisfied: threadpoolctl>=2.0.0 in /usr/local/lib/python3.7/dist-packages (from scikit-learn==0.24.1) (3.1.0)\n",
            "Requirement already satisfied: numpy>=1.13.3 in /usr/local/lib/python3.7/dist-packages (from scikit-learn==0.24.1) (1.21.5)\n",
            "Requirement already satisfied: scipy>=0.19.1 in /usr/local/lib/python3.7/dist-packages (from scikit-learn==0.24.1) (1.4.1)\n",
            "Installing collected packages: scikit-learn\n",
            "\u001b[31mERROR: pip's dependency resolver does not currently take into account all the packages that are installed. This behaviour is the source of the following dependency conflicts.\n",
            "yellowbrick 1.4 requires scikit-learn>=1.0.0, but you have scikit-learn 0.24.1 which is incompatible.\u001b[0m\n",
            "Successfully installed scikit-learn-0.24.1\n"
          ]
        },
        {
          "output_type": "display_data",
          "data": {
            "application/vnd.colab-display-data+json": {
              "pip_warning": {
                "packages": [
                  "sklearn"
                ]
              }
            }
          },
          "metadata": {}
        }
      ]
    },
    {
      "cell_type": "code",
      "source": [
        "#from skmultilearn.adapt import MLkNN\n",
        "\n",
        "#classifier = MLkNN(k=20)\n",
        "\n",
        "# train\n",
        "#classifier.fit(np.array(X_train), np.array(y_train))\n",
        "\n",
        "# predict\n",
        "#predictions = classifier.predict(X_test)\n",
        "\n",
        "#accuracy_score(y_test,predictions)"
      ],
      "metadata": {
        "id": "HhD7bu6u7y3M"
      },
      "execution_count": null,
      "outputs": []
    }
  ]
}